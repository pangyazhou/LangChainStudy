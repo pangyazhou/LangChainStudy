{
 "cells": [
  {
   "cell_type": "markdown",
   "source": [
    "## 表达式语言过程日志打印"
   ],
   "metadata": {
    "collapsed": false,
    "pycharm": {
     "name": "#%% md\n"
    }
   }
  },
  {
   "cell_type": "code",
   "execution_count": 2,
   "outputs": [],
   "source": [
    "from typing import Dict, Optional\n",
    "from langchain_core.runnables.utils import Input\n",
    "from langchain_core.runnables import Runnable, RunnableConfig\n",
    "from langchain_core.load import Serializable\n",
    "\n",
    "class StdOutputRunnable(Serializable, Runnable[Input, Input]):\n",
    "    @property\n",
    "    def lc_serializable(self) -> bool:\n",
    "        return True\n",
    "\n",
    "    def invoke(self, input: Dict, config: Optional[RunnableConfig] = None) -> Input:\n",
    "        print(input)\n",
    "        return self._call_with_config(lambda x: x, input, config)"
   ],
   "metadata": {
    "collapsed": false,
    "pycharm": {
     "name": "#%%\n"
    }
   }
  },
  {
   "cell_type": "markdown",
   "source": [
    "使用示例"
   ],
   "metadata": {
    "collapsed": false,
    "pycharm": {
     "name": "#%% md\n"
    }
   }
  },
  {
   "cell_type": "code",
   "execution_count": 3,
   "outputs": [
    {
     "name": "stdout",
     "output_type": "stream",
     "text": [
      "{'topic': 'history'}\n"
     ]
    },
    {
     "data": {
      "text/plain": "StringPromptValue(text='tell me a joke about history')"
     },
     "execution_count": 3,
     "metadata": {},
     "output_type": "execute_result"
    }
   ],
   "source": [
    "from langchain_core.prompts import PromptTemplate\n",
    "from langchain_core.runnables import RunnablePassthrough\n",
    "\n",
    "answer_prompt = PromptTemplate.from_template(\n",
    "    \"tell me a joke about {topic}\"\n",
    ")\n",
    "\n",
    "chain = {\"topic\": RunnablePassthrough()} | StdOutputRunnable() | answer_prompt\n",
    "\n",
    "chain.invoke(\"history\")"
   ],
   "metadata": {
    "collapsed": false,
    "pycharm": {
     "name": "#%%\n"
    }
   }
  }
 ],
 "metadata": {
  "kernelspec": {
   "display_name": "Python 3",
   "language": "python",
   "name": "python3"
  },
  "language_info": {
   "codemirror_mode": {
    "name": "ipython",
    "version": 2
   },
   "file_extension": ".py",
   "mimetype": "text/x-python",
   "name": "python",
   "nbconvert_exporter": "python",
   "pygments_lexer": "ipython2",
   "version": "2.7.6"
  }
 },
 "nbformat": 4,
 "nbformat_minor": 0
}