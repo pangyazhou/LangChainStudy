{
 "cells": [
  {
   "cell_type": "markdown",
   "source": [
    "## 数据源配置"
   ],
   "metadata": {
    "collapsed": false,
    "pycharm": {
     "name": "#%% md\n"
    }
   }
  },
  {
   "cell_type": "code",
   "execution_count": 71,
   "outputs": [
    {
     "name": "stdout",
     "output_type": "stream",
     "text": [
      "sqlite\n",
      "['Album', 'Artist', 'Customer', 'Employee', 'Genre', 'Invoice', 'InvoiceLine', 'MediaType', 'Playlist', 'PlaylistTrack', 'Track']\n"
     ]
    },
    {
     "data": {
      "text/plain": "\"[(1, 'AC/DC'), (2, 'Accept'), (3, 'Aerosmith'), (4, 'Alanis Morissette'), (5, 'Alice In Chains'), (6, 'Antônio Carlos Jobim'), (7, 'Apocalyptica'), (8, 'Audioslave'), (9, 'BackBeat'), (10, 'Billy Cobham')]\""
     },
     "execution_count": 71,
     "metadata": {},
     "output_type": "execute_result"
    }
   ],
   "source": [
    "from langchain_community.utilities import SQLDatabase\n",
    "\n",
    "db = SQLDatabase.from_uri(\"sqlite:///Chinook.db\")\n",
    "print(db.dialect)\n",
    "print(db.get_usable_table_names())\n",
    "db.run(\"SELECT * FROM Artist LIMIT 10;\")"
   ],
   "metadata": {
    "collapsed": false,
    "pycharm": {
     "name": "#%%\n"
    }
   }
  },
  {
   "cell_type": "code",
   "execution_count": 73,
   "outputs": [],
   "source": [
    "from typing import Dict, Optional\n",
    "from langchain_core.runnables.utils import Input\n",
    "from langchain_core.runnables import Runnable, RunnableConfig\n",
    "from langchain_core.load import Serializable\n",
    "\n",
    "class StdOutputRunnable(Serializable, Runnable[Input, Input]):\n",
    "    @property\n",
    "    def lc_serializable(self) -> bool:\n",
    "        return True\n",
    "\n",
    "    def invoke(self, input: Dict, config: Optional[RunnableConfig] = None) -> Input:\n",
    "        print(input)\n",
    "        return self._call_with_config(lambda x: x, input, config)"
   ],
   "metadata": {
    "collapsed": false,
    "pycharm": {
     "name": "#%%\n"
    }
   }
  },
  {
   "cell_type": "markdown",
   "source": [
    "## 多表查询"
   ],
   "metadata": {
    "collapsed": false,
    "pycharm": {
     "name": "#%% md\n"
    }
   }
  },
  {
   "cell_type": "code",
   "execution_count": 97,
   "outputs": [
    {
     "name": "stderr",
     "output_type": "stream",
     "text": [
      "DEBUG:httpx:load_ssl_context verify=True cert=None trust_env=True http2=False\n",
      "DEBUG:httpx:load_verify_locations cafile='D:\\\\dev\\\\miniconda3\\\\envs\\\\langchain\\\\lib\\\\site-packages\\\\certifi\\\\cacert.pem'\n",
      "DEBUG:httpx:load_ssl_context verify=True cert=None trust_env=True http2=False\n",
      "DEBUG:httpx:load_verify_locations cafile='D:\\\\dev\\\\miniconda3\\\\envs\\\\langchain\\\\lib\\\\site-packages\\\\certifi\\\\cacert.pem'\n",
      "DEBUG:httpx:load_ssl_context verify=True cert=None trust_env=True http2=False\n",
      "DEBUG:httpx:load_verify_locations cafile='D:\\\\dev\\\\miniconda3\\\\envs\\\\langchain\\\\lib\\\\site-packages\\\\certifi\\\\cacert.pem'\n",
      "DEBUG:httpx:load_ssl_context verify=True cert=None trust_env=True http2=False\n",
      "DEBUG:httpx:load_verify_locations cafile='D:\\\\dev\\\\miniconda3\\\\envs\\\\langchain\\\\lib\\\\site-packages\\\\certifi\\\\cacert.pem'\n",
      "DEBUG:httpx:load_ssl_context verify=True cert=None trust_env=True http2=False\n",
      "DEBUG:httpx:load_verify_locations cafile='D:\\\\dev\\\\miniconda3\\\\envs\\\\langchain\\\\lib\\\\site-packages\\\\certifi\\\\cacert.pem'\n",
      "DEBUG:httpx:load_ssl_context verify=True cert=None trust_env=True http2=False\n",
      "DEBUG:httpx:load_verify_locations cafile='D:\\\\dev\\\\miniconda3\\\\envs\\\\langchain\\\\lib\\\\site-packages\\\\certifi\\\\cacert.pem'\n",
      "DEBUG:openai._base_client:Request options: {'method': 'post', 'url': '/chat/completions', 'files': None, 'json_data': {'messages': [{'role': 'system', 'content': \"Return the names and schemas of ALL the SQL tables that MIGHT be relevant to the user question. The tables are:\\n\\nAlbum\\nArtist\\nCustomer\\nEmployee\\nGenre\\nInvoice\\nInvoiceLine\\nMediaType\\nPlaylist\\nPlaylistTrack\\nTrack\\n\\nRemember to include ALL POTENTIALLY RELEVANT tables, even if you're not sure that they're needed.\"}, {'role': 'user', 'content': 'What are all the genres of Alanis Morisette songs'}], 'model': 'gpt-3.5-turbo-1106', 'n': 1, 'stream': False, 'temperature': 0.0, 'tools': [{'type': 'function', 'function': {'name': 'Table', 'description': 'Table in SQL database.', 'parameters': {'type': 'object', 'properties': {'name': {'description': 'Name of table in SQL database.', 'type': 'string'}}, 'required': ['name']}}}]}}\n",
      "DEBUG:httpcore.connection:connect_tcp.started host='127.0.0.1' port=1089 local_address=None timeout=None socket_options=None\n",
      "DEBUG:httpcore.connection:connect_tcp.complete return_value=<httpcore._backends.sync.SyncStream object at 0x000001AF668D8F70>\n",
      "DEBUG:httpcore.http11:send_request_headers.started request=<Request [b'CONNECT']>\n",
      "DEBUG:httpcore.http11:send_request_headers.complete\n",
      "DEBUG:httpcore.http11:send_request_body.started request=<Request [b'CONNECT']>\n",
      "DEBUG:httpcore.http11:send_request_body.complete\n",
      "DEBUG:httpcore.http11:receive_response_headers.started request=<Request [b'CONNECT']>\n",
      "DEBUG:httpcore.http11:receive_response_headers.complete return_value=(b'HTTP/1.1', 200, b'Connection established', [])\n",
      "DEBUG:httpcore.proxy:start_tls.started ssl_context=<ssl.SSLContext object at 0x000001AF66991740> server_hostname='api.openai.com' timeout=None\n"
     ]
    },
    {
     "name": "stdout",
     "output_type": "stream",
     "text": [
      "Return the names and schemas of ALL the SQL tables that MIGHT be relevant to the user question. The tables are:\n",
      "\n",
      "Album\n",
      "Artist\n",
      "Customer\n",
      "Employee\n",
      "Genre\n",
      "Invoice\n",
      "InvoiceLine\n",
      "MediaType\n",
      "Playlist\n",
      "PlaylistTrack\n",
      "Track\n",
      "\n",
      "Remember to include ALL POTENTIALLY RELEVANT tables, even if you're not sure that they're needed.\n"
     ]
    },
    {
     "name": "stderr",
     "output_type": "stream",
     "text": [
      "DEBUG:httpcore.proxy:start_tls.complete return_value=<httpcore._backends.sync.SyncStream object at 0x000001AF668DF310>\n",
      "DEBUG:httpcore.http11:send_request_headers.started request=<Request [b'POST']>\n",
      "DEBUG:httpcore.http11:send_request_headers.complete\n",
      "DEBUG:httpcore.http11:send_request_body.started request=<Request [b'POST']>\n",
      "DEBUG:httpcore.http11:send_request_body.complete\n",
      "DEBUG:httpcore.http11:receive_response_headers.started request=<Request [b'POST']>\n",
      "DEBUG:httpcore.http11:receive_response_headers.complete return_value=(b'HTTP/1.1', 200, b'OK', [(b'Date', b'Thu, 22 Feb 2024 07:42:20 GMT'), (b'Content-Type', b'application/json'), (b'Transfer-Encoding', b'chunked'), (b'Connection', b'keep-alive'), (b'access-control-allow-origin', b'*'), (b'Cache-Control', b'no-cache, must-revalidate'), (b'openai-model', b'gpt-3.5-turbo-1106'), (b'openai-organization', b'user-afy5yzv93geh2cq6ef0fp6be'), (b'openai-processing-ms', b'33857'), (b'openai-version', b'2020-10-01'), (b'strict-transport-security', b'max-age=15724800; includeSubDomains'), (b'x-ratelimit-limit-requests', b'200'), (b'x-ratelimit-limit-tokens', b'40000'), (b'x-ratelimit-remaining-requests', b'189'), (b'x-ratelimit-remaining-tokens', b'39893'), (b'x-ratelimit-reset-requests', b'1h14m33.53s'), (b'x-ratelimit-reset-tokens', b'160ms'), (b'x-request-id', b'req_1638e63ff2d2af8620b21328f0be011e'), (b'CF-Cache-Status', b'DYNAMIC'), (b'Set-Cookie', b'__cf_bm=f11Rxz0cqUL7XoMOzTZ_KuFJ4_rNw7wuIAu70oxbBrU-1708587740-1.0-AYmsereQiycU/4f3ld/77fwcSuzXwFRfRnd9A1OPJE4FZv8cFOHFN8HPhimgXMQst3mftRh1wcaLfOVwe+DjhR4=; path=/; expires=Thu, 22-Feb-24 08:12:20 GMT; domain=.api.openai.com; HttpOnly; Secure; SameSite=None'), (b'Set-Cookie', b'_cfuvid=j0q46XFhCge1FyYAgapymXbJAez5Oy1VfpTlM28zObk-1708587740187-0.0-604800000; path=/; domain=.api.openai.com; HttpOnly; Secure; SameSite=None'), (b'Server', b'cloudflare'), (b'CF-RAY', b'859596aaed1f4053-SIN'), (b'Content-Encoding', b'br'), (b'alt-svc', b'h3=\":443\"; ma=86400')])\n",
      "INFO:httpx:HTTP Request: POST https://api.openai.com/v1/chat/completions \"HTTP/1.1 200 OK\"\n",
      "DEBUG:httpcore.http11:receive_response_body.started request=<Request [b'POST']>\n",
      "DEBUG:httpcore.http11:receive_response_body.complete\n",
      "DEBUG:httpcore.http11:response_closed.started\n",
      "DEBUG:httpcore.http11:response_closed.complete\n",
      "DEBUG:openai._base_client:HTTP Request: POST https://api.openai.com/v1/chat/completions \"200 OK\"\n"
     ]
    },
    {
     "data": {
      "text/plain": "[Table(name='Genre'), Table(name='Artist'), Table(name='Track')]"
     },
     "execution_count": 97,
     "metadata": {},
     "output_type": "execute_result"
    }
   ],
   "source": [
    "from langchain.chains.openai_tools import create_extraction_chain_pydantic\n",
    "from langchain_core.pydantic_v1 import BaseModel, Field\n",
    "from langchain_openai import ChatOpenAI\n",
    "import logging\n",
    "\n",
    "logging.basicConfig(level=logging.DEBUG)\n",
    "\n",
    "llm = ChatOpenAI(model=\"gpt-3.5-turbo-1106\", temperature=0)\n",
    "\n",
    "\n",
    "class Table(BaseModel):\n",
    "    \"\"\"Table in SQL database.\"\"\"\n",
    "\n",
    "    name: str = Field(description=\"Name of table in SQL database.\")\n",
    "    #schemas: str = Field(description=\"Schema of table in SQL database.\")\n",
    "\n",
    "\n",
    "table_names = \"\\n\".join(db.get_usable_table_names())\n",
    "system = f\"\"\"Return the names and schemas of ALL the SQL tables that MIGHT be relevant to the user question. \\\n",
    "The tables are:\n",
    "\n",
    "{table_names}\n",
    "\n",
    "Remember to include ALL POTENTIALLY RELEVANT tables, even if you're not sure that they're needed.\"\"\"\n",
    "print(system)\n",
    "table_chain = create_extraction_chain_pydantic(Table, llm, system_message=system)\n",
    "table_chain.invoke({\"input\": \"What are all the genres of Alanis Morisette songs\"})"
   ],
   "metadata": {
    "collapsed": false,
    "pycharm": {
     "name": "#%%\n"
    }
   }
  },
  {
   "cell_type": "code",
   "execution_count": 98,
   "outputs": [
    {
     "name": "stderr",
     "output_type": "stream",
     "text": [
      "DEBUG:openai._base_client:Request options: {'method': 'post', 'url': '/chat/completions', 'files': None, 'json_data': {'messages': [{'role': 'system', 'content': \"Return the names and schemas of ALL the SQL tables that MIGHT be relevant to the user question. The tables are:\\n\\nAlbum\\nArtist\\nCustomer\\nEmployee\\nGenre\\nInvoice\\nInvoiceLine\\nMediaType\\nPlaylist\\nPlaylistTrack\\nTrack\\n\\nRemember to include ALL POTENTIALLY RELEVANT tables, even if you're not sure that they're needed.\"}, {'role': 'user', 'content': 'What are all the genres of Alanis Morisette songs'}], 'model': 'gpt-3.5-turbo-1106', 'n': 1, 'stream': False, 'temperature': 0.0, 'tools': [{'type': 'function', 'function': {'name': 'Table', 'description': 'Table in SQL database.', 'parameters': {'type': 'object', 'properties': {'name': {'description': 'Name of table in SQL database.', 'type': 'string'}}, 'required': ['name']}}}]}}\n",
      "DEBUG:httpcore.connection:connect_tcp.started host='127.0.0.1' port=1089 local_address=None timeout=None socket_options=None\n",
      "DEBUG:httpcore.connection:connect_tcp.complete return_value=<httpcore._backends.sync.SyncStream object at 0x000001AF668DE8F0>\n",
      "DEBUG:httpcore.http11:send_request_headers.started request=<Request [b'CONNECT']>\n",
      "DEBUG:httpcore.http11:send_request_headers.complete\n",
      "DEBUG:httpcore.http11:send_request_body.started request=<Request [b'CONNECT']>\n",
      "DEBUG:httpcore.http11:send_request_body.complete\n",
      "DEBUG:httpcore.http11:receive_response_headers.started request=<Request [b'CONNECT']>\n",
      "DEBUG:httpcore.http11:receive_response_headers.complete return_value=(b'HTTP/1.1', 200, b'Connection established', [])\n",
      "DEBUG:httpcore.proxy:start_tls.started ssl_context=<ssl.SSLContext object at 0x000001AF66991740> server_hostname='api.openai.com' timeout=None\n",
      "DEBUG:httpcore.proxy:start_tls.complete return_value=<httpcore._backends.sync.SyncStream object at 0x000001AF668ED120>\n",
      "DEBUG:httpcore.http11:send_request_headers.started request=<Request [b'POST']>\n",
      "DEBUG:httpcore.http11:send_request_headers.complete\n",
      "DEBUG:httpcore.http11:send_request_body.started request=<Request [b'POST']>\n",
      "DEBUG:httpcore.http11:send_request_body.complete\n",
      "DEBUG:httpcore.http11:receive_response_headers.started request=<Request [b'POST']>\n",
      "DEBUG:httpcore.http11:receive_response_headers.complete return_value=(b'HTTP/1.1', 200, b'OK', [(b'Date', b'Thu, 22 Feb 2024 07:42:33 GMT'), (b'Content-Type', b'application/json'), (b'Transfer-Encoding', b'chunked'), (b'Connection', b'keep-alive'), (b'access-control-allow-origin', b'*'), (b'Cache-Control', b'no-cache, must-revalidate'), (b'openai-model', b'gpt-3.5-turbo-1106'), (b'openai-organization', b'user-afy5yzv93geh2cq6ef0fp6be'), (b'openai-processing-ms', b'1574'), (b'openai-version', b'2020-10-01'), (b'strict-transport-security', b'max-age=15724800; includeSubDomains'), (b'x-ratelimit-limit-requests', b'200'), (b'x-ratelimit-limit-tokens', b'40000'), (b'x-ratelimit-remaining-requests', b'188'), (b'x-ratelimit-remaining-tokens', b'39893'), (b'x-ratelimit-reset-requests', b'1h21m0.311s'), (b'x-ratelimit-reset-tokens', b'160ms'), (b'x-request-id', b'req_756041a4e79120e98720d09c7899ab06'), (b'CF-Cache-Status', b'DYNAMIC'), (b'Server', b'cloudflare'), (b'CF-RAY', b'859597c59c493f6e-SIN'), (b'Content-Encoding', b'br'), (b'alt-svc', b'h3=\":443\"; ma=86400')])\n",
      "INFO:httpx:HTTP Request: POST https://api.openai.com/v1/chat/completions \"HTTP/1.1 200 OK\"\n",
      "DEBUG:httpcore.http11:receive_response_body.started request=<Request [b'POST']>\n",
      "DEBUG:httpcore.http11:receive_response_body.complete\n",
      "DEBUG:httpcore.http11:response_closed.started\n",
      "DEBUG:httpcore.http11:response_closed.complete\n",
      "DEBUG:openai._base_client:HTTP Request: POST https://api.openai.com/v1/chat/completions \"200 OK\"\n"
     ]
    },
    {
     "data": {
      "text/plain": "['Genre', 'Artist', 'Track']"
     },
     "execution_count": 98,
     "metadata": {},
     "output_type": "execute_result"
    }
   ],
   "source": [
    "from typing import List\n",
    "\n",
    "\n",
    "def get_tables(categories: List[Table]) -> List[str]:\n",
    "    tables = []\n",
    "    for category in categories:\n",
    "        tables.append(category.name)\n",
    "    return tables\n",
    "\n",
    "\n",
    "table_chain = table_chain | get_tables  # noqa\n",
    "table_chain.invoke({\"input\": \"What are all the genres of Alanis Morisette songs\"})"
   ],
   "metadata": {
    "collapsed": false,
    "pycharm": {
     "name": "#%%\n"
    }
   }
  },
  {
   "cell_type": "code",
   "execution_count": 99,
   "outputs": [
    {
     "name": "stderr",
     "output_type": "stream",
     "text": [
      "DEBUG:openai._base_client:Request options: {'method': 'post', 'url': '/chat/completions', 'files': None, 'json_data': {'messages': [{'role': 'system', 'content': \"Return the names and schemas of ALL the SQL tables that MIGHT be relevant to the user question. The tables are:\\n\\nAlbum\\nArtist\\nCustomer\\nEmployee\\nGenre\\nInvoice\\nInvoiceLine\\nMediaType\\nPlaylist\\nPlaylistTrack\\nTrack\\n\\nRemember to include ALL POTENTIALLY RELEVANT tables, even if you're not sure that they're needed.\"}, {'role': 'user', 'content': 'What are all the genres of Alanis Morisette songs'}], 'model': 'gpt-3.5-turbo-1106', 'n': 1, 'stream': False, 'temperature': 0.0, 'tools': [{'type': 'function', 'function': {'name': 'Table', 'description': 'Table in SQL database.', 'parameters': {'type': 'object', 'properties': {'name': {'description': 'Name of table in SQL database.', 'type': 'string'}}, 'required': ['name']}}}]}}\n",
      "DEBUG:httpcore.connection:connect_tcp.started host='127.0.0.1' port=1089 local_address=None timeout=None socket_options=None\n",
      "DEBUG:httpcore.connection:connect_tcp.complete return_value=<httpcore._backends.sync.SyncStream object at 0x000001AF668ED180>\n",
      "DEBUG:httpcore.http11:send_request_headers.started request=<Request [b'CONNECT']>\n",
      "DEBUG:httpcore.http11:send_request_headers.complete\n",
      "DEBUG:httpcore.http11:send_request_body.started request=<Request [b'CONNECT']>\n",
      "DEBUG:httpcore.http11:send_request_body.complete\n",
      "DEBUG:httpcore.http11:receive_response_headers.started request=<Request [b'CONNECT']>\n",
      "DEBUG:httpcore.http11:receive_response_headers.complete return_value=(b'HTTP/1.1', 200, b'Connection established', [])\n",
      "DEBUG:httpcore.proxy:start_tls.started ssl_context=<ssl.SSLContext object at 0x000001AF66991740> server_hostname='api.openai.com' timeout=None\n",
      "DEBUG:httpcore.proxy:start_tls.complete return_value=<httpcore._backends.sync.SyncStream object at 0x000001AF668D3F40>\n",
      "DEBUG:httpcore.http11:send_request_headers.started request=<Request [b'POST']>\n",
      "DEBUG:httpcore.http11:send_request_headers.complete\n",
      "DEBUG:httpcore.http11:send_request_body.started request=<Request [b'POST']>\n",
      "DEBUG:httpcore.http11:send_request_body.complete\n",
      "DEBUG:httpcore.http11:receive_response_headers.started request=<Request [b'POST']>\n",
      "DEBUG:httpcore.http11:receive_response_headers.complete return_value=(b'HTTP/1.1', 200, b'OK', [(b'Date', b'Thu, 22 Feb 2024 07:42:51 GMT'), (b'Content-Type', b'application/json'), (b'Transfer-Encoding', b'chunked'), (b'Connection', b'keep-alive'), (b'access-control-allow-origin', b'*'), (b'Cache-Control', b'no-cache, must-revalidate'), (b'openai-model', b'gpt-3.5-turbo-1106'), (b'openai-organization', b'user-afy5yzv93geh2cq6ef0fp6be'), (b'openai-processing-ms', b'1647'), (b'openai-version', b'2020-10-01'), (b'strict-transport-security', b'max-age=15724800; includeSubDomains'), (b'x-ratelimit-limit-requests', b'200'), (b'x-ratelimit-limit-tokens', b'40000'), (b'x-ratelimit-remaining-requests', b'187'), (b'x-ratelimit-remaining-tokens', b'39893'), (b'x-ratelimit-reset-requests', b'1h27m54.323s'), (b'x-ratelimit-reset-tokens', b'160ms'), (b'x-request-id', b'req_79397e54b51ab82a076cd4f01548d18e'), (b'CF-Cache-Status', b'DYNAMIC'), (b'Set-Cookie', b'__cf_bm=BOTlkfvoqCyISMZjOyvcUishfthlCm22pDR0gOSFMfc-1708587771-1.0-AXoovRC+1XC5h6XTsxOjiw2/B0/9P0Q884XWUwP6V4HJp+vhQGXWcDQhw0Wu/gSdEr+tBzlSF9ltV+sOmAgZ+3s=; path=/; expires=Thu, 22-Feb-24 08:12:51 GMT; domain=.api.openai.com; HttpOnly; Secure; SameSite=None'), (b'Set-Cookie', b'_cfuvid=R.5D58qaRLB8DfW127iMOlHDjFeP8DMajdYCKm8oeD4-1708587771104-0.0-604800000; path=/; domain=.api.openai.com; HttpOnly; Secure; SameSite=None'), (b'Server', b'cloudflare'), (b'CF-RAY', b'8595983699d569e3-LAS'), (b'Content-Encoding', b'br'), (b'alt-svc', b'h3=\":443\"; ma=86400')])\n",
      "INFO:httpx:HTTP Request: POST https://api.openai.com/v1/chat/completions \"HTTP/1.1 200 OK\"\n",
      "DEBUG:httpcore.http11:receive_response_body.started request=<Request [b'POST']>\n",
      "DEBUG:httpcore.http11:receive_response_body.complete\n",
      "DEBUG:httpcore.http11:response_closed.started\n",
      "DEBUG:httpcore.http11:response_closed.complete\n",
      "DEBUG:openai._base_client:HTTP Request: POST https://api.openai.com/v1/chat/completions \"200 OK\"\n",
      "DEBUG:openai._base_client:Request options: {'method': 'post', 'url': '/chat/completions', 'files': None, 'json_data': {'messages': [{'role': 'user', 'content': 'You are a SQLite expert. Given an input question, first create a syntactically correct SQLite query to run, then look at the results of the query and return the answer to the input question.\\nUnless the user specifies in the question a specific number of examples to obtain, query for at most 5 results using the LIMIT clause as per SQLite. You can order the results to return the most informative data in the database.\\nNever query for all columns from a table. You must query only the columns that are needed to answer the question. Wrap each column name in double quotes (\") to denote them as delimited identifiers.\\nPay attention to use only the column names you can see in the tables below. Be careful to not query for columns that do not exist. Also, pay attention to which column is in which table.\\nPay attention to use date(\\'now\\') function to get the current date, if the question involves \"today\".\\n\\nUse the following format:\\n\\nQuestion: Question here\\nSQLQuery: SQL Query to run\\nSQLResult: Result of the SQLQuery\\nAnswer: Final answer here\\n\\nOnly use the following tables:\\n\\nCREATE TABLE \"Artist\" (\\n\\t\"ArtistId\" INTEGER NOT NULL, \\n\\t\"Name\" NVARCHAR(120), \\n\\tPRIMARY KEY (\"ArtistId\")\\n)\\n\\n/*\\n3 rows from Artist table:\\nArtistId\\tName\\n1\\tAC/DC\\n2\\tAccept\\n3\\tAerosmith\\n*/\\n\\n\\nCREATE TABLE \"Genre\" (\\n\\t\"GenreId\" INTEGER NOT NULL, \\n\\t\"Name\" NVARCHAR(120), \\n\\tPRIMARY KEY (\"GenreId\")\\n)\\n\\n/*\\n3 rows from Genre table:\\nGenreId\\tName\\n1\\tRock\\n2\\tJazz\\n3\\tMetal\\n*/\\n\\n\\nCREATE TABLE \"Track\" (\\n\\t\"TrackId\" INTEGER NOT NULL, \\n\\t\"Name\" NVARCHAR(200) NOT NULL, \\n\\t\"AlbumId\" INTEGER, \\n\\t\"MediaTypeId\" INTEGER NOT NULL, \\n\\t\"GenreId\" INTEGER, \\n\\t\"Composer\" NVARCHAR(220), \\n\\t\"Milliseconds\" INTEGER NOT NULL, \\n\\t\"Bytes\" INTEGER, \\n\\t\"UnitPrice\" NUMERIC(10, 2) NOT NULL, \\n\\tPRIMARY KEY (\"TrackId\"), \\n\\tFOREIGN KEY(\"MediaTypeId\") REFERENCES \"MediaType\" (\"MediaTypeId\"), \\n\\tFOREIGN KEY(\"GenreId\") REFERENCES \"Genre\" (\"GenreId\"), \\n\\tFOREIGN KEY(\"AlbumId\") REFERENCES \"Album\" (\"AlbumId\")\\n)\\n\\n/*\\n3 rows from Track table:\\nTrackId\\tName\\tAlbumId\\tMediaTypeId\\tGenreId\\tComposer\\tMilliseconds\\tBytes\\tUnitPrice\\n1\\tFor Those About To Rock (We Salute You)\\t1\\t1\\t1\\tAngus Young, Malcolm Young, Brian Johnson\\t343719\\t11170334\\t0.99\\n2\\tBalls to the Wall\\t2\\t2\\t1\\tU. Dirkschneider, W. Hoffmann, H. Frank, P. Baltes, S. Kaufmann, G. Hoffmann\\t342562\\t5510424\\t0.99\\n3\\tFast As a Shark\\t3\\t2\\t1\\tF. Baltes, S. Kaufman, U. Dirkscneider & W. Hoffman\\t230619\\t3990994\\t0.99\\n*/\\n\\nQuestion: What are all the genres of Alanis Morisette songs\\nSQLQuery: '}], 'model': 'gpt-3.5-turbo-1106', 'n': 1, 'stop': ['\\nSQLResult:'], 'stream': False, 'temperature': 0.0}}\n",
      "DEBUG:httpcore.http11:send_request_headers.started request=<Request [b'POST']>\n",
      "DEBUG:httpcore.http11:send_request_headers.complete\n",
      "DEBUG:httpcore.http11:send_request_body.started request=<Request [b'POST']>\n",
      "DEBUG:httpcore.http11:send_request_body.complete\n",
      "DEBUG:httpcore.http11:receive_response_headers.started request=<Request [b'POST']>\n"
     ]
    },
    {
     "name": "stdout",
     "output_type": "stream",
     "text": [
      "['Genre', 'Artist', 'Track']\n",
      "{'question': 'What are all the genres of Alanis Morisette songs', 'table_names_to_use': ['Genre', 'Artist', 'Track']}\n"
     ]
    },
    {
     "name": "stderr",
     "output_type": "stream",
     "text": [
      "DEBUG:httpcore.http11:receive_response_headers.complete return_value=(b'HTTP/1.1', 200, b'OK', [(b'Date', b'Thu, 22 Feb 2024 07:42:53 GMT'), (b'Content-Type', b'application/json'), (b'Transfer-Encoding', b'chunked'), (b'Connection', b'keep-alive'), (b'access-control-allow-origin', b'*'), (b'Cache-Control', b'no-cache, must-revalidate'), (b'openai-model', b'gpt-3.5-turbo-1106'), (b'openai-organization', b'user-afy5yzv93geh2cq6ef0fp6be'), (b'openai-processing-ms', b'2145'), (b'openai-version', b'2020-10-01'), (b'strict-transport-security', b'max-age=15724800; includeSubDomains'), (b'x-ratelimit-limit-requests', b'200'), (b'x-ratelimit-limit-tokens', b'40000'), (b'x-ratelimit-remaining-requests', b'186'), (b'x-ratelimit-remaining-tokens', b'39373'), (b'x-ratelimit-reset-requests', b'1h35m4.293s'), (b'x-ratelimit-reset-tokens', b'940ms'), (b'x-request-id', b'req_57ed0d52ae841f0e1218b8d4765bd103'), (b'CF-Cache-Status', b'DYNAMIC'), (b'Server', b'cloudflare'), (b'CF-RAY', b'8595984338ce69e3-LAS'), (b'Content-Encoding', b'br'), (b'alt-svc', b'h3=\":443\"; ma=86400')])\n",
      "INFO:httpx:HTTP Request: POST https://api.openai.com/v1/chat/completions \"HTTP/1.1 200 OK\"\n",
      "DEBUG:httpcore.http11:receive_response_body.started request=<Request [b'POST']>\n",
      "DEBUG:httpcore.http11:receive_response_body.complete\n",
      "DEBUG:httpcore.http11:response_closed.started\n",
      "DEBUG:httpcore.http11:response_closed.complete\n",
      "DEBUG:openai._base_client:HTTP Request: POST https://api.openai.com/v1/chat/completions \"200 OK\"\n"
     ]
    },
    {
     "data": {
      "text/plain": "'SELECT \"Genre\".\"Name\"\\nFROM \"Genre\"\\nJOIN \"Track\" ON \"Genre\".\"GenreId\" = \"Track\".\"GenreId\"\\nJOIN \"Album\" ON \"Track\".\"AlbumId\" = \"Album\".\"AlbumId\"\\nJOIN \"Artist\" ON \"Album\".\"ArtistId\" = \"Artist\".\"ArtistId\"\\nWHERE \"Artist\".\"Name\" = \\'Alanis Morissette\\'\\nLIMIT 5;'"
     },
     "execution_count": 99,
     "metadata": {},
     "output_type": "execute_result"
    }
   ],
   "source": [
    "from langchain.chains import create_sql_query_chain\n",
    "from langchain_core.runnables import RunnablePassthrough\n",
    "from operator import itemgetter\n",
    "\n",
    "from langchain_core.prompts import PromptTemplate\n",
    "\n",
    "template = '''Given an input question, first create a syntactically correct postgres query to run, then look at the results of the query and return the answer, show {top_k}.\n",
    "Use the following format:\n",
    "\n",
    "Question: \"Question here\"\n",
    "SQLQuery: \"SQL Query to run\"\n",
    "SQLResult: \"Result of the SQLQuery\"\n",
    "Answer: \"Final answer here\"\n",
    "\n",
    "Only use the following tables:\n",
    "\n",
    "{table_info}.\n",
    "\n",
    "Question: {input}'''\n",
    "prompt = PromptTemplate.from_template(template)\n",
    "\n",
    "query_chain = create_sql_query_chain(llm, db)\n",
    "table_chain = {\"input\": itemgetter(\"question\")} | table_chain | StdOutputRunnable()\n",
    "full_chain = RunnablePassthrough.assign(table_names_to_use=table_chain) | StdOutputRunnable() | query_chain\n",
    "\n",
    "full_chain.invoke(\n",
    "    {\"question\": \"What are all the genres of Alanis Morisette songs\"}\n",
    ")"
   ],
   "metadata": {
    "collapsed": false,
    "pycharm": {
     "name": "#%%\n"
    }
   }
  },
  {
   "cell_type": "code",
   "execution_count": 51,
   "outputs": [
    {
     "name": "stderr",
     "output_type": "stream",
     "text": [
      "DEBUG:openai._base_client:Request options: {'method': 'post', 'url': '/chat/completions', 'files': None, 'json_data': {'messages': [{'role': 'system', 'content': 'Return the names of the SQL tables that are relevant to the user question. The tables are:\\n\\nMusic\\nBusiness'}, {'role': 'user', 'content': 'What are all the genres of Alanis Morisette songs'}], 'model': 'gpt-3.5-turbo-1106', 'n': 1, 'stream': False, 'temperature': 0.0, 'tools': [{'type': 'function', 'function': {'name': 'Table', 'description': 'Table in SQL database.', 'parameters': {'type': 'object', 'properties': {'name': {'description': 'Name of table in SQL database.', 'type': 'string'}, 'schemas': {'description': 'Schema of table in SQL database.', 'type': 'string'}}, 'required': ['name', 'schemas']}}}]}}\n",
      "DEBUG:httpcore.http11:send_request_headers.started request=<Request [b'POST']>\n",
      "DEBUG:httpcore.http11:send_request_headers.complete\n",
      "DEBUG:httpcore.http11:send_request_body.started request=<Request [b'POST']>\n",
      "DEBUG:httpcore.http11:send_request_body.complete\n",
      "DEBUG:httpcore.http11:receive_response_headers.started request=<Request [b'POST']>\n",
      "DEBUG:httpcore.http11:receive_response_headers.complete return_value=(b'HTTP/1.1', 429, b'Too Many Requests', [(b'Date', b'Thu, 22 Feb 2024 03:02:47 GMT'), (b'Content-Type', b'application/json; charset=utf-8'), (b'Content-Length', b'498'), (b'Connection', b'keep-alive'), (b'retry-after', b'20'), (b'retry-after-ms', b'20000'), (b'vary', b'Origin'), (b'x-ratelimit-limit-requests', b'200'), (b'x-ratelimit-limit-tokens', b'40000'), (b'x-ratelimit-remaining-requests', b'187'), (b'x-ratelimit-remaining-tokens', b'39000'), (b'x-ratelimit-reset-requests', b'1h30m6.568s'), (b'x-ratelimit-reset-tokens', b'1.498s'), (b'x-request-id', b'req_9b5fb5e0b253bf96766b29a8676ada60'), (b'strict-transport-security', b'max-age=15724800; includeSubDomains'), (b'CF-Cache-Status', b'DYNAMIC'), (b'Server', b'cloudflare'), (b'CF-RAY', b'8593fdff0b111918-SIN'), (b'alt-svc', b'h3=\":443\"; ma=86400')])\n",
      "INFO:httpx:HTTP Request: POST https://api.openai.com/v1/chat/completions \"HTTP/1.1 429 Too Many Requests\"\n",
      "DEBUG:httpcore.http11:receive_response_body.started request=<Request [b'POST']>\n",
      "DEBUG:httpcore.http11:receive_response_body.complete\n",
      "DEBUG:httpcore.http11:response_closed.started\n",
      "DEBUG:httpcore.http11:response_closed.complete\n",
      "DEBUG:openai._base_client:HTTP Request: POST https://api.openai.com/v1/chat/completions \"429 Too Many Requests\"\n",
      "DEBUG:openai._base_client:Encountered httpx.HTTPStatusError\n",
      "Traceback (most recent call last):\n",
      "  File \"D:\\dev\\miniconda3\\envs\\langchain\\lib\\site-packages\\openai\\_base_client.py\", line 959, in _request\n",
      "    response.raise_for_status()\n",
      "  File \"D:\\dev\\miniconda3\\envs\\langchain\\lib\\site-packages\\httpx\\_models.py\", line 759, in raise_for_status\n",
      "    raise HTTPStatusError(message, request=request, response=self)\n",
      "httpx.HTTPStatusError: Client error '429 Too Many Requests' for url 'https://api.openai.com/v1/chat/completions'\n",
      "For more information check: https://developer.mozilla.org/en-US/docs/Web/HTTP/Status/429\n",
      "DEBUG:openai._base_client:Retrying due to status code 429\n",
      "DEBUG:openai._base_client:1 retry left\n",
      "INFO:openai._base_client:Retrying request to /chat/completions in 20.000000 seconds\n",
      "DEBUG:openai._base_client:Request options: {'method': 'post', 'url': '/chat/completions', 'files': None, 'json_data': {'messages': [{'role': 'system', 'content': 'Return the names of the SQL tables that are relevant to the user question. The tables are:\\n\\nMusic\\nBusiness'}, {'role': 'user', 'content': 'What are all the genres of Alanis Morisette songs'}], 'model': 'gpt-3.5-turbo-1106', 'n': 1, 'stream': False, 'temperature': 0.0, 'tools': [{'type': 'function', 'function': {'name': 'Table', 'description': 'Table in SQL database.', 'parameters': {'type': 'object', 'properties': {'name': {'description': 'Name of table in SQL database.', 'type': 'string'}, 'schemas': {'description': 'Schema of table in SQL database.', 'type': 'string'}}, 'required': ['name', 'schemas']}}}]}}\n",
      "DEBUG:httpcore.connection:connect_tcp.started host='127.0.0.1' port=1089 local_address=None timeout=None socket_options=None\n",
      "DEBUG:httpcore.connection:connect_tcp.complete return_value=<httpcore._backends.sync.SyncStream object at 0x000001AF14E27C70>\n",
      "DEBUG:httpcore.http11:send_request_headers.started request=<Request [b'CONNECT']>\n",
      "DEBUG:httpcore.http11:send_request_headers.complete\n",
      "DEBUG:httpcore.http11:send_request_body.started request=<Request [b'CONNECT']>\n",
      "DEBUG:httpcore.http11:send_request_body.complete\n",
      "DEBUG:httpcore.http11:receive_response_headers.started request=<Request [b'CONNECT']>\n",
      "DEBUG:httpcore.http11:receive_response_headers.complete return_value=(b'HTTP/1.1', 200, b'Connection established', [])\n",
      "DEBUG:httpcore.proxy:start_tls.started ssl_context=<ssl.SSLContext object at 0x000001AF14CDFE40> server_hostname='api.openai.com' timeout=None\n",
      "DEBUG:httpcore.proxy:start_tls.complete return_value=<httpcore._backends.sync.SyncStream object at 0x000001AF14E30220>\n",
      "DEBUG:httpcore.http11:send_request_headers.started request=<Request [b'POST']>\n",
      "DEBUG:httpcore.http11:send_request_headers.complete\n",
      "DEBUG:httpcore.http11:send_request_body.started request=<Request [b'POST']>\n",
      "DEBUG:httpcore.http11:send_request_body.complete\n",
      "DEBUG:httpcore.http11:receive_response_headers.started request=<Request [b'POST']>\n",
      "DEBUG:httpcore.http11:receive_response_headers.complete return_value=(b'HTTP/1.1', 200, b'OK', [(b'Date', b'Thu, 22 Feb 2024 03:03:09 GMT'), (b'Content-Type', b'application/json'), (b'Transfer-Encoding', b'chunked'), (b'Connection', b'keep-alive'), (b'access-control-allow-origin', b'*'), (b'Cache-Control', b'no-cache, must-revalidate'), (b'openai-model', b'gpt-3.5-turbo-1106'), (b'openai-organization', b'user-afy5yzv93geh2cq6ef0fp6be'), (b'openai-processing-ms', b'692'), (b'openai-version', b'2020-10-01'), (b'strict-transport-security', b'max-age=15724800; includeSubDomains'), (b'x-ratelimit-limit-requests', b'200'), (b'x-ratelimit-limit-tokens', b'40000'), (b'x-ratelimit-remaining-requests', b'186'), (b'x-ratelimit-remaining-tokens', b'39943'), (b'x-ratelimit-reset-requests', b'1h36m57.272s'), (b'x-ratelimit-reset-tokens', b'85ms'), (b'x-request-id', b'req_a967b6cc376448dcc1f6bec646df1231'), (b'CF-Cache-Status', b'DYNAMIC'), (b'Server', b'cloudflare'), (b'CF-RAY', b'8593fe84291d3f77-SIN'), (b'Content-Encoding', b'br'), (b'alt-svc', b'h3=\":443\"; ma=86400')])\n",
      "INFO:httpx:HTTP Request: POST https://api.openai.com/v1/chat/completions \"HTTP/1.1 200 OK\"\n",
      "DEBUG:httpcore.http11:receive_response_body.started request=<Request [b'POST']>\n",
      "DEBUG:httpcore.http11:receive_response_body.complete\n",
      "DEBUG:httpcore.http11:response_closed.started\n",
      "DEBUG:httpcore.http11:response_closed.complete\n",
      "DEBUG:openai._base_client:HTTP Request: POST https://api.openai.com/v1/chat/completions \"200 OK\"\n"
     ]
    },
    {
     "data": {
      "text/plain": "[Table(name='Music', schemas='*'), Table(name='Business', schemas='*')]"
     },
     "execution_count": 51,
     "metadata": {},
     "output_type": "execute_result"
    }
   ],
   "source": [
    "system = \"\"\"Return the names of the SQL tables that are relevant to the user question. \\\n",
    "The tables are:\n",
    "\n",
    "Music\n",
    "Business\"\"\"\n",
    "category_chain = create_extraction_chain_pydantic(Table, llm, system_message=system)\n",
    "category_chain.invoke({\"input\": \"What are all the genres of Alanis Morisette songs\"})"
   ],
   "metadata": {
    "collapsed": false,
    "pycharm": {
     "name": "#%%\n"
    }
   }
  },
  {
   "cell_type": "code",
   "execution_count": 52,
   "outputs": [
    {
     "name": "stderr",
     "output_type": "stream",
     "text": [
      "DEBUG:openai._base_client:Request options: {'method': 'post', 'url': '/chat/completions', 'files': None, 'json_data': {'messages': [{'role': 'system', 'content': 'Return the names of the SQL tables that are relevant to the user question. The tables are:\\n\\nMusic\\nBusiness'}, {'role': 'user', 'content': 'What are all the genres of Alanis Morisette songs'}], 'model': 'gpt-3.5-turbo-1106', 'n': 1, 'stream': False, 'temperature': 0.0, 'tools': [{'type': 'function', 'function': {'name': 'Table', 'description': 'Table in SQL database.', 'parameters': {'type': 'object', 'properties': {'name': {'description': 'Name of table in SQL database.', 'type': 'string'}, 'schemas': {'description': 'Schema of table in SQL database.', 'type': 'string'}}, 'required': ['name', 'schemas']}}}]}}\n",
      "DEBUG:httpcore.http11:send_request_headers.started request=<Request [b'POST']>\n",
      "DEBUG:httpcore.http11:send_request_headers.complete\n",
      "DEBUG:httpcore.http11:send_request_body.started request=<Request [b'POST']>\n",
      "DEBUG:httpcore.http11:send_request_body.complete\n",
      "DEBUG:httpcore.http11:receive_response_headers.started request=<Request [b'POST']>\n",
      "DEBUG:httpcore.http11:receive_response_headers.complete return_value=(b'HTTP/1.1', 429, b'Too Many Requests', [(b'Date', b'Thu, 22 Feb 2024 03:03:09 GMT'), (b'Content-Type', b'application/json; charset=utf-8'), (b'Content-Length', b'498'), (b'Connection', b'keep-alive'), (b'retry-after', b'20'), (b'retry-after-ms', b'20000'), (b'vary', b'Origin'), (b'x-ratelimit-limit-requests', b'200'), (b'x-ratelimit-limit-tokens', b'40000'), (b'x-ratelimit-remaining-requests', b'185'), (b'x-ratelimit-remaining-tokens', b'39943'), (b'x-ratelimit-reset-requests', b'1h44m7.871s'), (b'x-ratelimit-reset-tokens', b'85ms'), (b'x-request-id', b'req_93be9be17a338a29d8436baf3247cada'), (b'strict-transport-security', b'max-age=15724800; includeSubDomains'), (b'CF-Cache-Status', b'DYNAMIC'), (b'Server', b'cloudflare'), (b'CF-RAY', b'8593fe8ccbfa3f77-SIN'), (b'alt-svc', b'h3=\":443\"; ma=86400')])\n",
      "INFO:httpx:HTTP Request: POST https://api.openai.com/v1/chat/completions \"HTTP/1.1 429 Too Many Requests\"\n",
      "DEBUG:httpcore.http11:receive_response_body.started request=<Request [b'POST']>\n",
      "DEBUG:httpcore.http11:receive_response_body.complete\n",
      "DEBUG:httpcore.http11:response_closed.started\n",
      "DEBUG:httpcore.http11:response_closed.complete\n",
      "DEBUG:openai._base_client:HTTP Request: POST https://api.openai.com/v1/chat/completions \"429 Too Many Requests\"\n",
      "DEBUG:openai._base_client:Encountered httpx.HTTPStatusError\n",
      "Traceback (most recent call last):\n",
      "  File \"D:\\dev\\miniconda3\\envs\\langchain\\lib\\site-packages\\openai\\_base_client.py\", line 959, in _request\n",
      "    response.raise_for_status()\n",
      "  File \"D:\\dev\\miniconda3\\envs\\langchain\\lib\\site-packages\\httpx\\_models.py\", line 759, in raise_for_status\n",
      "    raise HTTPStatusError(message, request=request, response=self)\n",
      "httpx.HTTPStatusError: Client error '429 Too Many Requests' for url 'https://api.openai.com/v1/chat/completions'\n",
      "For more information check: https://developer.mozilla.org/en-US/docs/Web/HTTP/Status/429\n",
      "DEBUG:openai._base_client:Retrying due to status code 429\n",
      "DEBUG:openai._base_client:1 retry left\n",
      "INFO:openai._base_client:Retrying request to /chat/completions in 20.000000 seconds\n",
      "DEBUG:openai._base_client:Request options: {'method': 'post', 'url': '/chat/completions', 'files': None, 'json_data': {'messages': [{'role': 'system', 'content': 'Return the names of the SQL tables that are relevant to the user question. The tables are:\\n\\nMusic\\nBusiness'}, {'role': 'user', 'content': 'What are all the genres of Alanis Morisette songs'}], 'model': 'gpt-3.5-turbo-1106', 'n': 1, 'stream': False, 'temperature': 0.0, 'tools': [{'type': 'function', 'function': {'name': 'Table', 'description': 'Table in SQL database.', 'parameters': {'type': 'object', 'properties': {'name': {'description': 'Name of table in SQL database.', 'type': 'string'}, 'schemas': {'description': 'Schema of table in SQL database.', 'type': 'string'}}, 'required': ['name', 'schemas']}}}]}}\n",
      "DEBUG:httpcore.connection:connect_tcp.started host='127.0.0.1' port=1089 local_address=None timeout=None socket_options=None\n",
      "DEBUG:httpcore.connection:connect_tcp.complete return_value=<httpcore._backends.sync.SyncStream object at 0x000001AF14E32EF0>\n",
      "DEBUG:httpcore.http11:send_request_headers.started request=<Request [b'CONNECT']>\n",
      "DEBUG:httpcore.http11:send_request_headers.complete\n",
      "DEBUG:httpcore.http11:send_request_body.started request=<Request [b'CONNECT']>\n",
      "DEBUG:httpcore.http11:send_request_body.complete\n",
      "DEBUG:httpcore.http11:receive_response_headers.started request=<Request [b'CONNECT']>\n",
      "DEBUG:httpcore.http11:receive_response_headers.complete return_value=(b'HTTP/1.1', 200, b'Connection established', [])\n",
      "DEBUG:httpcore.proxy:start_tls.started ssl_context=<ssl.SSLContext object at 0x000001AF14CDFE40> server_hostname='api.openai.com' timeout=None\n",
      "DEBUG:httpcore.proxy:start_tls.complete return_value=<httpcore._backends.sync.SyncStream object at 0x000001AF14E44BB0>\n",
      "DEBUG:httpcore.http11:send_request_headers.started request=<Request [b'POST']>\n",
      "DEBUG:httpcore.http11:send_request_headers.complete\n",
      "DEBUG:httpcore.http11:send_request_body.started request=<Request [b'POST']>\n",
      "DEBUG:httpcore.http11:send_request_body.complete\n",
      "DEBUG:httpcore.http11:receive_response_headers.started request=<Request [b'POST']>\n",
      "DEBUG:httpcore.http11:receive_response_headers.complete return_value=(b'HTTP/1.1', 200, b'OK', [(b'Date', b'Thu, 22 Feb 2024 03:03:32 GMT'), (b'Content-Type', b'application/json'), (b'Transfer-Encoding', b'chunked'), (b'Connection', b'keep-alive'), (b'access-control-allow-origin', b'*'), (b'Cache-Control', b'no-cache, must-revalidate'), (b'openai-model', b'gpt-3.5-turbo-1106'), (b'openai-organization', b'user-afy5yzv93geh2cq6ef0fp6be'), (b'openai-processing-ms', b'733'), (b'openai-version', b'2020-10-01'), (b'strict-transport-security', b'max-age=15724800; includeSubDomains'), (b'x-ratelimit-limit-requests', b'200'), (b'x-ratelimit-limit-tokens', b'40000'), (b'x-ratelimit-remaining-requests', b'184'), (b'x-ratelimit-remaining-tokens', b'39943'), (b'x-ratelimit-reset-requests', b'1h50m58.291s'), (b'x-ratelimit-reset-tokens', b'85ms'), (b'x-request-id', b'req_b675f03bf7821f0ba3f597b7cbad5883'), (b'CF-Cache-Status', b'DYNAMIC'), (b'Set-Cookie', b'__cf_bm=8JVws6gQn3Wg3D6L082WHKv6UZ_YI4BHg8tWM6c8H60-1708571012-1.0-Adt+8myTZGKIOSP2lulz5etyydm1W1wG5MtrYpK+ypGcPr/bg5tdJI1JiyrucnnP1zbiF18nh1wi2NxgcEHZY4I=; path=/; expires=Thu, 22-Feb-24 03:33:32 GMT; domain=.api.openai.com; HttpOnly; Secure; SameSite=None'), (b'Set-Cookie', b'_cfuvid=eFh8M7RwMgf.QOV0eeg8yjLd95G1j9uvwN5zPGw.QpI-1708571012066-0.0-604800000; path=/; domain=.api.openai.com; HttpOnly; Secure; SameSite=None'), (b'Server', b'cloudflare'), (b'CF-RAY', b'8593ff13feb40a03-LAS'), (b'Content-Encoding', b'br'), (b'alt-svc', b'h3=\":443\"; ma=86400')])\n",
      "INFO:httpx:HTTP Request: POST https://api.openai.com/v1/chat/completions \"HTTP/1.1 200 OK\"\n",
      "DEBUG:httpcore.http11:receive_response_body.started request=<Request [b'POST']>\n",
      "DEBUG:httpcore.http11:receive_response_body.complete\n",
      "DEBUG:httpcore.http11:response_closed.started\n",
      "DEBUG:httpcore.http11:response_closed.complete\n",
      "DEBUG:openai._base_client:HTTP Request: POST https://api.openai.com/v1/chat/completions \"200 OK\"\n"
     ]
    },
    {
     "data": {
      "text/plain": "['Album',\n 'Artist',\n 'Genre',\n 'MediaType',\n 'Playlist',\n 'PlaylistTrack',\n 'Track',\n 'Album',\n 'Artist',\n 'Genre',\n 'MediaType',\n 'Playlist',\n 'PlaylistTrack',\n 'Track']"
     },
     "execution_count": 52,
     "metadata": {},
     "output_type": "execute_result"
    }
   ],
   "source": [
    "from typing import List\n",
    "\n",
    "\n",
    "def get_tables(categories: List[Table]) -> List[str]:\n",
    "    tables = []\n",
    "    for category in categories:\n",
    "        if category.name == \"Music\":\n",
    "            tables.extend(\n",
    "                [\n",
    "                    \"Album\",\n",
    "                    \"Artist\",\n",
    "                    \"Genre\",\n",
    "                    \"MediaType\",\n",
    "                    \"Playlist\",\n",
    "                    \"PlaylistTrack\",\n",
    "                    \"Track\",\n",
    "                ]\n",
    "            )\n",
    "        elif category.name == \"Business\":\n",
    "            tables.extend([\"Customer\", \"Employee\", \"Invoice\", \"InvoiceLine\"])\n",
    "    return tables\n",
    "\n",
    "\n",
    "table_chain = category_chain | get_tables  # noqa\n",
    "table_chain.invoke({\"input\": \"What are all the genres of Alanis Morisette songs\"})"
   ],
   "metadata": {
    "collapsed": false,
    "pycharm": {
     "name": "#%%\n"
    }
   }
  },
  {
   "cell_type": "markdown",
   "source": [
    "## 高基数列（xx）"
   ],
   "metadata": {
    "collapsed": false,
    "pycharm": {
     "name": "#%% md\n"
    }
   }
  },
  {
   "cell_type": "code",
   "execution_count": 53,
   "outputs": [
    {
     "name": "stdout",
     "output_type": "stream",
     "text": [
      "647\n"
     ]
    },
    {
     "data": {
      "text/plain": "['AC/DC', 'Accept', 'Aerosmith', 'Alanis Morissette', 'Alice In Chains']"
     },
     "execution_count": 53,
     "metadata": {},
     "output_type": "execute_result"
    }
   ],
   "source": [
    "import ast\n",
    "import re\n",
    "\n",
    "\n",
    "def query_as_list(db, query):\n",
    "    res = db.run(query)\n",
    "    res = [el for sub in ast.literal_eval(res) for el in sub if el]\n",
    "    res = [re.sub(r\"\\b\\d+\\b\", \"\", string).strip() for string in res]\n",
    "    return res\n",
    "\n",
    "\n",
    "proper_nouns = query_as_list(db, \"SELECT Name FROM Artist\")\n",
    "proper_nouns += query_as_list(db, \"SELECT Title FROM Album\")\n",
    "proper_nouns += query_as_list(db, \"SELECT Name FROM Genre\")\n",
    "print(len(proper_nouns))\n",
    "proper_nouns[:5]"
   ],
   "metadata": {
    "collapsed": false,
    "pycharm": {
     "name": "#%%\n"
    }
   }
  },
  {
   "cell_type": "code",
   "execution_count": 54,
   "outputs": [
    {
     "name": "stderr",
     "output_type": "stream",
     "text": [
      "DEBUG:httpx:load_ssl_context verify=True cert=None trust_env=True http2=False\n",
      "DEBUG:httpx:load_verify_locations cafile='D:\\\\dev\\\\miniconda3\\\\envs\\\\langchain\\\\lib\\\\site-packages\\\\certifi\\\\cacert.pem'\n",
      "DEBUG:httpx:load_ssl_context verify=True cert=None trust_env=True http2=False\n",
      "DEBUG:httpx:load_verify_locations cafile='D:\\\\dev\\\\miniconda3\\\\envs\\\\langchain\\\\lib\\\\site-packages\\\\certifi\\\\cacert.pem'\n",
      "DEBUG:httpx:load_ssl_context verify=True cert=None trust_env=True http2=False\n",
      "DEBUG:httpx:load_verify_locations cafile='D:\\\\dev\\\\miniconda3\\\\envs\\\\langchain\\\\lib\\\\site-packages\\\\certifi\\\\cacert.pem'\n",
      "DEBUG:httpx:load_ssl_context verify=True cert=None trust_env=True http2=False\n",
      "DEBUG:httpx:load_verify_locations cafile='D:\\\\dev\\\\miniconda3\\\\envs\\\\langchain\\\\lib\\\\site-packages\\\\certifi\\\\cacert.pem'\n",
      "DEBUG:httpx:load_ssl_context verify=True cert=None trust_env=True http2=False\n",
      "DEBUG:httpx:load_verify_locations cafile='D:\\\\dev\\\\miniconda3\\\\envs\\\\langchain\\\\lib\\\\site-packages\\\\certifi\\\\cacert.pem'\n",
      "DEBUG:httpx:load_ssl_context verify=True cert=None trust_env=True http2=False\n",
      "DEBUG:httpx:load_verify_locations cafile='D:\\\\dev\\\\miniconda3\\\\envs\\\\langchain\\\\lib\\\\site-packages\\\\certifi\\\\cacert.pem'\n",
      "DEBUG:openai._base_client:Request options: {'method': 'post', 'url': '/embeddings', 'files': None, 'post_parser': <function Embeddings.create.<locals>.parser at 0x000001AF14D3BAC0>, 'json_data': {'input': [[1741, 14, 5744], [17059], [32, 6398, 44774], [68724, 285, 8613, 4993, 668], [62786, 763, 82869], [17555, 62552, 822, 30397, 12280, 318], [10835, 67780, 418, 3074], [54049, 3614, 75, 525], [3792, 44758], [97003, 47051, 5721], [14755, 9587, 13581], [14755, 81276], [5561, 4605], [79579, 98337], [33, 35017, 26340], [23389, 295, 5770, 31298, 28246], [1163, 4042, 426, 19253, 593], [1163, 4042, 10170, 612, 13106, 6027, 1901, 3635, 72], [34, 9252, 24952, 969], [5176, 1995, 3310, 1901, 14559], [73741, 53204], [61950, 10120, 69108], [38426, 1901, 28279, 612, 22022, 64225, 18207], [48741, 437, 78594], [44, 16695, 452, 58061, 612, 2893, 65, 11269], [32, 21436, 952], [98137, 9339, 78, 21456], [23307, 3496, 46092, 78], [33, 3141, 301, 46092, 78], [41, 6809, 650, 3035, 18536], [60860, 7440, 4088, 78], [45, 1216, 7011, 540, 33312], [50302, 450, 11220, 47428], [45, 4988, 1050, 285], [36294, 299, 18866, 24315, 612, 362, 75285, 451], [46, 432, 28279], [2782, 386, 22983], [33, 10018, 5348, 28059], [37, 944, 10018, 70798], [29967, 356, 2850, 511, 300], [6719, 285, 70780], [44, 16695, 452, 58061], [32, 4563, 3234, 18024], [99608, 87949, 4317], [50, 24155, 1611, 328, 1995], [41, 6809, 7505], [21364, 4150, 78, 24971, 41565], [3511, 3496, 30347, 87099], [2782, 942, 11, 22102, 4488, 88, 612, 22102, 7281, 1643, 52331, 27077, 10018, 70798], [66761, 15677], [53106], [42, 1056], [45127, 299, 56015, 969], [20147, 6187], [23083, 18230, 35283], [38, 28143, 47820, 44338], [29967, 32328, 15844], [34564, 41489], [50, 519, 3444], [50, 519, 3444, 3926, 266, 13, 20851, 51784], [50, 519, 3444, 3926, 266, 13, 18374, 4354], [50, 519, 3444, 3926, 266, 13, 4997, 11355], [50, 519, 3444, 3926, 266, 13, 54300, 1910, 8270, 612, 356, 2176, 12, 4357], [50, 519, 3444, 3926, 266, 13, 578, 5907, 480, 49339], [50, 519, 3444, 3926, 266, 13, 2418, 1995], [50, 519, 3444, 3926, 266, 13, 36895, 13737, 9188, 45805], [50, 519, 3444, 3926, 266, 13, 16645, 2493, 391, 783], [44, 3742, 17200], [64622, 16852, 46931], [1271, 447, 28676, 612, 21016, 2483, 5979, 355], [73092, 2483, 5979, 355, 1611, 386, 6347, 288, 612, 11717, 268, 44109], [73092, 2483, 5979, 355, 1611, 386, 6347, 288], [73092, 2483, 5979, 355, 469, 1229, 5757, 11269, 5867, 18221], [73092, 2483, 5979, 355, 469, 25578, 6672, 73257], [73092, 3457, 355, 11, 2057, 447, 28676, 612, 70184, 11269, 5867, 18221], [10987, 291, 768, 12292, 13284, 10315, 4023], [34, 1995, 784, 689, 13852, 261], [2685, 2009, 99104], [35, 16550, 65276], [35, 73, 32005], [50554, 2493, 391, 783], [48334, 411, 2360, 4497], [37, 17243, 94702], [42023, 79067], [38426, 93839], [37, 3200, 46774, 2009, 49720, 64], [28622, 3647, 474], [38, 11099, 452, 6, 81470], [40345, 64541], [47493, 83942], [29184, 10690], [65241, 8869, 447, 2192], [41, 1372], [41, 25877, 30594, 18862], [41444, 328, 2416, 5676], [41, 6217, 15403], [23307, 3496, 6433, 416, 88], [41, 54841, 50003], [19444, 78428, 72313, 3444], [43, 18314, 16852, 402, 11289], [43, 25415, 48723], [12331, 15068], [12331, 10994, 46867], [12331, 9799, 21334, 68], [29819, 2468, 5664], [61032, 9603, 2025], [61032, 9603, 2025, 612, 20666, 2184], [44, 62552, 3074, 29829, 22278], [44, 45326, 3258, 4656, 2448, 68], [45, 404, 68559], [46, 10335, 20822], [43819, 347, 372], [29967, 4366, 17243, 300, 3234, 17360, 30412], [46, 89, 4341, 15796, 22152], [2732, 612, 18317], [12465, 15232], [26368, 423, 42069, 22278], [92140, 75, 20614], [37659, 350, 9451], [72452, 46899], [60734, 57308], [49, 5253, 1345, 13, 3926, 266, 13, 30301, 59642], [49, 5253, 1345, 13, 3926, 266, 13, 735, 11706, 91477], [49, 5253, 1345, 13], [49, 2706, 65954], [49, 5049, 1369, 953, 300], [6161, 8166, 82515, 5250, 36623], [49, 1136], [61346, 3816], [19847, 1201], [10902, 19587, 34826, 11966], [16493, 70, 8506], [626, 5230, 648, 13558, 96248, 612, 7238, 81363], [46960, 19176, 37451, 2469], [2374, 5046, 362, 6419], [51, 5515, 2577, 10616, 822, 11, 19036, 67977, 612, 14129, 36177], [791, 5348, 27991, 288], [791, 85670], [791, 26676], [791, 50717], [791, 10289], [791, 46048, 57200], [791, 31125, 8722], [791, 10699], [20830, 11583, 689], [28908, 3282, 82], [43993, 12134, 10845, 533, 3074], [99673], [48353], [52, 17], [4594, 1272], [46324, 20442, 268], [50606, 17553, 10315, 8080], [1671, 3695, 77, 731], [57, 23637, 43455, 347, 28676], [791, 8410], [35, 888, 10120, 69108], [43993, 12134, 10845, 533, 3074, 320, 64431, 8], [92313, 13005], [19875, 2259, 4701, 58797, 2473, 16850, 6295, 76932], [32, 6398, 44774, 612, 36903, 66491, 596, 98172, 2052, 37738], [30696, 86823, 30857], [10803, 94332, 43314, 90599], [35, 87911, 36627, 612, 35934, 677, 44458], [62382, 29477, 818], [10066, 31660, 43950, 19388], [16010, 612, 8269], [2675, 784, 283, 452, 28805, 414], [14755, 44511, 291, 5250, 300], [33731, 11605], [25584, 33107], [63385, 45498], [44, 3689, 88, 27793], [791, 55317, 5475], [41, 55748, 417], [791, 3061, 6605, 96363], [33731, 596, 2418, 818, 36444, 612, 60333, 44555, 6798], [3561, 2259, 12587, 76378], [3407, 31215, 919], [29707, 5046, 35567], [55, 285], [45, 11437, 480, 14059], [38, 592, 28316, 612, 96446, 23404, 16960, 612, 8375, 34144], [49, 31162], [73728, 10690, 16014, 13], [36294, 299, 18866, 24315, 469, 362, 75285, 451], [30696, 61338, 437], [44, 13807, 37311, 265, 328, 10576], [85895, 998], [644, 3781, 1564], [45, 13264, 1901, 3635, 72], [54372, 25227, 4692, 612, 54617, 16376, 9346, 64], [1542, 84, 56500], [77478, 354, 425, 469, 87816], [81450, 25634, 2947, 582, 3444], [62190], [32, 36040, 74312], [39, 370, 581, 30417, 13109, 323, 56107, 2649], [77489, 939, 97842], [791, 19408, 552], [41745, 12699, 9424, 4458, 19945, 316, 2382, 58751, 309, 754], [75903, 72675], [58916, 8083, 355, 469, 3751, 71, 13933, 328, 13885, 21947], [22759, 698, 315, 279, 14588], [32978, 56819], [67722, 78, 8877, 1030, 612, 35741, 5124, 8083, 16431, 269, 12699], [42315, 2947, 10516, 612, 578, 99432, 315, 45659, 9304, 11, 24562], [23392, 47784, 612, 54651, 393, 6258, 1197], [79039, 6354, 5237, 648, 386, 6339, 11, 58463, 43179, 13528, 97386, 612, 17664, 804, 7302, 13279, 1677, 25840], [39, 321, 661, 473, 30660, 11, 42107, 85107, 2194, 11, 9853, 12167, 32479, 54617, 612, 38649, 16488, 27457], [53477, 52999, 81608, 544], [65825, 30237, 78, 11583], [31224, 27337, 4821, 61652, 89457], [11916, 329, 4625, 315, 800, 13, 11826, 304, 279, 25599, 612, 17177, 82335, 69698, 10670], [11916, 329, 4625, 315, 800, 13, 11826, 304, 279, 25599, 32479, 89457, 612, 17177, 82335, 69698, 10670], [39379, 62898, 7302, 13279, 1677, 25840, 11, 2493, 17152, 27063, 2172, 612, 21252, 483, 48290], [74872, 7302, 13279, 74689, 54617, 612, 17177, 11355, 38530, 331, 309], [2244, 27417, 265, 51223, 65272, 29583, 1880, 12036, 519, 2428, 612, 3842, 34362, 354, 23251, 10670], [33, 12429, 328, 13885, 21947, 11, 34583, 269, 62677, 612, 11876, 3258, 58716], [47275, 63306, 921, 30969, 11, 10780, 63306, 54617, 612, 17177, 13629, 328, 6312, 72], [51290, 13629, 328, 6312, 72, 612, 17664, 804, 7302, 13279, 1677, 25840], [11916, 329, 4625, 315, 800, 13, 11826, 304, 279, 25599, 11, 3842, 88088, 11, 17177, 82335, 69698, 10670, 612, 89406, 55751, 1334], [40672, 63306, 54617, 612, 17177, 15274, 33491, 85484], [3511, 894, 28730, 20069, 612, 18588, 47784, 54617], [21364, 9339, 43179, 13528, 97386, 11, 386, 556, 36882, 435, 1466, 72, 612, 17664, 804, 7302, 13279, 1677, 25840], [36, 773, 1994, 2582, 1969, 88], [41745, 13389, 393, 37332, 42327], [73004, 569, 82415, 612, 1561, 4356, 7302, 13279, 74689], [65432, 63306, 54617, 612, 1369, 35973, 36704, 14406], [75903, 25991, 1974, 612, 7295, 63306, 54617], [70551, 30417, 454, 1543], [50, 10286, 72, 1322, 74, 1073, 44191, 612, 86873, 8817, 404, 8826, 869], [47275, 63306, 54617, 612, 91083, 1050, 10670], [2244, 38260, 315, 578, 13381, 315, 92931], [36, 37264, 26232, 11, 51558, 2582, 1969, 88, 612, 19895, 54617], [29184, 81702], [39379, 62898, 7302, 13279, 1677, 25840, 612, 25844, 16870, 4749, 664], [44, 4202, 46082, 25385, 6729], [11916, 329, 4625, 315, 800, 13, 11826, 304, 279, 25599, 11, 17177, 82335, 69698, 10670, 612, 12656, 39386], [38, 592, 402, 16566, 1565], [37, 68818, 52165, 11, 7295, 63306, 54617, 612, 55500, 2939, 22284, 55177, 409, 41109, 437], [2782, 78, 409, 29614, 472, 612, 5960, 13175, 63306], [17555, 278, 25225, 1995, 10462, 612, 7295, 63306, 54617], [1163, 13603, 5046, 48043, 65555, 612, 22021, 63325], [26597, 58769, 942, 11355, 612, 5960, 13175, 63306], [1163, 269, 2761, 17664, 804, 60920, 1900, 3376, 11, 58463, 43179, 13528, 97386, 612, 17664, 804, 7302, 13279, 1677, 25840], [791, 6342, 596, 11070, 388], [39379, 62898, 7302, 13279, 1677, 25840, 612, 58463, 43179, 13528, 97386], [51290, 13629, 328, 6312, 72, 11, 8279, 72, 11186, 612, 17664, 804, 7302, 13279, 1677, 25840], [75066, 507, 91987, 18280], [37, 2171, 1816], [76109, 32926, 7830], [34, 1604, 54793], [85895, 998, 735, 3516, 716, 261, 612, 7302, 13279, 1677, 689, 54617], [56, 2701, 21178, 9937, 42657], [30690, 13279, 1677, 689, 54617, 612, 17177, 82335, 69698, 10670], [11916, 329, 4625, 315, 800, 13, 11826, 304, 279, 25599, 11, 17177, 82335, 69698, 10670, 612, 76155, 7876, 49197], [24641, 17979, 8956, 1056, 1821, 612, 12656, 44406], [791, 220, 14299, 1705, 315, 578, 20437, 7302, 13279, 74689], [2654, 7414, 2009, 3271, 612, 423, 461, 268, 409, 3926, 285], [79525, 8170, 81, 4910, 11, 7295, 68533, 25640], [54567, 423, 1564, 275, 612, 445, 6, 2244, 27417, 265, 11629, 52801, 2428, 409, 3206, 99277], [25523, 1604, 59129, 89457, 11, 3842, 34362, 354, 23251, 10670, 612, 47304, 9995, 2099, 8747, 54617, 323, 99432], [85856, 30162, 5770, 323, 2582, 27417, 265, 409, 326, 6, 7271, 76743, 409, 56301], [29185, 1122, 426, 1259], [50219, 16870, 73872], [38, 3029, 78529, 82, 11629, 22188, 25840, 612, 4275, 3981, 622, 14304, 10176], [2181, 24752, 587, 45532, 1543], [44, 12333, 273, 8215, 857, 6985], [38, 25380, 20832], [44, 8458, 18165, 268, 59611, 11, 1322, 5444, 3074, 68389, 612, 12131, 735, 680], [2321, 1293, 935, 70184, 295], [34, 13, 9995, 2099, 8747, 11, 66916, 34467, 482, 921, 13884, 24366, 2868, 26, 7295, 4821, 61652, 26, 7295, 22036, 7211, 612, 328, 474, 20218], [45, 1003, 89457], [79744, 21396, 89457], [2520, 13266, 10180, 2057, 9305, 1226, 8375, 1088, 1472], [33, 5700, 311, 279, 9935], [12698, 1752, 323, 13944], [10267, 2684, 2893, 9305], [16010, 74933], [41, 97576, 15013, 35236], [29802, 301, 2130], [29784, 1215, 220, 1556, 437], [2169, 954, 19757, 15677, 3296, 13625, 47643, 2353], [54049, 3614, 75, 525], [2729, 5046, 1398, 458], [3792, 44758, 14936, 13432], [791, 7252, 5046, 33919, 47051, 5721], [2149, 11353, 435, 361, 839, 21593, 83, 2786, 11406, 0, 510, 24374, 2331], [2149, 11353, 435, 361, 839, 21593, 83, 2786, 11406, 0, 510, 24374, 2331], [14755, 81276], [14755, 81276, 11119, 13, 220, 320, 6728, 2352, 8], [5561, 4605], [64938, 950, 31917], [791, 7252, 5046, 60626, 26340, 482, 578, 8384, 268, 2411, 11348], [4808, 28996, 3468, 4317], [4516, 89, 28676, 51127, 50464, 89268], [6349, 4317, 22425, 689], [55439, 28787, 8799, 9783, 689], [31516, 83659, 50464, 14751, 437], [11916, 6792, 267, 4042, 62199, 510, 20944, 60], [34, 9252, 24952, 969, 482, 54751], [16589, 393, 9265], [38942, 978, 32429, 689], [67855, 31900, 510, 24374, 2331, 510, 20944, 60], [33, 6497, 50479], [34, 1923, 22510], [1163, 484, 25, 16327, 320, 24374, 883], [1163, 484, 25, 16327, 320, 24374, 883], [45030, 425, 4953, 13, 320, 24374, 883], [38, 11423, 54751, 8105], [38, 11423, 44730], [46484, 315, 279, 13120], [34746, 7445, 51305], [27689, 578, 8828], [7979, 355, 40096, 437], [6349, 4317, 67005, 52177], [45240, 14767, 578, 13321, 47784, 82, 510, 24374, 2331], [40353, 40113, 56426, 510, 24374, 2331], [50, 3042, 300, 1611, 2998, 64661], [10254, 944, 4688], [791, 7252, 315, 3279, 386, 22983], [791, 48833, 36303, 17200, 510, 24374, 2331], [791, 48833, 36303, 17200, 510, 24374, 2331], [791, 13321, 47784, 82, 320, 24374, 883], [2378, 1556, 6, 40616], [73092, 2483, 5979, 355, 1611, 386, 6347, 288, 482, 14582, 13903, 635], [53, 9700, 288, 656, 9599, 33], [68853, 2045, 11, 11119, 13], [68853, 2045, 11, 11119, 13], [34, 1995, 784, 689, 13852, 261, 482, 24298, 6027, 14582, 13903, 635, 510, 24374, 2331], [34, 1995, 784, 689, 13852, 261, 482, 14582, 13903, 635, 510, 24374, 2331], [29951, 59081, 578, 17366], [34564, 41489, 763, 9305], [17111, 4047], [37353, 71191, 520, 4718, 6984, 25166, 25, 578, 7252, 5046, 18682, 41489, 304, 279, 364, 82], [22333, 11452], [47, 324, 69651], [7594, 4798, 1628, 34722], [35391, 1347, 5248], [791, 16506, 432, 1154, 1952], [80277, 25, 3979, 2009, 99104, 596, 62912, 54751], [2729, 9137], [35, 73, 32005, 50464, 89268, 482, 11119, 13], [35, 73, 32005, 50464, 89268, 482, 11119, 13], [6719, 285, 70780, 5364, 44338, 67005, 52177], [791, 30800, 5046, 2493, 391, 783], [1844, 501, 20752], [33478, 5046, 578, 9941], [69404, 33093], [34655, 1789, 362, 6187, 72635, 1789, 362, 65452], [791, 8976, 38300], [1951, 47484, 48241, 277], [644, 4718, 43044, 510, 24374, 2331], [644, 4718, 43044, 510, 24374, 2331], [4054, 3296, 3861], [791, 41962, 1628, 578, 23342], [5159, 12424, 25, 578, 7252, 5046, 9454, 93839, 510, 24374, 2331], [49, 14320, 1611, 40710], [2170, 3053, 15607, 409, 22730, 29749, 469, 645], [2232, 8424, 480, 6960, 23404, 822, 6383, 320, 20944, 8], [2232, 8424, 480, 6960, 23404, 822, 2807, 313, 33, 62552, 355, 1611, 32749, 22510], [16680, 1752], [29518, 5336, 11345], [2213, 295, 635, 369, 80847], [10464, 4718, 12799, 7713, 358], [10464, 4718, 12799, 7713, 8105], [10544, 386, 9242], [32, 34464, 315, 9601, 323, 16290], [32, 8976, 15371, 3861], [32, 8976, 11406, 3861], [6971, 525, 1561, 4435], [35, 685, 5046, 16290], [91471, 5046, 578, 12538], [47493, 83942], [54834, 388], [20944, 4740, 16290], [20944, 2468, 4418, 4910, 220, 320, 24374, 883], [20944, 2468, 4418, 4910, 220, 320, 24374, 883], [2822, 56060, 1789, 578, 423, 7169], [32309, 5046, 23754], [47, 16345, 75, 525], [36152, 763, 28059, 510, 6620, 16, 60], [36152, 763, 28059, 510, 6620, 17, 60], [1542, 45707, 12103, 315, 264, 75725, 12103], [50982, 61752, 304, 4212], [791, 5742, 315, 578, 34282], [791, 1630, 38829], [34126, 54343], [20004, 13257], [80069, 1952, 29935, 9420], [38234, 74, 2298, 1534], [791, 3494, 5046, 578, 11746, 96122], [1991, 38916], [11787, 1472, 100123, 30], [23912, 69, 287, 449, 279, 47847, 320, 6728, 88473, 8], [41, 6809, 7505, 622, 269, 220, 1556, 437], [41, 6217, 15403, 12], [34, 5763, 89, 28676], [45605, 4740, 64680], [1844, 501, 20752, 510, 20944, 60], [67855, 31900, 510, 24374, 2331, 510, 20944, 60], [34, 14320], [39, 20340, 5046, 578, 19229], [644, 17331, 578, 4470, 25166], [3166], [61950, 10120, 69108, 358], [61950, 10120, 69108, 8105], [61950, 10120, 69108, 14767], [40353, 40113, 56426, 510, 24374, 2331], [90269], [791, 19508, 5031, 1771, 578, 26823, 320, 24374, 883], [791, 19508, 5031, 1771, 578, 26823, 320, 24374, 883], [32, 8817, 30223, 1037, 22759, 30223, 1037, 69327, 507, 37311, 299, 58020, 88439], [83493, 3234, 36684, 6489], [38, 11423, 54751], [43, 25415, 48723, 482, 99431, 220, 1556, 437, 1611, 386, 34862, 3074, 482, 43912, 75, 5490], [43, 25415, 48723, 482, 99431, 220, 1556, 437, 1611, 386, 34862, 3074, 482, 43912, 75, 5490], [84259, 37469, 72410], [3511, 360, 71, 28676, 48452], [40450, 1628, 86561, 7531, 25, 4497, 5046, 578, 7252, 10505, 8], [791, 7252, 5046, 11258, 2468, 5664], [14755, 26749], [45030, 425, 4953, 13, 320, 24374, 883], [54834, 364, 2321, 2052], [6003], [18532, 5046, 393, 32932, 1441], [697, 6003], [49, 579, 578, 34944], [626, 13, 7568, 261], [1131, 3112, 12007, 1789, 2052], [44, 3742, 77544], [44, 16695, 452, 58061, 50464, 89268], [6349, 300], [79795, 5046, 3165, 3536], [33103, 269, 283, 1131], [61032, 3258, 4656, 361, 62912, 54751], [3915, 578, 386, 35017, 38866, 5046, 578, 38747, 84602, 510, 20944, 60], [27247, 38824], [1110, 2792, 4692], [43819, 347, 372], [11916, 6792, 267, 4042, 62199], [7098, 30044, 8105], [7098, 30044, 15796, 4366, 17243, 300, 3234, 17360, 30412], [33, 847, 520, 279, 17781, 320, 6728, 88473, 8], [5028, 39248, 315, 507, 10616], [22427, 661, 315, 264, 9671, 1543, 320, 6728, 88473, 8], [2822, 4497, 92014, 320, 6728, 88473, 8], [51, 1936, 1088], [79616, 32745, 2493, 7341, 35283], [18902, 14936, 50424], [791, 34282, 11406], [20944, 1952, 9220, 91034, 510, 20944, 60], [92140, 75, 20614], [49, 11345, 3298], [33787], [52837, 13], [26915, 17072, 5046, 578, 17781], [29967, 356, 3282, 288, 70130, 2453, 20459, 362, 3341, 29345, 58749, 393, 1995, 969], [38, 11423, 54751, 358], [14710, 5046, 578, 4435], [2729, 5046, 4212], [20147], [3648, 51679, 763, 21694, 27395], [791, 7252, 5046, 432, 5253, 1345, 18976, 578, 34483, 23116], [34, 30279, 426, 7206, 3074], [49, 5049, 1369, 953, 300], [52586, 32019, 6834, 7023, 1609], [1383, 578, 12424], [9027, 6553, 20901], [12289, 3714, 9262, 358, 10505, 8], [50, 519, 3444, 482, 1666, 23116, 6122, 3296], [50, 519, 3444, 11406], [30635, 36444, 640, 64], [46, 328, 43008, 14128, 444, 978], [41, 54841, 551, 426, 6354, 3422, 323, 432, 277, 1385], [49, 10503, 1883, 645, 25, 62912, 54751], [32, 6354, 3422], [85444, 30704], [644, 15166], [5501], [7979, 89, 1195, 553], [1318, 5348, 8828, 57496], [20944, 510, 24374, 2331], [20944, 510, 24374, 2331], [791, 47422], [56441, 7839, 1628, 34819], [58713, 26676, 25, 578, 7252, 5046, 578, 26676, 320, 2520, 9305, 388, 11, 432, 22292, 11, 445, 9146, 612, 18098, 5079, 8, 510, 25554, 60], [791, 50717], [791, 10289, 62912, 54751], [20780, 69131, 11, 482, 320, 24374, 883], [2822, 8398], [53, 74501, 50767], [51, 526, 812], [92301], [5159, 24367, 482, 578, 15668, 7252, 5046, 578, 10699], [50, 27197, 14582, 13903, 635, 320, 24374, 883], [50, 27197, 14582, 13903, 635, 320, 24374, 883], [11916, 6792, 267, 4042], [19436, 3234, 285], [43993, 12134, 10845, 533, 3074, 25, 578, 15457, 2100, 13759], [43993, 12134, 10845, 533, 3074, 11, 14598], [99673, 11, 14598], [48353, 11, 14598], [48353, 11, 14598], [48353, 11, 14598], [32, 14244, 2234, 21266], [2460, 3011, 1472, 3053, 956, 26257, 43474], [33, 6354, 3422, 482], [4438, 2057, 423, 2191, 519, 273, 1556, 31416, 33909], [11859], [49, 4730, 1628, 20449], [791, 7252, 5046, 482], [29784], [57, 10922, 40952], [4594, 1272, 578, 7252, 5046, 482, 20880, 9220, 510, 25554, 60], [35, 1553, 6419], [791, 7252, 5046, 13000, 20442, 268, 11, 11119, 13, 358], [46324, 20442, 268], [46324, 20442, 268, 14767], [42537, 370, 438], [73092, 3457, 355, 1611, 386, 6347, 288], [99412, 89268, 510, 60438, 60], [791, 8410, 11, 14598], [791, 8410, 11, 14598], [791, 8410, 11, 14598], [1844, 8288, 291, 12, 2782], [43993, 12134, 10845, 533, 3074, 320, 64431, 705, 14598], [92313, 13005], [31440, 75980, 25, 578, 78796, 7327, 27643, 311, 10467, 15367, 84001], [96945, 315, 279, 40301], [508, 339, 28200, 34722, 482, 578, 72037, 11348, 25, 578, 7252, 315, 2522, 31215, 919], [29707, 315, 35567], [29303, 43025, 320, 46, 18024, 3067, 622, 869, 336, 76921, 64, 8, 482, 95193, 641, 3524, 409, 13370, 34395, 3383, 17606], [62190, 25, 426, 6354, 3422, 323, 432, 277, 1385], [1623, 790, 11, 14598], [96084, 40200], [44, 47535, 30417], [13058, 553], [11769, 17262, 315, 8828], [43174, 437, 8105], [10343, 82], [791, 7252, 315, 2893, 93622], [22759, 698, 315, 279, 14588], [9028, 894, 1952], [697, 899, 811], [2654, 38995, 1611, 372, 25, 16431, 22865, 921, 519, 505, 279, 65658, 315, 279, 9346], [2149, 1978, 462, 25, 386, 12329, 486], [47, 15113, 9978, 25, 39216, 612, 480, 22711], [53, 4023, 8747, 25, 578, 13625, 68300], [33, 613, 25, 30555, 258, 47784, 437], [33, 613, 25, 72675, 28968, 811], [33, 613, 25, 578, 356, 4896, 77112], [2367, 301, 25, 578, 81441, 320, 97406, 8], [791, 4435, 315, 68533, 435, 70416], [51290, 82335, 69698, 10670, 25, 362, 75200], [44, 9700, 472, 25, 22862, 47784, 437], [57564, 17851, 25, 11629, 52801, 552, 220, 482], [3513, 93622, 25, 11629, 82649, 552, 51097, 13, 220, 612], [32, 328, 47388, 5770, 65925], [22111, 39679, 921, 269, 4881], [54, 40538, 25, 435, 52488, 507, 1653, 1439], [37, 4202, 978, 25, 1050, 447, 27960, 11, 432, 3963, 25, 43856, 2194, 612, 26080], [51, 6583, 1609, 79678, 25, 578, 18878, 5192, 9881], [791, 8155, 13120, 315, 279, 18042, 82], [47, 14912, 6729, 25, 9671, 3105, 78820, 482, 53300], [79762, 267, 25, 578, 9878, 1441, 11, 10901, 13, 220, 612, 96248, 13926, 25, 20239, 300, 552], [47, 37332, 42327, 596, 39679, 19332, 19122], [22111, 26050, 3095, 482, 69235, 596, 2467, 351, 822, 323, 7089, 76830, 64318, 369, 42751], [9028, 76535, 12649, 3444], [32, 25991, 1974, 75200, 11, 11119, 13, 358], [33, 613, 25, 350, 14310, 460, 612, 435, 773, 361, 304, 423, 30893], [1360, 74, 1073, 44191, 25, 63306, 2360, 13], [50, 1557, 1964, 1394, 1037], [33, 613, 25, 578, 16835, 55485, 47784, 437], [1163, 454, 258, 25, 56491, 47784, 437, 51097, 13, 220, 612], [44, 5171, 3326, 72, 25, 52166, 14283, 689, 34889, 99605], [50, 69695, 9334, 25, 37355, 689], [3513, 93622, 56491, 12103, 19907, 25, 17781, 4238, 612, 59766, 1604], [22111, 13896, 826, 315, 279, 28200, 482, 16566, 1565, 25, 19537, 445, 1142, 6675, 2761, 9939, 451], [6719, 12440, 25, 356, 4896, 47784, 78, 612, 96248, 13926, 25, 20239, 300, 3557], [2654, 4214, 11, 3842, 25, 578, 27390, 423, 3095], [51, 6583, 1609, 79678, 25, 220, 17772, 507, 65930, 11, 10901, 2637, 8171, 2265, 61930, 1102, 56418, 612, 2893, 93622, 25, 57104, 596, 49427], [78666, 496, 2259, 25, 9083, 64, 32743, 6043, 2947, 5997, 72, 612, 58824, 462, 25, 386, 12329, 486], [1360, 74, 1073, 44191, 25, 71292, 612, 72124], [77414, 1892, 25, 36367, 32893], [39379, 747, 9700, 25, 11629, 52801, 648, 20239, 561, 2428], [98581, 295, 25, 71058, 53300], [23392, 55383], [2367, 301, 25, 10948, 369, 279, 16591, 6785, 19033, 320, 18902, 6207, 883], [38, 83591, 25, 46247, 56015, 406, 77112, 612, 328, 69695, 9334, 25, 89008, 978, 300, 1880, 386, 19010, 285, 23775], [44, 9700, 472, 76541, 25, 67888, 42626, 300], [15370, 1905, 691, 25, 25187, 1208, 74599, 2727], [34013, 2649, 25, 10948, 505, 279, 66563, 315, 9635, 323, 18157], [44, 9700, 472, 25, 11629, 52801, 552, 51097, 13, 220, 612], [3792, 311, 5348], [38426], [9028, 4588, 311, 33093, 320, 49828, 20371, 6207, 8], [3513, 93622, 25, 63306, 2360, 13, 220, 364, 51213, 10020, 6, 469, 10630, 13], [33, 472, 564, 25, 30555, 258, 612, 11655, 8083, 47784, 437], [44, 408, 2053, 708, 25105, 25, 362, 14013, 63666, 13120, 596, 18308], [33, 613, 25, 2582, 27417, 3545, 77112, 51097, 13, 220, 482], [4873, 46225, 1291, 25, 8940, 531, 15760, 1392, 11, 6690, 82, 612, 47784, 82], [26070, 3778, 2175, 14075], [38, 1832, 25662, 72, 25, 63306, 2360, 13], [47, 324, 5997, 25, 578, 56176, 16657], [791, 29950, 1050, 2635, 367, 26749], [47, 324, 5997, 25, 10948, 369, 279, 16657, 10455], [1687, 484, 25, 578, 31048, 95937, 328, 1354], [41, 815, 13, 42258, 25, 921, 23184, 818, 11, 21652, 304, 469, 30893, 11, 3744, 6388, 304, 469, 17559, 612, 53662, 11, 435, 773, 361, 323, 58824, 299], [1360, 74, 1073, 44191, 25, 63306, 2360, 13, 612, 4610, 402, 15872, 88, 25, 2009, 23916, 265, 16062, 8377, 336, 1725], [50, 4341, 1543, 29384, 25, 56491, 21785, 11, 11119, 13], [57594, 42245, 25, 578, 19198, 11629, 52801, 552], [22111, 13896, 826, 315, 279, 28200, 25, 393, 18851, 6729, 596, 220, 8171, 25423], [43, 285, 11949, 482, 220, 29124, 83, 29246, 423, 6, 20912, 4149, 66, 408, 5048], [22111, 13896, 826, 315, 279, 28200, 482, 1443, 392, 531, 25, 5124, 16965, 833, 288, 526, 11, 220, 445, 22970], [9330, 266, 21148, 25, 47784, 437, 369, 30555, 258, 11, 42751, 323, 20915, 24012, 11, 11119, 13], [37655, 1108, 72, 93511, 1572, 315, 22463], [31224, 392, 531, 25, 578, 36931, 935, 70184, 1441, 612, 935, 51799, 295, 320, 11325, 596, 8], [35515, 2099, 8747, 25, 445, 6, 2244, 1897, 78], [44, 9700, 472, 25, 32479, 10948], [42, 2303, 42802, 285, 80, 1900, 72, 320, 16493, 13432, 505, 279, 27660, 25586, 8], [36152], [41, 10002], [66761], [76863, 612, 52433], [36152, 1628, 15028], [5028, 1157], [42647], [3561, 67378], [11859], [16493, 13432], [33, 44936, 35741], [37830, 77797], [65569, 19757], [49, 49339, 11628, 11206], [30431, 2298, 3074, 15302, 685], [10343], [91638, 26634, 19945, 391], [36500, 43754], [16027, 37380], [91792, 40971, 612, 27582], [35, 31473], [1110, 9497], [76863], [1999, 950], [96601]], 'model': 'text-embedding-ada-002', 'encoding_format': 'base64'}}\n",
      "DEBUG:httpcore.connection:connect_tcp.started host='127.0.0.1' port=1089 local_address=None timeout=None socket_options=None\n",
      "DEBUG:httpcore.connection:connect_tcp.complete return_value=<httpcore._backends.sync.SyncStream object at 0x000001AF12B265F0>\n",
      "DEBUG:httpcore.http11:send_request_headers.started request=<Request [b'CONNECT']>\n",
      "DEBUG:httpcore.http11:send_request_headers.complete\n",
      "DEBUG:httpcore.http11:send_request_body.started request=<Request [b'CONNECT']>\n",
      "DEBUG:httpcore.http11:send_request_body.complete\n",
      "DEBUG:httpcore.http11:receive_response_headers.started request=<Request [b'CONNECT']>\n",
      "DEBUG:httpcore.http11:receive_response_headers.complete return_value=(b'HTTP/1.1', 200, b'Connection established', [])\n",
      "DEBUG:httpcore.proxy:start_tls.started ssl_context=<ssl.SSLContext object at 0x000001AF14E0DAC0> server_hostname='api.openai.com' timeout=None\n",
      "DEBUG:httpcore.proxy:start_tls.complete return_value=<httpcore._backends.sync.SyncStream object at 0x000001AF12B25E40>\n",
      "DEBUG:httpcore.http11:send_request_headers.started request=<Request [b'POST']>\n",
      "DEBUG:httpcore.http11:send_request_headers.complete\n",
      "DEBUG:httpcore.http11:send_request_body.started request=<Request [b'POST']>\n",
      "DEBUG:httpcore.http11:send_request_body.complete\n",
      "DEBUG:httpcore.http11:receive_response_headers.started request=<Request [b'POST']>\n",
      "DEBUG:httpcore.http11:receive_response_headers.complete return_value=(b'HTTP/1.1', 200, b'OK', [(b'Date', b'Thu, 22 Feb 2024 03:03:36 GMT'), (b'Content-Type', b'application/json'), (b'Transfer-Encoding', b'chunked'), (b'Connection', b'keep-alive'), (b'access-control-allow-origin', b'*'), (b'openai-model', b'text-embedding-ada-002'), (b'openai-organization', b'user-afy5yzv93geh2cq6ef0fp6be'), (b'openai-processing-ms', b'290'), (b'openai-version', b'2020-10-01'), (b'strict-transport-security', b'max-age=15724800; includeSubDomains'), (b'x-ratelimit-limit-requests', b'200'), (b'x-ratelimit-limit-tokens', b'150000'), (b'x-ratelimit-remaining-requests', b'199'), (b'x-ratelimit-remaining-tokens', b'146152'), (b'x-ratelimit-reset-requests', b'7m12s'), (b'x-ratelimit-reset-tokens', b'1.538s'), (b'x-request-id', b'req_c881bdb3caab1cc009d1a877051b16f2'), (b'CF-Cache-Status', b'DYNAMIC'), (b'Set-Cookie', b'__cf_bm=hNoAdXN4u2zZ9gQA.HQqPAVoGS9CMQNmqIFVBBdOX38-1708571016-1.0-AZxwxvlghQb0DJn/nV5zb1fVLwBw+7yfMeuOMaiWv0piKnweM3kROMutuB2hgdfelTaTQPH5lysTCtcDlx7/uOw=; path=/; expires=Thu, 22-Feb-24 03:33:36 GMT; domain=.api.openai.com; HttpOnly; Secure; SameSite=None'), (b'Set-Cookie', b'_cfuvid=L0Xgur1i2eEl3X4sN6Xzs4HzGoBOSTU52fz6BNay3UU-1708571016132-0.0-604800000; path=/; domain=.api.openai.com; HttpOnly; Secure; SameSite=None'), (b'Server', b'cloudflare'), (b'CF-RAY', b'8593ff2e2d1a0acd-LAS'), (b'Content-Encoding', b'br'), (b'alt-svc', b'h3=\":443\"; ma=86400')])\n",
      "INFO:httpx:HTTP Request: POST https://api.openai.com/v1/embeddings \"HTTP/1.1 200 OK\"\n",
      "DEBUG:httpcore.http11:receive_response_body.started request=<Request [b'POST']>\n",
      "DEBUG:httpcore.http11:receive_response_body.complete\n",
      "DEBUG:httpcore.http11:response_closed.started\n",
      "DEBUG:httpcore.http11:response_closed.complete\n",
      "DEBUG:openai._base_client:HTTP Request: POST https://api.openai.com/v1/embeddings \"200 OK\"\n",
      "INFO:faiss.loader:Loading faiss with AVX2 support.\n",
      "INFO:faiss.loader:Could not load library with AVX2 support due to:\n",
      "ModuleNotFoundError(\"No module named 'faiss.swigfaiss_avx2'\")\n",
      "INFO:faiss.loader:Loading faiss.\n",
      "INFO:faiss.loader:Successfully loaded faiss.\n"
     ]
    }
   ],
   "source": [
    "from langchain_community.vectorstores import FAISS\n",
    "from langchain_openai import OpenAIEmbeddings\n",
    "\n",
    "vector_db = FAISS.from_texts(proper_nouns, OpenAIEmbeddings())\n",
    "retriever = vector_db.as_retriever(search_kwargs={\"k\": 15})"
   ],
   "metadata": {
    "collapsed": false,
    "pycharm": {
     "name": "#%%\n"
    }
   }
  },
  {
   "cell_type": "code",
   "execution_count": 55,
   "outputs": [],
   "source": [
    "from langchain.chains import create_sql_query_chain\n",
    "from operator import itemgetter\n",
    "\n",
    "from langchain_core.prompts import ChatPromptTemplate\n",
    "from langchain_core.runnables import RunnablePassthrough\n",
    "\n",
    "system = \"\"\"You are a SQLite expert. Given an input question, create a syntactically \\\n",
    "correct SQLite query to run. Unless otherwise specificed, do not return more than \\\n",
    "{top_k} rows.\\n\\nHere is the relevant table info: {table_info}\\n\\nHere is a non-exhaustive \\\n",
    "list of possible feature values. If filtering on a feature value make sure to check its spelling \\\n",
    "against this list first:\\n\\n{proper_nouns}\"\"\"\n",
    "\n",
    "prompt = ChatPromptTemplate.from_messages([(\"system\", system), (\"human\", \"{input}\")])\n",
    "\n",
    "query_chain = create_sql_query_chain(llm, db, prompt=prompt)\n",
    "retriever_chain = (\n",
    "    itemgetter(\"question\")\n",
    "    | retriever\n",
    "    | (lambda docs: \"\\n\".join(doc.page_content for doc in docs))\n",
    ")\n",
    "chain = RunnablePassthrough.assign(proper_nouns=retriever_chain) | query_chain"
   ],
   "metadata": {
    "collapsed": false,
    "pycharm": {
     "name": "#%%\n"
    }
   }
  },
  {
   "cell_type": "code",
   "execution_count": 56,
   "outputs": [
    {
     "name": "stderr",
     "output_type": "stream",
     "text": [
      "DEBUG:openai._base_client:Request options: {'method': 'post', 'url': '/chat/completions', 'files': None, 'json_data': {'messages': [{'role': 'system', 'content': 'You are a SQLite expert. Given an input question, create a syntactically correct SQLite query to run. Unless otherwise specificed, do not return more than 5 rows.\\n\\nHere is the relevant table info: \\nCREATE TABLE \"Album\" (\\n\\t\"AlbumId\" INTEGER NOT NULL, \\n\\t\"Title\" NVARCHAR(160) NOT NULL, \\n\\t\"ArtistId\" INTEGER NOT NULL, \\n\\tPRIMARY KEY (\"AlbumId\"), \\n\\tFOREIGN KEY(\"ArtistId\") REFERENCES \"Artist\" (\"ArtistId\")\\n)\\n\\n/*\\n3 rows from Album table:\\nAlbumId\\tTitle\\tArtistId\\n1\\tFor Those About To Rock We Salute You\\t1\\n2\\tBalls to the Wall\\t2\\n3\\tRestless and Wild\\t2\\n*/\\n\\n\\nCREATE TABLE \"Artist\" (\\n\\t\"ArtistId\" INTEGER NOT NULL, \\n\\t\"Name\" NVARCHAR(120), \\n\\tPRIMARY KEY (\"ArtistId\")\\n)\\n\\n/*\\n3 rows from Artist table:\\nArtistId\\tName\\n1\\tAC/DC\\n2\\tAccept\\n3\\tAerosmith\\n*/\\n\\n\\nCREATE TABLE \"Customer\" (\\n\\t\"CustomerId\" INTEGER NOT NULL, \\n\\t\"FirstName\" NVARCHAR(40) NOT NULL, \\n\\t\"LastName\" NVARCHAR(20) NOT NULL, \\n\\t\"Company\" NVARCHAR(80), \\n\\t\"Address\" NVARCHAR(70), \\n\\t\"City\" NVARCHAR(40), \\n\\t\"State\" NVARCHAR(40), \\n\\t\"Country\" NVARCHAR(40), \\n\\t\"PostalCode\" NVARCHAR(10), \\n\\t\"Phone\" NVARCHAR(24), \\n\\t\"Fax\" NVARCHAR(24), \\n\\t\"Email\" NVARCHAR(60) NOT NULL, \\n\\t\"SupportRepId\" INTEGER, \\n\\tPRIMARY KEY (\"CustomerId\"), \\n\\tFOREIGN KEY(\"SupportRepId\") REFERENCES \"Employee\" (\"EmployeeId\")\\n)\\n\\n/*\\n3 rows from Customer table:\\nCustomerId\\tFirstName\\tLastName\\tCompany\\tAddress\\tCity\\tState\\tCountry\\tPostalCode\\tPhone\\tFax\\tEmail\\tSupportRepId\\n1\\tLuís\\tGonçalves\\tEmbraer - Empresa Brasileira de Aeronáutica S.A.\\tAv. Brigadeiro Faria Lima, 2170\\tSão José dos Campos\\tSP\\tBrazil\\t12227-000\\t+55 (12) 3923-5555\\t+55 (12) 3923-5566\\tluisg@embraer.com.br\\t3\\n2\\tLeonie\\tKöhler\\tNone\\tTheodor-Heuss-Straße 34\\tStuttgart\\tNone\\tGermany\\t70174\\t+49 0711 2842222\\tNone\\tleonekohler@surfeu.de\\t5\\n3\\tFrançois\\tTremblay\\tNone\\t1498 rue Bélanger\\tMontréal\\tQC\\tCanada\\tH2G 1A7\\t+1 (514) 721-4711\\tNone\\tftremblay@gmail.com\\t3\\n*/\\n\\n\\nCREATE TABLE \"Employee\" (\\n\\t\"EmployeeId\" INTEGER NOT NULL, \\n\\t\"LastName\" NVARCHAR(20) NOT NULL, \\n\\t\"FirstName\" NVARCHAR(20) NOT NULL, \\n\\t\"Title\" NVARCHAR(30), \\n\\t\"ReportsTo\" INTEGER, \\n\\t\"BirthDate\" DATETIME, \\n\\t\"HireDate\" DATETIME, \\n\\t\"Address\" NVARCHAR(70), \\n\\t\"City\" NVARCHAR(40), \\n\\t\"State\" NVARCHAR(40), \\n\\t\"Country\" NVARCHAR(40), \\n\\t\"PostalCode\" NVARCHAR(10), \\n\\t\"Phone\" NVARCHAR(24), \\n\\t\"Fax\" NVARCHAR(24), \\n\\t\"Email\" NVARCHAR(60), \\n\\tPRIMARY KEY (\"EmployeeId\"), \\n\\tFOREIGN KEY(\"ReportsTo\") REFERENCES \"Employee\" (\"EmployeeId\")\\n)\\n\\n/*\\n3 rows from Employee table:\\nEmployeeId\\tLastName\\tFirstName\\tTitle\\tReportsTo\\tBirthDate\\tHireDate\\tAddress\\tCity\\tState\\tCountry\\tPostalCode\\tPhone\\tFax\\tEmail\\n1\\tAdams\\tAndrew\\tGeneral Manager\\tNone\\t1962-02-18 00:00:00\\t2002-08-14 00:00:00\\t11120 Jasper Ave NW\\tEdmonton\\tAB\\tCanada\\tT5K 2N1\\t+1 (780) 428-9482\\t+1 (780) 428-3457\\tandrew@chinookcorp.com\\n2\\tEdwards\\tNancy\\tSales Manager\\t1\\t1958-12-08 00:00:00\\t2002-05-01 00:00:00\\t825 8 Ave SW\\tCalgary\\tAB\\tCanada\\tT2P 2T3\\t+1 (403) 262-3443\\t+1 (403) 262-3322\\tnancy@chinookcorp.com\\n3\\tPeacock\\tJane\\tSales Support Agent\\t2\\t1973-08-29 00:00:00\\t2002-04-01 00:00:00\\t1111 6 Ave SW\\tCalgary\\tAB\\tCanada\\tT2P 5M5\\t+1 (403) 262-3443\\t+1 (403) 262-6712\\tjane@chinookcorp.com\\n*/\\n\\n\\nCREATE TABLE \"Genre\" (\\n\\t\"GenreId\" INTEGER NOT NULL, \\n\\t\"Name\" NVARCHAR(120), \\n\\tPRIMARY KEY (\"GenreId\")\\n)\\n\\n/*\\n3 rows from Genre table:\\nGenreId\\tName\\n1\\tRock\\n2\\tJazz\\n3\\tMetal\\n*/\\n\\n\\nCREATE TABLE \"Invoice\" (\\n\\t\"InvoiceId\" INTEGER NOT NULL, \\n\\t\"CustomerId\" INTEGER NOT NULL, \\n\\t\"InvoiceDate\" DATETIME NOT NULL, \\n\\t\"BillingAddress\" NVARCHAR(70), \\n\\t\"BillingCity\" NVARCHAR(40), \\n\\t\"BillingState\" NVARCHAR(40), \\n\\t\"BillingCountry\" NVARCHAR(40), \\n\\t\"BillingPostalCode\" NVARCHAR(10), \\n\\t\"Total\" NUMERIC(10, 2) NOT NULL, \\n\\tPRIMARY KEY (\"InvoiceId\"), \\n\\tFOREIGN KEY(\"CustomerId\") REFERENCES \"Customer\" (\"CustomerId\")\\n)\\n\\n/*\\n3 rows from Invoice table:\\nInvoiceId\\tCustomerId\\tInvoiceDate\\tBillingAddress\\tBillingCity\\tBillingState\\tBillingCountry\\tBillingPostalCode\\tTotal\\n1\\t2\\t2021-01-01 00:00:00\\tTheodor-Heuss-Straße 34\\tStuttgart\\tNone\\tGermany\\t70174\\t1.98\\n2\\t4\\t2021-01-02 00:00:00\\tUllevålsveien 14\\tOslo\\tNone\\tNorway\\t0171\\t3.96\\n3\\t8\\t2021-01-03 00:00:00\\tGrétrystraat 63\\tBrussels\\tNone\\tBelgium\\t1000\\t5.94\\n*/\\n\\n\\nCREATE TABLE \"InvoiceLine\" (\\n\\t\"InvoiceLineId\" INTEGER NOT NULL, \\n\\t\"InvoiceId\" INTEGER NOT NULL, \\n\\t\"TrackId\" INTEGER NOT NULL, \\n\\t\"UnitPrice\" NUMERIC(10, 2) NOT NULL, \\n\\t\"Quantity\" INTEGER NOT NULL, \\n\\tPRIMARY KEY (\"InvoiceLineId\"), \\n\\tFOREIGN KEY(\"TrackId\") REFERENCES \"Track\" (\"TrackId\"), \\n\\tFOREIGN KEY(\"InvoiceId\") REFERENCES \"Invoice\" (\"InvoiceId\")\\n)\\n\\n/*\\n3 rows from InvoiceLine table:\\nInvoiceLineId\\tInvoiceId\\tTrackId\\tUnitPrice\\tQuantity\\n1\\t1\\t2\\t0.99\\t1\\n2\\t1\\t4\\t0.99\\t1\\n3\\t2\\t6\\t0.99\\t1\\n*/\\n\\n\\nCREATE TABLE \"MediaType\" (\\n\\t\"MediaTypeId\" INTEGER NOT NULL, \\n\\t\"Name\" NVARCHAR(120), \\n\\tPRIMARY KEY (\"MediaTypeId\")\\n)\\n\\n/*\\n3 rows from MediaType table:\\nMediaTypeId\\tName\\n1\\tMPEG audio file\\n2\\tProtected AAC audio file\\n3\\tProtected MPEG-4 video file\\n*/\\n\\n\\nCREATE TABLE \"Playlist\" (\\n\\t\"PlaylistId\" INTEGER NOT NULL, \\n\\t\"Name\" NVARCHAR(120), \\n\\tPRIMARY KEY (\"PlaylistId\")\\n)\\n\\n/*\\n3 rows from Playlist table:\\nPlaylistId\\tName\\n1\\tMusic\\n2\\tMovies\\n3\\tTV Shows\\n*/\\n\\n\\nCREATE TABLE \"PlaylistTrack\" (\\n\\t\"PlaylistId\" INTEGER NOT NULL, \\n\\t\"TrackId\" INTEGER NOT NULL, \\n\\tPRIMARY KEY (\"PlaylistId\", \"TrackId\"), \\n\\tFOREIGN KEY(\"TrackId\") REFERENCES \"Track\" (\"TrackId\"), \\n\\tFOREIGN KEY(\"PlaylistId\") REFERENCES \"Playlist\" (\"PlaylistId\")\\n)\\n\\n/*\\n3 rows from PlaylistTrack table:\\nPlaylistId\\tTrackId\\n1\\t3402\\n1\\t3389\\n1\\t3390\\n*/\\n\\n\\nCREATE TABLE \"Track\" (\\n\\t\"TrackId\" INTEGER NOT NULL, \\n\\t\"Name\" NVARCHAR(200) NOT NULL, \\n\\t\"AlbumId\" INTEGER, \\n\\t\"MediaTypeId\" INTEGER NOT NULL, \\n\\t\"GenreId\" INTEGER, \\n\\t\"Composer\" NVARCHAR(220), \\n\\t\"Milliseconds\" INTEGER NOT NULL, \\n\\t\"Bytes\" INTEGER, \\n\\t\"UnitPrice\" NUMERIC(10, 2) NOT NULL, \\n\\tPRIMARY KEY (\"TrackId\"), \\n\\tFOREIGN KEY(\"MediaTypeId\") REFERENCES \"MediaType\" (\"MediaTypeId\"), \\n\\tFOREIGN KEY(\"GenreId\") REFERENCES \"Genre\" (\"GenreId\"), \\n\\tFOREIGN KEY(\"AlbumId\") REFERENCES \"Album\" (\"AlbumId\")\\n)\\n\\n/*\\n3 rows from Track table:\\nTrackId\\tName\\tAlbumId\\tMediaTypeId\\tGenreId\\tComposer\\tMilliseconds\\tBytes\\tUnitPrice\\n1\\tFor Those About To Rock (We Salute You)\\t1\\t1\\t1\\tAngus Young, Malcolm Young, Brian Johnson\\t343719\\t11170334\\t0.99\\n2\\tBalls to the Wall\\t2\\t2\\t1\\tU. Dirkschneider, W. Hoffmann, H. Frank, P. Baltes, S. Kaufmann, G. Hoffmann\\t342562\\t5510424\\t0.99\\n3\\tFast As a Shark\\t3\\t2\\t1\\tF. Baltes, S. Kaufman, U. Dirkscneider & W. Hoffman\\t230619\\t3990994\\t0.99\\n*/\\n\\nHere is a non-exhaustive list of possible feature values. If filtering on a feature value make sure to check its spelling against this list first:\\n\\n'}, {'role': 'user', 'content': 'What are all the genres of elenis moriset songs\\nSQLQuery: '}], 'model': 'gpt-3.5-turbo-1106', 'n': 1, 'stop': ['\\nSQLResult:'], 'stream': False, 'temperature': 0.0}}\n",
      "DEBUG:httpcore.connection:connect_tcp.started host='127.0.0.1' port=1089 local_address=None timeout=None socket_options=None\n",
      "DEBUG:httpcore.connection:connect_tcp.complete return_value=<httpcore._backends.sync.SyncStream object at 0x000001AF0FC27CA0>\n",
      "DEBUG:httpcore.http11:send_request_headers.started request=<Request [b'CONNECT']>\n",
      "DEBUG:httpcore.http11:send_request_headers.complete\n",
      "DEBUG:httpcore.http11:send_request_body.started request=<Request [b'CONNECT']>\n",
      "DEBUG:httpcore.http11:send_request_body.complete\n",
      "DEBUG:httpcore.http11:receive_response_headers.started request=<Request [b'CONNECT']>\n",
      "DEBUG:httpcore.http11:receive_response_headers.complete return_value=(b'HTTP/1.1', 200, b'Connection established', [])\n",
      "DEBUG:httpcore.proxy:start_tls.started ssl_context=<ssl.SSLContext object at 0x000001AF14CDFE40> server_hostname='api.openai.com' timeout=None\n",
      "DEBUG:httpcore.proxy:start_tls.complete return_value=<httpcore._backends.sync.SyncStream object at 0x000001AF0FAF11B0>\n",
      "DEBUG:httpcore.http11:send_request_headers.started request=<Request [b'POST']>\n",
      "DEBUG:httpcore.http11:send_request_headers.complete\n",
      "DEBUG:httpcore.http11:send_request_body.started request=<Request [b'POST']>\n",
      "DEBUG:httpcore.http11:send_request_body.complete\n",
      "DEBUG:httpcore.http11:receive_response_headers.started request=<Request [b'POST']>\n",
      "DEBUG:httpcore.http11:receive_response_headers.complete return_value=(b'HTTP/1.1', 200, b'OK', [(b'Date', b'Thu, 22 Feb 2024 03:04:18 GMT'), (b'Content-Type', b'application/json'), (b'Transfer-Encoding', b'chunked'), (b'Connection', b'keep-alive'), (b'access-control-allow-origin', b'*'), (b'Cache-Control', b'no-cache, must-revalidate'), (b'openai-model', b'gpt-3.5-turbo-1106'), (b'openai-organization', b'user-afy5yzv93geh2cq6ef0fp6be'), (b'openai-processing-ms', b'1001'), (b'openai-version', b'2020-10-01'), (b'strict-transport-security', b'max-age=15724800; includeSubDomains'), (b'x-ratelimit-limit-requests', b'200'), (b'x-ratelimit-limit-tokens', b'40000'), (b'x-ratelimit-remaining-requests', b'183'), (b'x-ratelimit-remaining-tokens', b'38389'), (b'x-ratelimit-reset-requests', b'1h57m23.847s'), (b'x-ratelimit-reset-tokens', b'2.416s'), (b'x-request-id', b'req_1f6770603f6bf66ea6c1d84987f1907d'), (b'CF-Cache-Status', b'DYNAMIC'), (b'Set-Cookie', b'__cf_bm=ry5QlVjWXCQJiVd5nYEVNlg.EK_gGAsF3j.oJ95btaw-1708571058-1.0-AUn8IJlqx8ORz7aRJfRfb/CKEwwEhaokikJslqg/ZDcbaAr6JEHyP1FAwgH97L5+LMV294T1ogl+EmYFDPDgjgM=; path=/; expires=Thu, 22-Feb-24 03:34:18 GMT; domain=.api.openai.com; HttpOnly; Secure; SameSite=None'), (b'Set-Cookie', b'_cfuvid=80sMbzNpOZZbFDoZO1GaqykEJlXmAotcu8vPk18vct4-1708571058870-0.0-604800000; path=/; domain=.api.openai.com; HttpOnly; Secure; SameSite=None'), (b'Server', b'cloudflare'), (b'CF-RAY', b'859400363937f6e5-NRT'), (b'Content-Encoding', b'br'), (b'alt-svc', b'h3=\":443\"; ma=86400')])\n",
      "INFO:httpx:HTTP Request: POST https://api.openai.com/v1/chat/completions \"HTTP/1.1 200 OK\"\n",
      "DEBUG:httpcore.http11:receive_response_body.started request=<Request [b'POST']>\n",
      "DEBUG:httpcore.http11:receive_response_body.complete\n",
      "DEBUG:httpcore.http11:response_closed.started\n",
      "DEBUG:httpcore.http11:response_closed.complete\n",
      "DEBUG:openai._base_client:HTTP Request: POST https://api.openai.com/v1/chat/completions \"200 OK\"\n"
     ]
    },
    {
     "name": "stdout",
     "output_type": "stream",
     "text": [
      "```sql\n",
      "SELECT DISTINCT g.Name AS Genre\n",
      "FROM Track t\n",
      "JOIN Album a ON t.AlbumId = a.AlbumId\n",
      "JOIN Genre g ON t.GenreId = g.GenreId\n",
      "WHERE t.Composer LIKE '%Elenis Moriset%'\n",
      "```\n"
     ]
    },
    {
     "ename": "OperationalError",
     "evalue": "(sqlite3.OperationalError) near \"```sql\nSELECT DISTINCT g.Name AS Genre\nFROM Track t\nJOIN Album a ON t.AlbumId = a.AlbumId\nJOIN Genre g ON t.GenreId = g.GenreId\nWHERE t.Composer LIKE '%Elenis Moriset%'\n```\": syntax error\n[SQL: ```sql\nSELECT DISTINCT g.Name AS Genre\nFROM Track t\nJOIN Album a ON t.AlbumId = a.AlbumId\nJOIN Genre g ON t.GenreId = g.GenreId\nWHERE t.Composer LIKE '%Elenis Moriset%'\n```]\n(Background on this error at: https://sqlalche.me/e/20/e3q8)",
     "output_type": "error",
     "traceback": [
      "\u001B[1;31m---------------------------------------------------------------------------\u001B[0m",
      "\u001B[1;31mOperationalError\u001B[0m                          Traceback (most recent call last)",
      "File \u001B[1;32mD:\\dev\\miniconda3\\envs\\langchain\\lib\\site-packages\\sqlalchemy\\engine\\base.py:1969\u001B[0m, in \u001B[0;36mConnection._exec_single_context\u001B[1;34m(self, dialect, context, statement, parameters)\u001B[0m\n\u001B[0;32m   1968\u001B[0m     \u001B[38;5;28;01mif\u001B[39;00m \u001B[38;5;129;01mnot\u001B[39;00m evt_handled:\n\u001B[1;32m-> 1969\u001B[0m         \u001B[38;5;28;43mself\u001B[39;49m\u001B[38;5;241;43m.\u001B[39;49m\u001B[43mdialect\u001B[49m\u001B[38;5;241;43m.\u001B[39;49m\u001B[43mdo_execute\u001B[49m\u001B[43m(\u001B[49m\n\u001B[0;32m   1970\u001B[0m \u001B[43m            \u001B[49m\u001B[43mcursor\u001B[49m\u001B[43m,\u001B[49m\u001B[43m \u001B[49m\u001B[43mstr_statement\u001B[49m\u001B[43m,\u001B[49m\u001B[43m \u001B[49m\u001B[43meffective_parameters\u001B[49m\u001B[43m,\u001B[49m\u001B[43m \u001B[49m\u001B[43mcontext\u001B[49m\n\u001B[0;32m   1971\u001B[0m \u001B[43m        \u001B[49m\u001B[43m)\u001B[49m\n\u001B[0;32m   1973\u001B[0m \u001B[38;5;28;01mif\u001B[39;00m \u001B[38;5;28mself\u001B[39m\u001B[38;5;241m.\u001B[39m_has_events \u001B[38;5;129;01mor\u001B[39;00m \u001B[38;5;28mself\u001B[39m\u001B[38;5;241m.\u001B[39mengine\u001B[38;5;241m.\u001B[39m_has_events:\n",
      "File \u001B[1;32mD:\\dev\\miniconda3\\envs\\langchain\\lib\\site-packages\\sqlalchemy\\engine\\default.py:922\u001B[0m, in \u001B[0;36mDefaultDialect.do_execute\u001B[1;34m(self, cursor, statement, parameters, context)\u001B[0m\n\u001B[0;32m    921\u001B[0m \u001B[38;5;28;01mdef\u001B[39;00m \u001B[38;5;21mdo_execute\u001B[39m(\u001B[38;5;28mself\u001B[39m, cursor, statement, parameters, context\u001B[38;5;241m=\u001B[39m\u001B[38;5;28;01mNone\u001B[39;00m):\n\u001B[1;32m--> 922\u001B[0m     \u001B[43mcursor\u001B[49m\u001B[38;5;241;43m.\u001B[39;49m\u001B[43mexecute\u001B[49m\u001B[43m(\u001B[49m\u001B[43mstatement\u001B[49m\u001B[43m,\u001B[49m\u001B[43m \u001B[49m\u001B[43mparameters\u001B[49m\u001B[43m)\u001B[49m\n",
      "\u001B[1;31mOperationalError\u001B[0m: near \"```sql\nSELECT DISTINCT g.Name AS Genre\nFROM Track t\nJOIN Album a ON t.AlbumId = a.AlbumId\nJOIN Genre g ON t.GenreId = g.GenreId\nWHERE t.Composer LIKE '%Elenis Moriset%'\n```\": syntax error",
      "\nThe above exception was the direct cause of the following exception:\n",
      "\u001B[1;31mOperationalError\u001B[0m                          Traceback (most recent call last)",
      "Cell \u001B[1;32mIn[56], line 6\u001B[0m\n\u001B[0;32m      2\u001B[0m query \u001B[38;5;241m=\u001B[39m query_chain\u001B[38;5;241m.\u001B[39minvoke(\n\u001B[0;32m      3\u001B[0m     {\u001B[38;5;124m\"\u001B[39m\u001B[38;5;124mquestion\u001B[39m\u001B[38;5;124m\"\u001B[39m: \u001B[38;5;124m\"\u001B[39m\u001B[38;5;124mWhat are all the genres of elenis moriset songs\u001B[39m\u001B[38;5;124m\"\u001B[39m, \u001B[38;5;124m\"\u001B[39m\u001B[38;5;124mproper_nouns\u001B[39m\u001B[38;5;124m\"\u001B[39m: \u001B[38;5;124m\"\u001B[39m\u001B[38;5;124m\"\u001B[39m}\n\u001B[0;32m      4\u001B[0m )\n\u001B[0;32m      5\u001B[0m \u001B[38;5;28mprint\u001B[39m(query)\n\u001B[1;32m----> 6\u001B[0m \u001B[43mdb\u001B[49m\u001B[38;5;241;43m.\u001B[39;49m\u001B[43mrun\u001B[49m\u001B[43m(\u001B[49m\u001B[43mquery\u001B[49m\u001B[43m)\u001B[49m\n",
      "File \u001B[1;32mD:\\dev\\miniconda3\\envs\\langchain\\lib\\site-packages\\langchain_community\\utilities\\sql_database.py:436\u001B[0m, in \u001B[0;36mSQLDatabase.run\u001B[1;34m(self, command, fetch, include_columns)\u001B[0m\n\u001B[0;32m    425\u001B[0m \u001B[38;5;28;01mdef\u001B[39;00m \u001B[38;5;21mrun\u001B[39m(\n\u001B[0;32m    426\u001B[0m     \u001B[38;5;28mself\u001B[39m,\n\u001B[0;32m    427\u001B[0m     command: \u001B[38;5;28mstr\u001B[39m,\n\u001B[0;32m    428\u001B[0m     fetch: Literal[\u001B[38;5;124m\"\u001B[39m\u001B[38;5;124mall\u001B[39m\u001B[38;5;124m\"\u001B[39m, \u001B[38;5;124m\"\u001B[39m\u001B[38;5;124mone\u001B[39m\u001B[38;5;124m\"\u001B[39m] \u001B[38;5;241m=\u001B[39m \u001B[38;5;124m\"\u001B[39m\u001B[38;5;124mall\u001B[39m\u001B[38;5;124m\"\u001B[39m,\n\u001B[0;32m    429\u001B[0m     include_columns: \u001B[38;5;28mbool\u001B[39m \u001B[38;5;241m=\u001B[39m \u001B[38;5;28;01mFalse\u001B[39;00m,\n\u001B[0;32m    430\u001B[0m ) \u001B[38;5;241m-\u001B[39m\u001B[38;5;241m>\u001B[39m \u001B[38;5;28mstr\u001B[39m:\n\u001B[0;32m    431\u001B[0m \u001B[38;5;250m    \u001B[39m\u001B[38;5;124;03m\"\"\"Execute a SQL command and return a string representing the results.\u001B[39;00m\n\u001B[0;32m    432\u001B[0m \n\u001B[0;32m    433\u001B[0m \u001B[38;5;124;03m    If the statement returns rows, a string of the results is returned.\u001B[39;00m\n\u001B[0;32m    434\u001B[0m \u001B[38;5;124;03m    If the statement returns no rows, an empty string is returned.\u001B[39;00m\n\u001B[0;32m    435\u001B[0m \u001B[38;5;124;03m    \"\"\"\u001B[39;00m\n\u001B[1;32m--> 436\u001B[0m     result \u001B[38;5;241m=\u001B[39m \u001B[38;5;28;43mself\u001B[39;49m\u001B[38;5;241;43m.\u001B[39;49m\u001B[43m_execute\u001B[49m\u001B[43m(\u001B[49m\u001B[43mcommand\u001B[49m\u001B[43m,\u001B[49m\u001B[43m \u001B[49m\u001B[43mfetch\u001B[49m\u001B[43m)\u001B[49m\n\u001B[0;32m    438\u001B[0m     res \u001B[38;5;241m=\u001B[39m [\n\u001B[0;32m    439\u001B[0m         {\n\u001B[0;32m    440\u001B[0m             column: truncate_word(value, length\u001B[38;5;241m=\u001B[39m\u001B[38;5;28mself\u001B[39m\u001B[38;5;241m.\u001B[39m_max_string_length)\n\u001B[1;32m   (...)\u001B[0m\n\u001B[0;32m    443\u001B[0m         \u001B[38;5;28;01mfor\u001B[39;00m r \u001B[38;5;129;01min\u001B[39;00m result\n\u001B[0;32m    444\u001B[0m     ]\n\u001B[0;32m    446\u001B[0m     \u001B[38;5;28;01mif\u001B[39;00m \u001B[38;5;129;01mnot\u001B[39;00m include_columns:\n",
      "File \u001B[1;32mD:\\dev\\miniconda3\\envs\\langchain\\lib\\site-packages\\langchain_community\\utilities\\sql_database.py:413\u001B[0m, in \u001B[0;36mSQLDatabase._execute\u001B[1;34m(self, command, fetch)\u001B[0m\n\u001B[0;32m    410\u001B[0m     \u001B[38;5;28;01melif\u001B[39;00m \u001B[38;5;28mself\u001B[39m\u001B[38;5;241m.\u001B[39mdialect \u001B[38;5;241m==\u001B[39m \u001B[38;5;124m\"\u001B[39m\u001B[38;5;124mpostgresql\u001B[39m\u001B[38;5;124m\"\u001B[39m:  \u001B[38;5;66;03m# postgresql\u001B[39;00m\n\u001B[0;32m    411\u001B[0m         connection\u001B[38;5;241m.\u001B[39mexec_driver_sql(\u001B[38;5;124m\"\u001B[39m\u001B[38;5;124mSET search_path TO \u001B[39m\u001B[38;5;132;01m%s\u001B[39;00m\u001B[38;5;124m\"\u001B[39m, (\u001B[38;5;28mself\u001B[39m\u001B[38;5;241m.\u001B[39m_schema,))\n\u001B[1;32m--> 413\u001B[0m cursor \u001B[38;5;241m=\u001B[39m \u001B[43mconnection\u001B[49m\u001B[38;5;241;43m.\u001B[39;49m\u001B[43mexecute\u001B[49m\u001B[43m(\u001B[49m\u001B[43mtext\u001B[49m\u001B[43m(\u001B[49m\u001B[43mcommand\u001B[49m\u001B[43m)\u001B[49m\u001B[43m)\u001B[49m\n\u001B[0;32m    414\u001B[0m \u001B[38;5;28;01mif\u001B[39;00m cursor\u001B[38;5;241m.\u001B[39mreturns_rows:\n\u001B[0;32m    415\u001B[0m     \u001B[38;5;28;01mif\u001B[39;00m fetch \u001B[38;5;241m==\u001B[39m \u001B[38;5;124m\"\u001B[39m\u001B[38;5;124mall\u001B[39m\u001B[38;5;124m\"\u001B[39m:\n",
      "File \u001B[1;32mD:\\dev\\miniconda3\\envs\\langchain\\lib\\site-packages\\sqlalchemy\\engine\\base.py:1416\u001B[0m, in \u001B[0;36mConnection.execute\u001B[1;34m(self, statement, parameters, execution_options)\u001B[0m\n\u001B[0;32m   1414\u001B[0m     \u001B[38;5;28;01mraise\u001B[39;00m exc\u001B[38;5;241m.\u001B[39mObjectNotExecutableError(statement) \u001B[38;5;28;01mfrom\u001B[39;00m \u001B[38;5;21;01merr\u001B[39;00m\n\u001B[0;32m   1415\u001B[0m \u001B[38;5;28;01melse\u001B[39;00m:\n\u001B[1;32m-> 1416\u001B[0m     \u001B[38;5;28;01mreturn\u001B[39;00m \u001B[43mmeth\u001B[49m\u001B[43m(\u001B[49m\n\u001B[0;32m   1417\u001B[0m \u001B[43m        \u001B[49m\u001B[38;5;28;43mself\u001B[39;49m\u001B[43m,\u001B[49m\n\u001B[0;32m   1418\u001B[0m \u001B[43m        \u001B[49m\u001B[43mdistilled_parameters\u001B[49m\u001B[43m,\u001B[49m\n\u001B[0;32m   1419\u001B[0m \u001B[43m        \u001B[49m\u001B[43mexecution_options\u001B[49m\u001B[43m \u001B[49m\u001B[38;5;129;43;01mor\u001B[39;49;00m\u001B[43m \u001B[49m\u001B[43mNO_OPTIONS\u001B[49m\u001B[43m,\u001B[49m\n\u001B[0;32m   1420\u001B[0m \u001B[43m    \u001B[49m\u001B[43m)\u001B[49m\n",
      "File \u001B[1;32mD:\\dev\\miniconda3\\envs\\langchain\\lib\\site-packages\\sqlalchemy\\sql\\elements.py:517\u001B[0m, in \u001B[0;36mClauseElement._execute_on_connection\u001B[1;34m(self, connection, distilled_params, execution_options)\u001B[0m\n\u001B[0;32m    515\u001B[0m     \u001B[38;5;28;01mif\u001B[39;00m TYPE_CHECKING:\n\u001B[0;32m    516\u001B[0m         \u001B[38;5;28;01massert\u001B[39;00m \u001B[38;5;28misinstance\u001B[39m(\u001B[38;5;28mself\u001B[39m, Executable)\n\u001B[1;32m--> 517\u001B[0m     \u001B[38;5;28;01mreturn\u001B[39;00m \u001B[43mconnection\u001B[49m\u001B[38;5;241;43m.\u001B[39;49m\u001B[43m_execute_clauseelement\u001B[49m\u001B[43m(\u001B[49m\n\u001B[0;32m    518\u001B[0m \u001B[43m        \u001B[49m\u001B[38;5;28;43mself\u001B[39;49m\u001B[43m,\u001B[49m\u001B[43m \u001B[49m\u001B[43mdistilled_params\u001B[49m\u001B[43m,\u001B[49m\u001B[43m \u001B[49m\u001B[43mexecution_options\u001B[49m\n\u001B[0;32m    519\u001B[0m \u001B[43m    \u001B[49m\u001B[43m)\u001B[49m\n\u001B[0;32m    520\u001B[0m \u001B[38;5;28;01melse\u001B[39;00m:\n\u001B[0;32m    521\u001B[0m     \u001B[38;5;28;01mraise\u001B[39;00m exc\u001B[38;5;241m.\u001B[39mObjectNotExecutableError(\u001B[38;5;28mself\u001B[39m)\n",
      "File \u001B[1;32mD:\\dev\\miniconda3\\envs\\langchain\\lib\\site-packages\\sqlalchemy\\engine\\base.py:1639\u001B[0m, in \u001B[0;36mConnection._execute_clauseelement\u001B[1;34m(self, elem, distilled_parameters, execution_options)\u001B[0m\n\u001B[0;32m   1627\u001B[0m compiled_cache: Optional[CompiledCacheType] \u001B[38;5;241m=\u001B[39m execution_options\u001B[38;5;241m.\u001B[39mget(\n\u001B[0;32m   1628\u001B[0m     \u001B[38;5;124m\"\u001B[39m\u001B[38;5;124mcompiled_cache\u001B[39m\u001B[38;5;124m\"\u001B[39m, \u001B[38;5;28mself\u001B[39m\u001B[38;5;241m.\u001B[39mengine\u001B[38;5;241m.\u001B[39m_compiled_cache\n\u001B[0;32m   1629\u001B[0m )\n\u001B[0;32m   1631\u001B[0m compiled_sql, extracted_params, cache_hit \u001B[38;5;241m=\u001B[39m elem\u001B[38;5;241m.\u001B[39m_compile_w_cache(\n\u001B[0;32m   1632\u001B[0m     dialect\u001B[38;5;241m=\u001B[39mdialect,\n\u001B[0;32m   1633\u001B[0m     compiled_cache\u001B[38;5;241m=\u001B[39mcompiled_cache,\n\u001B[1;32m   (...)\u001B[0m\n\u001B[0;32m   1637\u001B[0m     linting\u001B[38;5;241m=\u001B[39m\u001B[38;5;28mself\u001B[39m\u001B[38;5;241m.\u001B[39mdialect\u001B[38;5;241m.\u001B[39mcompiler_linting \u001B[38;5;241m|\u001B[39m compiler\u001B[38;5;241m.\u001B[39mWARN_LINTING,\n\u001B[0;32m   1638\u001B[0m )\n\u001B[1;32m-> 1639\u001B[0m ret \u001B[38;5;241m=\u001B[39m \u001B[38;5;28;43mself\u001B[39;49m\u001B[38;5;241;43m.\u001B[39;49m\u001B[43m_execute_context\u001B[49m\u001B[43m(\u001B[49m\n\u001B[0;32m   1640\u001B[0m \u001B[43m    \u001B[49m\u001B[43mdialect\u001B[49m\u001B[43m,\u001B[49m\n\u001B[0;32m   1641\u001B[0m \u001B[43m    \u001B[49m\u001B[43mdialect\u001B[49m\u001B[38;5;241;43m.\u001B[39;49m\u001B[43mexecution_ctx_cls\u001B[49m\u001B[38;5;241;43m.\u001B[39;49m\u001B[43m_init_compiled\u001B[49m\u001B[43m,\u001B[49m\n\u001B[0;32m   1642\u001B[0m \u001B[43m    \u001B[49m\u001B[43mcompiled_sql\u001B[49m\u001B[43m,\u001B[49m\n\u001B[0;32m   1643\u001B[0m \u001B[43m    \u001B[49m\u001B[43mdistilled_parameters\u001B[49m\u001B[43m,\u001B[49m\n\u001B[0;32m   1644\u001B[0m \u001B[43m    \u001B[49m\u001B[43mexecution_options\u001B[49m\u001B[43m,\u001B[49m\n\u001B[0;32m   1645\u001B[0m \u001B[43m    \u001B[49m\u001B[43mcompiled_sql\u001B[49m\u001B[43m,\u001B[49m\n\u001B[0;32m   1646\u001B[0m \u001B[43m    \u001B[49m\u001B[43mdistilled_parameters\u001B[49m\u001B[43m,\u001B[49m\n\u001B[0;32m   1647\u001B[0m \u001B[43m    \u001B[49m\u001B[43melem\u001B[49m\u001B[43m,\u001B[49m\n\u001B[0;32m   1648\u001B[0m \u001B[43m    \u001B[49m\u001B[43mextracted_params\u001B[49m\u001B[43m,\u001B[49m\n\u001B[0;32m   1649\u001B[0m \u001B[43m    \u001B[49m\u001B[43mcache_hit\u001B[49m\u001B[38;5;241;43m=\u001B[39;49m\u001B[43mcache_hit\u001B[49m\u001B[43m,\u001B[49m\n\u001B[0;32m   1650\u001B[0m \u001B[43m\u001B[49m\u001B[43m)\u001B[49m\n\u001B[0;32m   1651\u001B[0m \u001B[38;5;28;01mif\u001B[39;00m has_events:\n\u001B[0;32m   1652\u001B[0m     \u001B[38;5;28mself\u001B[39m\u001B[38;5;241m.\u001B[39mdispatch\u001B[38;5;241m.\u001B[39mafter_execute(\n\u001B[0;32m   1653\u001B[0m         \u001B[38;5;28mself\u001B[39m,\n\u001B[0;32m   1654\u001B[0m         elem,\n\u001B[1;32m   (...)\u001B[0m\n\u001B[0;32m   1658\u001B[0m         ret,\n\u001B[0;32m   1659\u001B[0m     )\n",
      "File \u001B[1;32mD:\\dev\\miniconda3\\envs\\langchain\\lib\\site-packages\\sqlalchemy\\engine\\base.py:1848\u001B[0m, in \u001B[0;36mConnection._execute_context\u001B[1;34m(self, dialect, constructor, statement, parameters, execution_options, *args, **kw)\u001B[0m\n\u001B[0;32m   1843\u001B[0m     \u001B[38;5;28;01mreturn\u001B[39;00m \u001B[38;5;28mself\u001B[39m\u001B[38;5;241m.\u001B[39m_exec_insertmany_context(\n\u001B[0;32m   1844\u001B[0m         dialect,\n\u001B[0;32m   1845\u001B[0m         context,\n\u001B[0;32m   1846\u001B[0m     )\n\u001B[0;32m   1847\u001B[0m \u001B[38;5;28;01melse\u001B[39;00m:\n\u001B[1;32m-> 1848\u001B[0m     \u001B[38;5;28;01mreturn\u001B[39;00m \u001B[38;5;28;43mself\u001B[39;49m\u001B[38;5;241;43m.\u001B[39;49m\u001B[43m_exec_single_context\u001B[49m\u001B[43m(\u001B[49m\n\u001B[0;32m   1849\u001B[0m \u001B[43m        \u001B[49m\u001B[43mdialect\u001B[49m\u001B[43m,\u001B[49m\u001B[43m \u001B[49m\u001B[43mcontext\u001B[49m\u001B[43m,\u001B[49m\u001B[43m \u001B[49m\u001B[43mstatement\u001B[49m\u001B[43m,\u001B[49m\u001B[43m \u001B[49m\u001B[43mparameters\u001B[49m\n\u001B[0;32m   1850\u001B[0m \u001B[43m    \u001B[49m\u001B[43m)\u001B[49m\n",
      "File \u001B[1;32mD:\\dev\\miniconda3\\envs\\langchain\\lib\\site-packages\\sqlalchemy\\engine\\base.py:1988\u001B[0m, in \u001B[0;36mConnection._exec_single_context\u001B[1;34m(self, dialect, context, statement, parameters)\u001B[0m\n\u001B[0;32m   1985\u001B[0m     result \u001B[38;5;241m=\u001B[39m context\u001B[38;5;241m.\u001B[39m_setup_result_proxy()\n\u001B[0;32m   1987\u001B[0m \u001B[38;5;28;01mexcept\u001B[39;00m \u001B[38;5;167;01mBaseException\u001B[39;00m \u001B[38;5;28;01mas\u001B[39;00m e:\n\u001B[1;32m-> 1988\u001B[0m     \u001B[38;5;28;43mself\u001B[39;49m\u001B[38;5;241;43m.\u001B[39;49m\u001B[43m_handle_dbapi_exception\u001B[49m\u001B[43m(\u001B[49m\n\u001B[0;32m   1989\u001B[0m \u001B[43m        \u001B[49m\u001B[43me\u001B[49m\u001B[43m,\u001B[49m\u001B[43m \u001B[49m\u001B[43mstr_statement\u001B[49m\u001B[43m,\u001B[49m\u001B[43m \u001B[49m\u001B[43meffective_parameters\u001B[49m\u001B[43m,\u001B[49m\u001B[43m \u001B[49m\u001B[43mcursor\u001B[49m\u001B[43m,\u001B[49m\u001B[43m \u001B[49m\u001B[43mcontext\u001B[49m\n\u001B[0;32m   1990\u001B[0m \u001B[43m    \u001B[49m\u001B[43m)\u001B[49m\n\u001B[0;32m   1992\u001B[0m \u001B[38;5;28;01mreturn\u001B[39;00m result\n",
      "File \u001B[1;32mD:\\dev\\miniconda3\\envs\\langchain\\lib\\site-packages\\sqlalchemy\\engine\\base.py:2344\u001B[0m, in \u001B[0;36mConnection._handle_dbapi_exception\u001B[1;34m(self, e, statement, parameters, cursor, context, is_sub_exec)\u001B[0m\n\u001B[0;32m   2342\u001B[0m \u001B[38;5;28;01melif\u001B[39;00m should_wrap:\n\u001B[0;32m   2343\u001B[0m     \u001B[38;5;28;01massert\u001B[39;00m sqlalchemy_exception \u001B[38;5;129;01mis\u001B[39;00m \u001B[38;5;129;01mnot\u001B[39;00m \u001B[38;5;28;01mNone\u001B[39;00m\n\u001B[1;32m-> 2344\u001B[0m     \u001B[38;5;28;01mraise\u001B[39;00m sqlalchemy_exception\u001B[38;5;241m.\u001B[39mwith_traceback(exc_info[\u001B[38;5;241m2\u001B[39m]) \u001B[38;5;28;01mfrom\u001B[39;00m \u001B[38;5;21;01me\u001B[39;00m\n\u001B[0;32m   2345\u001B[0m \u001B[38;5;28;01melse\u001B[39;00m:\n\u001B[0;32m   2346\u001B[0m     \u001B[38;5;28;01massert\u001B[39;00m exc_info[\u001B[38;5;241m1\u001B[39m] \u001B[38;5;129;01mis\u001B[39;00m \u001B[38;5;129;01mnot\u001B[39;00m \u001B[38;5;28;01mNone\u001B[39;00m\n",
      "File \u001B[1;32mD:\\dev\\miniconda3\\envs\\langchain\\lib\\site-packages\\sqlalchemy\\engine\\base.py:1969\u001B[0m, in \u001B[0;36mConnection._exec_single_context\u001B[1;34m(self, dialect, context, statement, parameters)\u001B[0m\n\u001B[0;32m   1967\u001B[0m                 \u001B[38;5;28;01mbreak\u001B[39;00m\n\u001B[0;32m   1968\u001B[0m     \u001B[38;5;28;01mif\u001B[39;00m \u001B[38;5;129;01mnot\u001B[39;00m evt_handled:\n\u001B[1;32m-> 1969\u001B[0m         \u001B[38;5;28;43mself\u001B[39;49m\u001B[38;5;241;43m.\u001B[39;49m\u001B[43mdialect\u001B[49m\u001B[38;5;241;43m.\u001B[39;49m\u001B[43mdo_execute\u001B[49m\u001B[43m(\u001B[49m\n\u001B[0;32m   1970\u001B[0m \u001B[43m            \u001B[49m\u001B[43mcursor\u001B[49m\u001B[43m,\u001B[49m\u001B[43m \u001B[49m\u001B[43mstr_statement\u001B[49m\u001B[43m,\u001B[49m\u001B[43m \u001B[49m\u001B[43meffective_parameters\u001B[49m\u001B[43m,\u001B[49m\u001B[43m \u001B[49m\u001B[43mcontext\u001B[49m\n\u001B[0;32m   1971\u001B[0m \u001B[43m        \u001B[49m\u001B[43m)\u001B[49m\n\u001B[0;32m   1973\u001B[0m \u001B[38;5;28;01mif\u001B[39;00m \u001B[38;5;28mself\u001B[39m\u001B[38;5;241m.\u001B[39m_has_events \u001B[38;5;129;01mor\u001B[39;00m \u001B[38;5;28mself\u001B[39m\u001B[38;5;241m.\u001B[39mengine\u001B[38;5;241m.\u001B[39m_has_events:\n\u001B[0;32m   1974\u001B[0m     \u001B[38;5;28mself\u001B[39m\u001B[38;5;241m.\u001B[39mdispatch\u001B[38;5;241m.\u001B[39mafter_cursor_execute(\n\u001B[0;32m   1975\u001B[0m         \u001B[38;5;28mself\u001B[39m,\n\u001B[0;32m   1976\u001B[0m         cursor,\n\u001B[1;32m   (...)\u001B[0m\n\u001B[0;32m   1980\u001B[0m         context\u001B[38;5;241m.\u001B[39mexecutemany,\n\u001B[0;32m   1981\u001B[0m     )\n",
      "File \u001B[1;32mD:\\dev\\miniconda3\\envs\\langchain\\lib\\site-packages\\sqlalchemy\\engine\\default.py:922\u001B[0m, in \u001B[0;36mDefaultDialect.do_execute\u001B[1;34m(self, cursor, statement, parameters, context)\u001B[0m\n\u001B[0;32m    921\u001B[0m \u001B[38;5;28;01mdef\u001B[39;00m \u001B[38;5;21mdo_execute\u001B[39m(\u001B[38;5;28mself\u001B[39m, cursor, statement, parameters, context\u001B[38;5;241m=\u001B[39m\u001B[38;5;28;01mNone\u001B[39;00m):\n\u001B[1;32m--> 922\u001B[0m     \u001B[43mcursor\u001B[49m\u001B[38;5;241;43m.\u001B[39;49m\u001B[43mexecute\u001B[49m\u001B[43m(\u001B[49m\u001B[43mstatement\u001B[49m\u001B[43m,\u001B[49m\u001B[43m \u001B[49m\u001B[43mparameters\u001B[49m\u001B[43m)\u001B[49m\n",
      "\u001B[1;31mOperationalError\u001B[0m: (sqlite3.OperationalError) near \"```sql\nSELECT DISTINCT g.Name AS Genre\nFROM Track t\nJOIN Album a ON t.AlbumId = a.AlbumId\nJOIN Genre g ON t.GenreId = g.GenreId\nWHERE t.Composer LIKE '%Elenis Moriset%'\n```\": syntax error\n[SQL: ```sql\nSELECT DISTINCT g.Name AS Genre\nFROM Track t\nJOIN Album a ON t.AlbumId = a.AlbumId\nJOIN Genre g ON t.GenreId = g.GenreId\nWHERE t.Composer LIKE '%Elenis Moriset%'\n```]\n(Background on this error at: https://sqlalche.me/e/20/e3q8)"
     ]
    }
   ],
   "source": [
    "# Without retrieval\n",
    "query = query_chain.invoke(\n",
    "    {\"question\": \"What are all the genres of elenis moriset songs\", \"proper_nouns\": \"\"}\n",
    ")\n",
    "print(query)\n",
    "db.run(query)"
   ],
   "metadata": {
    "collapsed": false,
    "pycharm": {
     "name": "#%%\n"
    }
   }
  }
 ],
 "metadata": {
  "kernelspec": {
   "display_name": "Python 3",
   "language": "python",
   "name": "python3"
  },
  "language_info": {
   "codemirror_mode": {
    "name": "ipython",
    "version": 2
   },
   "file_extension": ".py",
   "mimetype": "text/x-python",
   "name": "python",
   "nbconvert_exporter": "python",
   "pygments_lexer": "ipython2",
   "version": "2.7.6"
  }
 },
 "nbformat": 4,
 "nbformat_minor": 0
}