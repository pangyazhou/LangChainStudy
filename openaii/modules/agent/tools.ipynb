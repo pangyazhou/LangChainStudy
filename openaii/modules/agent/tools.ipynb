{
 "cells": [
  {
   "cell_type": "markdown",
   "source": [
    "# 工具的使用"
   ],
   "metadata": {
    "collapsed": false,
    "pycharm": {
     "name": "#%% md\n"
    }
   }
  },
  {
   "cell_type": "code",
   "execution_count": 1,
   "outputs": [
    {
     "name": "stdout",
     "output_type": "stream",
     "text": [
      "Collecting duckduckgo-searchNote: you may need to restart the kernel to use updated packages.\n",
      "\n",
      "  Downloading duckduckgo_search-4.4.3-py3-none-any.whl.metadata (19 kB)\n",
      "Requirement already satisfied: click>=8.1.7 in d:\\dev\\miniconda3\\envs\\langchain\\lib\\site-packages (from duckduckgo-search) (8.1.7)\n",
      "Collecting curl-cffi>=0.6.0b9 (from duckduckgo-search)\n",
      "  Downloading curl_cffi-0.6.0b9-cp38-abi3-win_amd64.whl.metadata (10 kB)\n",
      "Requirement already satisfied: lxml>=5.1.0 in d:\\dev\\miniconda3\\envs\\langchain\\lib\\site-packages (from duckduckgo-search) (5.1.0)\n",
      "Collecting nest-asyncio>=1.6.0 (from duckduckgo-search)\n",
      "  Downloading nest_asyncio-1.6.0-py3-none-any.whl.metadata (2.8 kB)\n",
      "Requirement already satisfied: colorama in d:\\dev\\miniconda3\\envs\\langchain\\lib\\site-packages (from click>=8.1.7->duckduckgo-search) (0.4.6)\n",
      "Requirement already satisfied: cffi>=1.12.0 in d:\\dev\\miniconda3\\envs\\langchain\\lib\\site-packages (from curl-cffi>=0.6.0b9->duckduckgo-search) (1.16.0)\n",
      "Requirement already satisfied: certifi in d:\\dev\\miniconda3\\envs\\langchain\\lib\\site-packages (from curl-cffi>=0.6.0b9->duckduckgo-search) (2024.2.2)\n",
      "Requirement already satisfied: pycparser in d:\\dev\\miniconda3\\envs\\langchain\\lib\\site-packages (from cffi>=1.12.0->curl-cffi>=0.6.0b9->duckduckgo-search) (2.21)\n",
      "Downloading duckduckgo_search-4.4.3-py3-none-any.whl (20 kB)\n",
      "Downloading curl_cffi-0.6.0b9-cp38-abi3-win_amd64.whl (2.4 MB)\n",
      "   ---------------------------------------- 0.0/2.4 MB ? eta -:--:--\n",
      "   - -------------------------------------- 0.1/2.4 MB 1.6 MB/s eta 0:00:02\n",
      "   --- ------------------------------------ 0.2/2.4 MB 2.0 MB/s eta 0:00:02\n",
      "   ----- ---------------------------------- 0.3/2.4 MB 2.3 MB/s eta 0:00:01\n",
      "   ------ --------------------------------- 0.4/2.4 MB 2.5 MB/s eta 0:00:01\n",
      "   ------------ --------------------------- 0.7/2.4 MB 3.3 MB/s eta 0:00:01\n",
      "   ------------------ --------------------- 1.1/2.4 MB 4.2 MB/s eta 0:00:01\n",
      "   ------------------ --------------------- 1.1/2.4 MB 4.2 MB/s eta 0:00:01\n",
      "   ------------------------- -------------- 1.5/2.4 MB 4.3 MB/s eta 0:00:01\n",
      "   ---------------------------- ----------- 1.7/2.4 MB 4.5 MB/s eta 0:00:01\n",
      "   ---------------------------------- ----- 2.1/2.4 MB 4.6 MB/s eta 0:00:01\n",
      "   ---------------------------------------- 2.4/2.4 MB 4.9 MB/s eta 0:00:00\n",
      "Downloading nest_asyncio-1.6.0-py3-none-any.whl (5.2 kB)\n",
      "Installing collected packages: nest-asyncio, curl-cffi, duckduckgo-search\n",
      "  Attempting uninstall: nest-asyncio\n",
      "    Found existing installation: nest-asyncio 1.5.6\n",
      "    Uninstalling nest-asyncio-1.5.6:\n",
      "      Successfully uninstalled nest-asyncio-1.5.6\n",
      "Successfully installed curl-cffi-0.6.0b9 duckduckgo-search-4.4.3 nest-asyncio-1.6.0\n"
     ]
    }
   ],
   "source": [
    "%pip install duckduckgo-search"
   ],
   "metadata": {
    "collapsed": false,
    "pycharm": {
     "name": "#%%\n"
    }
   }
  },
  {
   "cell_type": "code",
   "execution_count": 7,
   "outputs": [
    {
     "ename": "DuckDuckGoSearchException",
     "evalue": "_aget_url() https://duckduckgo.com RequestsError: Failed to perform, ErrCode: 28, Reason: 'Failed to connect to duckduckgo.com port 443 after 21049 ms: Couldn't connect to server'. This may be a libcurl error, See https://curl.se/libcurl/c/libcurl-errors.html first for more details.",
     "output_type": "error",
     "traceback": [
      "\u001B[1;31m---------------------------------------------------------------------------\u001B[0m",
      "\u001B[1;31mRequestsError\u001B[0m                             Traceback (most recent call last)",
      "File \u001B[1;32mD:\\dev\\miniconda3\\envs\\langchain\\lib\\site-packages\\duckduckgo_search\\duckduckgo_search_async.py:51\u001B[0m, in \u001B[0;36mAsyncDDGS._aget_url\u001B[1;34m(self, method, url, **kwargs)\u001B[0m\n\u001B[0;32m     50\u001B[0m \u001B[38;5;28;01mtry\u001B[39;00m:\n\u001B[1;32m---> 51\u001B[0m     resp \u001B[38;5;241m=\u001B[39m \u001B[38;5;28;01mawait\u001B[39;00m \u001B[38;5;28mself\u001B[39m\u001B[38;5;241m.\u001B[39m_asession\u001B[38;5;241m.\u001B[39mrequest(method, url, stream\u001B[38;5;241m=\u001B[39m\u001B[38;5;28;01mTrue\u001B[39;00m, \u001B[38;5;241m*\u001B[39m\u001B[38;5;241m*\u001B[39mkwargs)\n\u001B[0;32m     52\u001B[0m     resp\u001B[38;5;241m.\u001B[39mraise_for_status()\n",
      "File \u001B[1;32mD:\\dev\\miniconda3\\envs\\langchain\\lib\\site-packages\\curl_cffi\\requests\\session.py:1056\u001B[0m, in \u001B[0;36mAsyncSession.request\u001B[1;34m(self, method, url, params, data, json, headers, cookies, files, auth, timeout, allow_redirects, max_redirects, proxies, proxy, proxy_auth, verify, referer, accept_encoding, content_callback, impersonate, default_headers, http_version, interface, cert, stream, max_recv_speed, multipart)\u001B[0m\n\u001B[0;32m   1055\u001B[0m     \u001B[38;5;28mself\u001B[39m\u001B[38;5;241m.\u001B[39mrelease_curl(curl)\n\u001B[1;32m-> 1056\u001B[0m     \u001B[38;5;28;01mraise\u001B[39;00m first_element\n\u001B[0;32m   1058\u001B[0m rsp\u001B[38;5;241m.\u001B[39mrequest \u001B[38;5;241m=\u001B[39m req\n",
      "\u001B[1;31mRequestsError\u001B[0m: Failed to perform, ErrCode: 28, Reason: 'Failed to connect to duckduckgo.com port 443 after 21049 ms: Couldn't connect to server'. This may be a libcurl error, See https://curl.se/libcurl/c/libcurl-errors.html first for more details.",
      "\nThe above exception was the direct cause of the following exception:\n",
      "\u001B[1;31mDuckDuckGoSearchException\u001B[0m                 Traceback (most recent call last)",
      "Cell \u001B[1;32mIn[7], line 4\u001B[0m\n\u001B[0;32m      1\u001B[0m \u001B[38;5;28;01mfrom\u001B[39;00m \u001B[38;5;21;01mlangchain\u001B[39;00m\u001B[38;5;21;01m.\u001B[39;00m\u001B[38;5;21;01mtools\u001B[39;00m \u001B[38;5;28;01mimport\u001B[39;00m DuckDuckGoSearchRun\n\u001B[0;32m      3\u001B[0m search \u001B[38;5;241m=\u001B[39m DuckDuckGoSearchRun()\n\u001B[1;32m----> 4\u001B[0m \u001B[43msearch\u001B[49m\u001B[38;5;241;43m.\u001B[39;49m\u001B[43mrun\u001B[49m\u001B[43m(\u001B[49m\u001B[38;5;124;43m\"\u001B[39;49m\u001B[38;5;124;43mObama\u001B[39;49m\u001B[38;5;124;43m'\u001B[39;49m\u001B[38;5;124;43ms first name?\u001B[39;49m\u001B[38;5;124;43m\"\u001B[39;49m\u001B[43m)\u001B[49m\n",
      "File \u001B[1;32mD:\\dev\\miniconda3\\envs\\langchain\\lib\\site-packages\\langchain_core\\tools.py:373\u001B[0m, in \u001B[0;36mBaseTool.run\u001B[1;34m(self, tool_input, verbose, start_color, color, callbacks, tags, metadata, run_name, **kwargs)\u001B[0m\n\u001B[0;32m    371\u001B[0m \u001B[38;5;28;01mexcept\u001B[39;00m (\u001B[38;5;167;01mException\u001B[39;00m, \u001B[38;5;167;01mKeyboardInterrupt\u001B[39;00m) \u001B[38;5;28;01mas\u001B[39;00m e:\n\u001B[0;32m    372\u001B[0m     run_manager\u001B[38;5;241m.\u001B[39mon_tool_error(e)\n\u001B[1;32m--> 373\u001B[0m     \u001B[38;5;28;01mraise\u001B[39;00m e\n\u001B[0;32m    374\u001B[0m \u001B[38;5;28;01melse\u001B[39;00m:\n\u001B[0;32m    375\u001B[0m     run_manager\u001B[38;5;241m.\u001B[39mon_tool_end(\n\u001B[0;32m    376\u001B[0m         \u001B[38;5;28mstr\u001B[39m(observation), color\u001B[38;5;241m=\u001B[39mcolor, name\u001B[38;5;241m=\u001B[39m\u001B[38;5;28mself\u001B[39m\u001B[38;5;241m.\u001B[39mname, \u001B[38;5;241m*\u001B[39m\u001B[38;5;241m*\u001B[39mkwargs\n\u001B[0;32m    377\u001B[0m     )\n",
      "File \u001B[1;32mD:\\dev\\miniconda3\\envs\\langchain\\lib\\site-packages\\langchain_core\\tools.py:345\u001B[0m, in \u001B[0;36mBaseTool.run\u001B[1;34m(self, tool_input, verbose, start_color, color, callbacks, tags, metadata, run_name, **kwargs)\u001B[0m\n\u001B[0;32m    342\u001B[0m     parsed_input \u001B[38;5;241m=\u001B[39m \u001B[38;5;28mself\u001B[39m\u001B[38;5;241m.\u001B[39m_parse_input(tool_input)\n\u001B[0;32m    343\u001B[0m     tool_args, tool_kwargs \u001B[38;5;241m=\u001B[39m \u001B[38;5;28mself\u001B[39m\u001B[38;5;241m.\u001B[39m_to_args_and_kwargs(parsed_input)\n\u001B[0;32m    344\u001B[0m     observation \u001B[38;5;241m=\u001B[39m (\n\u001B[1;32m--> 345\u001B[0m         \u001B[38;5;28mself\u001B[39m\u001B[38;5;241m.\u001B[39m_run(\u001B[38;5;241m*\u001B[39mtool_args, run_manager\u001B[38;5;241m=\u001B[39mrun_manager, \u001B[38;5;241m*\u001B[39m\u001B[38;5;241m*\u001B[39mtool_kwargs)\n\u001B[0;32m    346\u001B[0m         \u001B[38;5;28;01mif\u001B[39;00m new_arg_supported\n\u001B[0;32m    347\u001B[0m         \u001B[38;5;28;01melse\u001B[39;00m \u001B[38;5;28mself\u001B[39m\u001B[38;5;241m.\u001B[39m_run(\u001B[38;5;241m*\u001B[39mtool_args, \u001B[38;5;241m*\u001B[39m\u001B[38;5;241m*\u001B[39mtool_kwargs)\n\u001B[0;32m    348\u001B[0m     )\n\u001B[0;32m    349\u001B[0m \u001B[38;5;28;01mexcept\u001B[39;00m ToolException \u001B[38;5;28;01mas\u001B[39;00m e:\n\u001B[0;32m    350\u001B[0m     \u001B[38;5;28;01mif\u001B[39;00m \u001B[38;5;129;01mnot\u001B[39;00m \u001B[38;5;28mself\u001B[39m\u001B[38;5;241m.\u001B[39mhandle_tool_error:\n",
      "File \u001B[1;32mD:\\dev\\miniconda3\\envs\\langchain\\lib\\site-packages\\langchain_community\\tools\\ddg_search\\tool.py:39\u001B[0m, in \u001B[0;36mDuckDuckGoSearchRun._run\u001B[1;34m(self, query, run_manager)\u001B[0m\n\u001B[0;32m     33\u001B[0m \u001B[38;5;28;01mdef\u001B[39;00m \u001B[38;5;21m_run\u001B[39m(\n\u001B[0;32m     34\u001B[0m     \u001B[38;5;28mself\u001B[39m,\n\u001B[0;32m     35\u001B[0m     query: \u001B[38;5;28mstr\u001B[39m,\n\u001B[0;32m     36\u001B[0m     run_manager: Optional[CallbackManagerForToolRun] \u001B[38;5;241m=\u001B[39m \u001B[38;5;28;01mNone\u001B[39;00m,\n\u001B[0;32m     37\u001B[0m ) \u001B[38;5;241m-\u001B[39m\u001B[38;5;241m>\u001B[39m \u001B[38;5;28mstr\u001B[39m:\n\u001B[0;32m     38\u001B[0m \u001B[38;5;250m    \u001B[39m\u001B[38;5;124;03m\"\"\"Use the tool.\"\"\"\u001B[39;00m\n\u001B[1;32m---> 39\u001B[0m     \u001B[38;5;28;01mreturn\u001B[39;00m \u001B[38;5;28;43mself\u001B[39;49m\u001B[38;5;241;43m.\u001B[39;49m\u001B[43mapi_wrapper\u001B[49m\u001B[38;5;241;43m.\u001B[39;49m\u001B[43mrun\u001B[49m\u001B[43m(\u001B[49m\u001B[43mquery\u001B[49m\u001B[43m)\u001B[49m\n",
      "File \u001B[1;32mD:\\dev\\miniconda3\\envs\\langchain\\lib\\site-packages\\langchain_community\\utilities\\duckduckgo_search.py:81\u001B[0m, in \u001B[0;36mDuckDuckGoSearchAPIWrapper.run\u001B[1;34m(self, query)\u001B[0m\n\u001B[0;32m     79\u001B[0m \u001B[38;5;250m\u001B[39m\u001B[38;5;124;03m\"\"\"Run query through DuckDuckGo and return concatenated results.\"\"\"\u001B[39;00m\n\u001B[0;32m     80\u001B[0m \u001B[38;5;28;01mif\u001B[39;00m \u001B[38;5;28mself\u001B[39m\u001B[38;5;241m.\u001B[39msource \u001B[38;5;241m==\u001B[39m \u001B[38;5;124m\"\u001B[39m\u001B[38;5;124mtext\u001B[39m\u001B[38;5;124m\"\u001B[39m:\n\u001B[1;32m---> 81\u001B[0m     results \u001B[38;5;241m=\u001B[39m \u001B[38;5;28;43mself\u001B[39;49m\u001B[38;5;241;43m.\u001B[39;49m\u001B[43m_ddgs_text\u001B[49m\u001B[43m(\u001B[49m\u001B[43mquery\u001B[49m\u001B[43m)\u001B[49m\n\u001B[0;32m     82\u001B[0m \u001B[38;5;28;01melif\u001B[39;00m \u001B[38;5;28mself\u001B[39m\u001B[38;5;241m.\u001B[39msource \u001B[38;5;241m==\u001B[39m \u001B[38;5;124m\"\u001B[39m\u001B[38;5;124mnews\u001B[39m\u001B[38;5;124m\"\u001B[39m:\n\u001B[0;32m     83\u001B[0m     results \u001B[38;5;241m=\u001B[39m \u001B[38;5;28mself\u001B[39m\u001B[38;5;241m.\u001B[39m_ddgs_news(query)\n",
      "File \u001B[1;32mD:\\dev\\miniconda3\\envs\\langchain\\lib\\site-packages\\langchain_community\\utilities\\duckduckgo_search.py:57\u001B[0m, in \u001B[0;36mDuckDuckGoSearchAPIWrapper._ddgs_text\u001B[1;34m(self, query, max_results)\u001B[0m\n\u001B[0;32m     48\u001B[0m     ddgs_gen \u001B[38;5;241m=\u001B[39m ddgs\u001B[38;5;241m.\u001B[39mtext(\n\u001B[0;32m     49\u001B[0m         query,\n\u001B[0;32m     50\u001B[0m         region\u001B[38;5;241m=\u001B[39m\u001B[38;5;28mself\u001B[39m\u001B[38;5;241m.\u001B[39mregion,\n\u001B[1;32m   (...)\u001B[0m\n\u001B[0;32m     54\u001B[0m         backend\u001B[38;5;241m=\u001B[39m\u001B[38;5;28mself\u001B[39m\u001B[38;5;241m.\u001B[39mbackend,\n\u001B[0;32m     55\u001B[0m     )\n\u001B[0;32m     56\u001B[0m     \u001B[38;5;28;01mif\u001B[39;00m ddgs_gen:\n\u001B[1;32m---> 57\u001B[0m         \u001B[38;5;28;01mreturn\u001B[39;00m [r \u001B[38;5;28;01mfor\u001B[39;00m r \u001B[38;5;129;01min\u001B[39;00m ddgs_gen]\n\u001B[0;32m     58\u001B[0m \u001B[38;5;28;01mreturn\u001B[39;00m []\n",
      "File \u001B[1;32mD:\\dev\\miniconda3\\envs\\langchain\\lib\\site-packages\\langchain_community\\utilities\\duckduckgo_search.py:57\u001B[0m, in \u001B[0;36m<listcomp>\u001B[1;34m(.0)\u001B[0m\n\u001B[0;32m     48\u001B[0m     ddgs_gen \u001B[38;5;241m=\u001B[39m ddgs\u001B[38;5;241m.\u001B[39mtext(\n\u001B[0;32m     49\u001B[0m         query,\n\u001B[0;32m     50\u001B[0m         region\u001B[38;5;241m=\u001B[39m\u001B[38;5;28mself\u001B[39m\u001B[38;5;241m.\u001B[39mregion,\n\u001B[1;32m   (...)\u001B[0m\n\u001B[0;32m     54\u001B[0m         backend\u001B[38;5;241m=\u001B[39m\u001B[38;5;28mself\u001B[39m\u001B[38;5;241m.\u001B[39mbackend,\n\u001B[0;32m     55\u001B[0m     )\n\u001B[0;32m     56\u001B[0m     \u001B[38;5;28;01mif\u001B[39;00m ddgs_gen:\n\u001B[1;32m---> 57\u001B[0m         \u001B[38;5;28;01mreturn\u001B[39;00m [r \u001B[38;5;28;01mfor\u001B[39;00m r \u001B[38;5;129;01min\u001B[39;00m ddgs_gen]\n\u001B[0;32m     58\u001B[0m \u001B[38;5;28;01mreturn\u001B[39;00m []\n",
      "File \u001B[1;32mD:\\dev\\miniconda3\\envs\\langchain\\lib\\site-packages\\duckduckgo_search\\duckduckgo_search.py:27\u001B[0m, in \u001B[0;36mDDGS._iter_over_async\u001B[1;34m(self, async_gen)\u001B[0m\n\u001B[0;32m     25\u001B[0m \u001B[38;5;28;01mwhile\u001B[39;00m \u001B[38;5;28;01mTrue\u001B[39;00m:\n\u001B[0;32m     26\u001B[0m     \u001B[38;5;28;01mtry\u001B[39;00m:\n\u001B[1;32m---> 27\u001B[0m         \u001B[38;5;28;01myield\u001B[39;00m \u001B[43masyncio\u001B[49m\u001B[38;5;241;43m.\u001B[39;49m\u001B[43mrun\u001B[49m\u001B[43m(\u001B[49m\u001B[43masync_gen\u001B[49m\u001B[38;5;241;43m.\u001B[39;49m\u001B[38;5;21;43m__anext__\u001B[39;49m\u001B[43m(\u001B[49m\u001B[43m)\u001B[49m\u001B[43m)\u001B[49m\n\u001B[0;32m     28\u001B[0m     \u001B[38;5;28;01mexcept\u001B[39;00m \u001B[38;5;167;01mStopAsyncIteration\u001B[39;00m:\n\u001B[0;32m     29\u001B[0m         \u001B[38;5;28;01mbreak\u001B[39;00m\n",
      "File \u001B[1;32mD:\\dev\\miniconda3\\envs\\langchain\\lib\\site-packages\\nest_asyncio.py:30\u001B[0m, in \u001B[0;36m_patch_asyncio.<locals>.run\u001B[1;34m(main, debug)\u001B[0m\n\u001B[0;32m     28\u001B[0m task \u001B[38;5;241m=\u001B[39m asyncio\u001B[38;5;241m.\u001B[39mensure_future(main)\n\u001B[0;32m     29\u001B[0m \u001B[38;5;28;01mtry\u001B[39;00m:\n\u001B[1;32m---> 30\u001B[0m     \u001B[38;5;28;01mreturn\u001B[39;00m \u001B[43mloop\u001B[49m\u001B[38;5;241;43m.\u001B[39;49m\u001B[43mrun_until_complete\u001B[49m\u001B[43m(\u001B[49m\u001B[43mtask\u001B[49m\u001B[43m)\u001B[49m\n\u001B[0;32m     31\u001B[0m \u001B[38;5;28;01mfinally\u001B[39;00m:\n\u001B[0;32m     32\u001B[0m     \u001B[38;5;28;01mif\u001B[39;00m \u001B[38;5;129;01mnot\u001B[39;00m task\u001B[38;5;241m.\u001B[39mdone():\n",
      "File \u001B[1;32mD:\\dev\\miniconda3\\envs\\langchain\\lib\\site-packages\\nest_asyncio.py:98\u001B[0m, in \u001B[0;36m_patch_loop.<locals>.run_until_complete\u001B[1;34m(self, future)\u001B[0m\n\u001B[0;32m     95\u001B[0m \u001B[38;5;28;01mif\u001B[39;00m \u001B[38;5;129;01mnot\u001B[39;00m f\u001B[38;5;241m.\u001B[39mdone():\n\u001B[0;32m     96\u001B[0m     \u001B[38;5;28;01mraise\u001B[39;00m \u001B[38;5;167;01mRuntimeError\u001B[39;00m(\n\u001B[0;32m     97\u001B[0m         \u001B[38;5;124m'\u001B[39m\u001B[38;5;124mEvent loop stopped before Future completed.\u001B[39m\u001B[38;5;124m'\u001B[39m)\n\u001B[1;32m---> 98\u001B[0m \u001B[38;5;28;01mreturn\u001B[39;00m \u001B[43mf\u001B[49m\u001B[38;5;241;43m.\u001B[39;49m\u001B[43mresult\u001B[49m\u001B[43m(\u001B[49m\u001B[43m)\u001B[49m\n",
      "File \u001B[1;32mD:\\dev\\miniconda3\\envs\\langchain\\lib\\asyncio\\futures.py:201\u001B[0m, in \u001B[0;36mFuture.result\u001B[1;34m(self)\u001B[0m\n\u001B[0;32m    199\u001B[0m \u001B[38;5;28mself\u001B[39m\u001B[38;5;241m.\u001B[39m__log_traceback \u001B[38;5;241m=\u001B[39m \u001B[38;5;28;01mFalse\u001B[39;00m\n\u001B[0;32m    200\u001B[0m \u001B[38;5;28;01mif\u001B[39;00m \u001B[38;5;28mself\u001B[39m\u001B[38;5;241m.\u001B[39m_exception \u001B[38;5;129;01mis\u001B[39;00m \u001B[38;5;129;01mnot\u001B[39;00m \u001B[38;5;28;01mNone\u001B[39;00m:\n\u001B[1;32m--> 201\u001B[0m     \u001B[38;5;28;01mraise\u001B[39;00m \u001B[38;5;28mself\u001B[39m\u001B[38;5;241m.\u001B[39m_exception\u001B[38;5;241m.\u001B[39mwith_traceback(\u001B[38;5;28mself\u001B[39m\u001B[38;5;241m.\u001B[39m_exception_tb)\n\u001B[0;32m    202\u001B[0m \u001B[38;5;28;01mreturn\u001B[39;00m \u001B[38;5;28mself\u001B[39m\u001B[38;5;241m.\u001B[39m_result\n",
      "File \u001B[1;32mD:\\dev\\miniconda3\\envs\\langchain\\lib\\asyncio\\tasks.py:232\u001B[0m, in \u001B[0;36mTask.__step\u001B[1;34m(***failed resolving arguments***)\u001B[0m\n\u001B[0;32m    228\u001B[0m \u001B[38;5;28;01mtry\u001B[39;00m:\n\u001B[0;32m    229\u001B[0m     \u001B[38;5;28;01mif\u001B[39;00m exc \u001B[38;5;129;01mis\u001B[39;00m \u001B[38;5;28;01mNone\u001B[39;00m:\n\u001B[0;32m    230\u001B[0m         \u001B[38;5;66;03m# We use the `send` method directly, because coroutines\u001B[39;00m\n\u001B[0;32m    231\u001B[0m         \u001B[38;5;66;03m# don't have `__iter__` and `__next__` methods.\u001B[39;00m\n\u001B[1;32m--> 232\u001B[0m         result \u001B[38;5;241m=\u001B[39m \u001B[43mcoro\u001B[49m\u001B[38;5;241;43m.\u001B[39;49m\u001B[43msend\u001B[49m\u001B[43m(\u001B[49m\u001B[38;5;28;43;01mNone\u001B[39;49;00m\u001B[43m)\u001B[49m\n\u001B[0;32m    233\u001B[0m     \u001B[38;5;28;01melse\u001B[39;00m:\n\u001B[0;32m    234\u001B[0m         result \u001B[38;5;241m=\u001B[39m coro\u001B[38;5;241m.\u001B[39mthrow(exc)\n",
      "File \u001B[1;32mD:\\dev\\miniconda3\\envs\\langchain\\lib\\site-packages\\duckduckgo_search\\duckduckgo_search_async.py:101\u001B[0m, in \u001B[0;36mAsyncDDGS.text\u001B[1;34m(self, keywords, region, safesearch, timelimit, backend, max_results)\u001B[0m\n\u001B[0;32m     98\u001B[0m \u001B[38;5;28;01melif\u001B[39;00m backend \u001B[38;5;241m==\u001B[39m \u001B[38;5;124m\"\u001B[39m\u001B[38;5;124mlite\u001B[39m\u001B[38;5;124m\"\u001B[39m:\n\u001B[0;32m     99\u001B[0m     results \u001B[38;5;241m=\u001B[39m \u001B[38;5;28mself\u001B[39m\u001B[38;5;241m.\u001B[39m_text_lite(keywords, region, timelimit, max_results)\n\u001B[1;32m--> 101\u001B[0m \u001B[38;5;28;01masync\u001B[39;00m \u001B[38;5;28;01mfor\u001B[39;00m result \u001B[38;5;129;01min\u001B[39;00m results:\n\u001B[0;32m    102\u001B[0m     \u001B[38;5;28;01myield\u001B[39;00m result\n",
      "File \u001B[1;32mD:\\dev\\miniconda3\\envs\\langchain\\lib\\site-packages\\duckduckgo_search\\duckduckgo_search_async.py:127\u001B[0m, in \u001B[0;36mAsyncDDGS._text_api\u001B[1;34m(self, keywords, region, safesearch, timelimit, max_results)\u001B[0m\n\u001B[0;32m    112\u001B[0m \u001B[38;5;250m\u001B[39m\u001B[38;5;124;03m\"\"\"DuckDuckGo text search generator. Query params: https://duckduckgo.com/params.\u001B[39;00m\n\u001B[0;32m    113\u001B[0m \n\u001B[0;32m    114\u001B[0m \u001B[38;5;124;03mArgs:\u001B[39;00m\n\u001B[1;32m   (...)\u001B[0m\n\u001B[0;32m    123\u001B[0m \n\u001B[0;32m    124\u001B[0m \u001B[38;5;124;03m\"\"\"\u001B[39;00m\n\u001B[0;32m    125\u001B[0m \u001B[38;5;28;01massert\u001B[39;00m keywords, \u001B[38;5;124m\"\u001B[39m\u001B[38;5;124mkeywords is mandatory\u001B[39m\u001B[38;5;124m\"\u001B[39m\n\u001B[1;32m--> 127\u001B[0m vqd \u001B[38;5;241m=\u001B[39m \u001B[38;5;28;01mawait\u001B[39;00m \u001B[38;5;28mself\u001B[39m\u001B[38;5;241m.\u001B[39m_aget_vqd(keywords)\n\u001B[0;32m    129\u001B[0m payload \u001B[38;5;241m=\u001B[39m {\n\u001B[0;32m    130\u001B[0m     \u001B[38;5;124m\"\u001B[39m\u001B[38;5;124mq\u001B[39m\u001B[38;5;124m\"\u001B[39m: keywords,\n\u001B[0;32m    131\u001B[0m     \u001B[38;5;124m\"\u001B[39m\u001B[38;5;124mkl\u001B[39m\u001B[38;5;124m\"\u001B[39m: region,\n\u001B[1;32m   (...)\u001B[0m\n\u001B[0;32m    138\u001B[0m     \u001B[38;5;124m\"\u001B[39m\u001B[38;5;124msp\u001B[39m\u001B[38;5;124m\"\u001B[39m: \u001B[38;5;124m\"\u001B[39m\u001B[38;5;124m0\u001B[39m\u001B[38;5;124m\"\u001B[39m,\n\u001B[0;32m    139\u001B[0m }\n\u001B[0;32m    140\u001B[0m safesearch \u001B[38;5;241m=\u001B[39m safesearch\u001B[38;5;241m.\u001B[39mlower()\n",
      "File \u001B[1;32mD:\\dev\\miniconda3\\envs\\langchain\\lib\\site-packages\\duckduckgo_search\\duckduckgo_search_async.py:64\u001B[0m, in \u001B[0;36mAsyncDDGS._aget_vqd\u001B[1;34m(self, keywords)\u001B[0m\n\u001B[0;32m     62\u001B[0m \u001B[38;5;28;01masync\u001B[39;00m \u001B[38;5;28;01mdef\u001B[39;00m \u001B[38;5;21m_aget_vqd\u001B[39m(\u001B[38;5;28mself\u001B[39m, keywords: \u001B[38;5;28mstr\u001B[39m) \u001B[38;5;241m-\u001B[39m\u001B[38;5;241m>\u001B[39m Optional[\u001B[38;5;28mstr\u001B[39m]:\n\u001B[0;32m     63\u001B[0m \u001B[38;5;250m    \u001B[39m\u001B[38;5;124;03m\"\"\"Get vqd value for a search query.\"\"\"\u001B[39;00m\n\u001B[1;32m---> 64\u001B[0m     resp_content \u001B[38;5;241m=\u001B[39m \u001B[38;5;28;01mawait\u001B[39;00m \u001B[38;5;28mself\u001B[39m\u001B[38;5;241m.\u001B[39m_aget_url(\u001B[38;5;124m\"\u001B[39m\u001B[38;5;124mPOST\u001B[39m\u001B[38;5;124m\"\u001B[39m, \u001B[38;5;124m\"\u001B[39m\u001B[38;5;124mhttps://duckduckgo.com\u001B[39m\u001B[38;5;124m\"\u001B[39m, data\u001B[38;5;241m=\u001B[39m{\u001B[38;5;124m\"\u001B[39m\u001B[38;5;124mq\u001B[39m\u001B[38;5;124m\"\u001B[39m: keywords})\n\u001B[0;32m     65\u001B[0m     \u001B[38;5;28;01mif\u001B[39;00m resp_content:\n\u001B[0;32m     66\u001B[0m         \u001B[38;5;28;01mreturn\u001B[39;00m _extract_vqd(resp_content, keywords)\n",
      "File \u001B[1;32mD:\\dev\\miniconda3\\envs\\langchain\\lib\\site-packages\\duckduckgo_search\\duckduckgo_search_async.py:60\u001B[0m, in \u001B[0;36mAsyncDDGS._aget_url\u001B[1;34m(self, method, url, **kwargs)\u001B[0m\n\u001B[0;32m     58\u001B[0m         \u001B[38;5;28;01mreturn\u001B[39;00m resp_content\n\u001B[0;32m     59\u001B[0m \u001B[38;5;28;01mexcept\u001B[39;00m \u001B[38;5;167;01mException\u001B[39;00m \u001B[38;5;28;01mas\u001B[39;00m ex:\n\u001B[1;32m---> 60\u001B[0m     \u001B[38;5;28;01mraise\u001B[39;00m DuckDuckGoSearchException(\u001B[38;5;124mf\u001B[39m\u001B[38;5;124m\"\u001B[39m\u001B[38;5;124m_aget_url() \u001B[39m\u001B[38;5;132;01m{\u001B[39;00murl\u001B[38;5;132;01m}\u001B[39;00m\u001B[38;5;124m \u001B[39m\u001B[38;5;132;01m{\u001B[39;00m\u001B[38;5;28mtype\u001B[39m(ex)\u001B[38;5;241m.\u001B[39m\u001B[38;5;18m__name__\u001B[39m\u001B[38;5;132;01m}\u001B[39;00m\u001B[38;5;124m: \u001B[39m\u001B[38;5;132;01m{\u001B[39;00mex\u001B[38;5;132;01m}\u001B[39;00m\u001B[38;5;124m\"\u001B[39m) \u001B[38;5;28;01mfrom\u001B[39;00m \u001B[38;5;21;01mex\u001B[39;00m\n",
      "\u001B[1;31mDuckDuckGoSearchException\u001B[0m: _aget_url() https://duckduckgo.com RequestsError: Failed to perform, ErrCode: 28, Reason: 'Failed to connect to duckduckgo.com port 443 after 21049 ms: Couldn't connect to server'. This may be a libcurl error, See https://curl.se/libcurl/c/libcurl-errors.html first for more details."
     ]
    }
   ],
   "source": [
    "from langchain.tools import DuckDuckGoSearchRun\n",
    "\n",
    "search = DuckDuckGoSearchRun()\n",
    "search.run(\"Obama's first name?\")"
   ],
   "metadata": {
    "collapsed": false,
    "pycharm": {
     "name": "#%%\n"
    }
   }
  },
  {
   "cell_type": "code",
   "execution_count": 8,
   "outputs": [
    {
     "data": {
      "text/plain": "['requests',\n 'requests_get',\n 'requests_post',\n 'requests_patch',\n 'requests_put',\n 'requests_delete',\n 'terminal',\n 'sleep',\n 'wolfram-alpha',\n 'google-search',\n 'google-search-results-json',\n 'searx-search-results-json',\n 'bing-search',\n 'metaphor-search',\n 'ddg-search',\n 'google-lens',\n 'google-serper',\n 'google-scholar',\n 'google-finance',\n 'google-trends',\n 'google-jobs',\n 'google-serper-results-json',\n 'searchapi',\n 'searchapi-results-json',\n 'serpapi',\n 'dalle-image-generator',\n 'twilio',\n 'searx-search',\n 'merriam-webster',\n 'wikipedia',\n 'arxiv',\n 'golden-query',\n 'pubmed',\n 'human',\n 'awslambda',\n 'stackexchange',\n 'sceneXplain',\n 'graphql',\n 'openweathermap-api',\n 'dataforseo-api-search',\n 'dataforseo-api-search-json',\n 'eleven_labs_text2speech',\n 'google_cloud_texttospeech',\n 'reddit_search',\n 'news-api',\n 'tmdb-api',\n 'podcast-api',\n 'memorize',\n 'llm-math',\n 'open-meteo-api']"
     },
     "execution_count": 8,
     "metadata": {},
     "output_type": "execute_result"
    }
   ],
   "source": [
    "from langchain.agents import get_all_tool_names\n",
    "\n",
    "get_all_tool_names()"
   ],
   "metadata": {
    "collapsed": false,
    "pycharm": {
     "name": "#%%\n"
    }
   }
  },
  {
   "cell_type": "code",
   "execution_count": 9,
   "outputs": [
    {
     "data": {
      "text/plain": "[{'url': 'https://baike.baidu.com/item/2018年俄罗斯世界杯决赛/22726482',\n  'content': '2018年俄罗斯世界杯决赛于北京时间2018年7月15日23时在俄罗斯 莫斯科 的 卢日尼基体育场 进行，以决定冠军归属，法国队凭借 格列兹曼 、 博格巴 和 姆巴佩 的进球，最终以4比2击败 克罗地亚队 ，时隔20年后第二次获得世界杯冠军，6次参加重大赛事决赛（3次 欧洲杯 、3次世界杯）取得4次冠军。 德尚 成为历史上第三位分别以球员和教练身份获得世界杯冠军的人。 姆巴佩在决赛中打入本届杯赛的第4个入球，成为历史上第二个在 世界杯决赛 中破门的20岁以下球员。 [1] 中文名 2018年俄罗斯世界杯决赛 外文名 2018 FIFA World Cup Final 举办地点 莫斯科 卢日尼基体育场 主办机构 国际足球联合会 举办时间 北京时间2018年7月15日23:00 目录'},\n {'url': 'https://www.guancha.cn/sports/2018_07_15_464221.shtml',\n  'content': '决赛在莫斯科卢日尼基体育场打响巅峰之战上演，法国对阵克罗地亚，双方早前公布了本场比赛的首发阵容。 据@FIFA世界杯消息，法国首发：1-洛里、2-帕瓦尔、4-瓦拉内、5-乌姆蒂蒂、21-卢卡斯-埃尔南德斯、6-博格巴、13-坎特、14-马图伊迪、7-格里茨曼、9-吉鲁、10-姆巴佩 替补：替补：16-曼丹达、23-阿雷奥拉、3-金彭贝、17-拉米、19-西迪贝、22-门迪、12-托利索、15-恩宗齐、8-勒马尔、11-登贝莱、18-费基尔、20-托万 克罗地亚首发：23-苏巴西奇、2-福萨里科、3-斯特里尼奇、6-洛夫伦、21-维达、7-拉基蒂奇、10-莫德里奇、11-布罗佐维奇、4-佩里西奇、17-曼朱基奇、18-雷比奇'},\n {'url': 'https://zh.wikipedia.org/zh-sg/2018年國際足協世界盃決賽',\n  'content': '2018年国际足总世界杯决赛 于2018年7月15日当地时间下午6时在俄罗斯 莫斯科 卢日尼基体育场 举行，以决出 2018年国际足总世界杯 的冠军归属 [4] 。 比赛由 法国 对 克罗地亚 ，这是世界杯历史上第9次由两支欧洲球队争夺冠军。 同时，这是法国继 1998年 和 2006年 后再次晋级决赛，而克罗地亚则是首次参与 世界杯决赛 （包括独立前的 南斯拉夫 亦从未晋级决赛）。 法国于这场比赛中胜出，获得 2021年联合会杯 的参赛资格（但联合会杯于2017年举办最后一届后停办）。 最终，法国以4-2击败克罗地亚，继1998年后再次问鼎世界杯冠军。 同时，自世界杯改为32队参赛后，法国成为继 2002年 的 巴西 后另一支于淘汰赛阶段无须通过 加时赛 和 点球大战 就能赢得冠军的球队。'},\n {'url': 'https://www.bbc.com/zhongwen/simp/44821014',\n  'content': 'Getty Images 法国队在大雨中高举奖杯 周日（7月15日），在莫斯科卢日尼基体育场上演了一场扣人心弦的精彩决赛。 终场，法国以4-2击败了表现顽强的克罗地亚，赢得2018年世界杯，这也是法国第二次夺得世界杯冠军，上一次是1998年法国世界杯。...'},\n {'url': 'https://baike.baidu.com/item/2018年俄罗斯世界杯/10120749',\n  'content': '克罗地亚中场 卢卡·莫德里奇 、英格兰中锋 哈里·凯恩 、比利时门将 蒂博·库尔图瓦 分别收获金球奖、金靴奖、金手套奖；法国前锋 基利安·姆巴佩 则获得最佳新秀奖。 [2] 中文名 2018年俄罗斯世界杯 外文名 2018 FIFA World Cup Russia [60] （英语） Чемпиона́т ми́ра по футбо́лу FIFA 2018（俄语） 举办时间 2018年6月14日 至 2018年7月15日 举办地点 俄罗斯 赛事类型 国际性足球赛事 主办机构 国际足球联合会 参赛球队 32支 比赛场次 64场 赛事冠军 法国国家男子足球队 目录 1 赛事筹备 申办过程 分组抽签 裁判名单 2 赛事阵容 3 赛事场地 4 赛事进程'}]"
     },
     "execution_count": 9,
     "metadata": {},
     "output_type": "execute_result"
    }
   ],
   "source": [
    "from langchain_community.tools.tavily_search import TavilySearchResults\n",
    "\n",
    "search = TavilySearchResults()\n",
    "search.run(\"2018年世界杯冠军是谁？\")"
   ],
   "metadata": {
    "collapsed": false,
    "pycharm": {
     "name": "#%%\n"
    }
   }
  },
  {
   "cell_type": "code",
   "execution_count": 15,
   "outputs": [
    {
     "name": "stdout",
     "output_type": "stream",
     "text": [
      "\n",
      "\n",
      "\u001B[1m> Entering new AgentExecutor chain...\u001B[0m\n",
      "\u001B[32;1m\u001B[1;3mWe can use the search engine to find the heights of both towers.\n",
      "Action: tavily_search_results_json\n",
      "Action Input: \"height of Eiffel Tower\"\u001B[0m\n",
      "Observation: \u001B[36;1m\u001B[1;3m[{'url': 'https://www.reuters.com/lifestyle/joy-maker-tallest-matchstick-eiffel-tower-record-refusal-reversed-2024-02-08/', 'content': 'Guinness World Records on Thursday told Frenchman Richard Plaud that his 7.2-metre (23.6 ft) matchstick Eiffel Tower was a record height, a day after initially rejecting it for using the wrong ...'}, {'url': 'https://en.wikipedia.org/wiki/Eiffel_Tower', 'content': 'Eiffel was similarly unworried, pointing out to a journalist that it was premature to judge the effect of the tower solely on the basis of the drawings, that the Champ de Mars was distant enough from the monuments mentioned in the protest for there to be little risk of the tower overwhelming them, and putting the aesthetic argument for the tower: \"Do not the laws of natural forces always conform to the secret laws of harmony?\"[17]\\nSome of the protesters changed their minds when the tower was built; others remained unconvinced.[18] Guy de Maupassant supposedly ate lunch in the tower\\'s restaurant every day because it was the one place in Paris where the tower was not visible.[19]\\nBy 1918, it had become a symbol of Paris and of France after Guillaume Apollinaire wrote a nationalist poem in the shape of the tower (a calligram) to express his feelings about the war against Germany.[20] The most recent, devised in 2004 after letters sent by Eiffel to the French Society of Civil Engineers in 1885 were translated into English, is described as a non-linear integral equation based on counteracting the wind pressure on any point of the tower with the tension between the construction elements at that point.[69]\\nThe Eiffel Tower sways by up to 9\\xa0cm (3.5\\xa0in) in the wind.[71]\\nFloors\\nThe four columns of the tower each house access stairs and elevators to the first two floors, while at the south column only the elevator to the second floor restaurant is publicly accessible.\\n A glass floor was installed on the first level during the 2014 refurbishment.[63]\\nDesign\\nMaterial\\nThe puddle iron (wrought iron) of the Eiffel Tower weighs 7,300 tonnes,[64] and the addition of lifts, shops and antennae have brought the total weight to approximately 10,100\\xa0tonnes.[65] As a demonstration of the economy of design, if the 7,300\\xa0tonnes of metal in the structure were melted down, it would fill the square base, 125 metres (410\\xa0ft) on each side, to a depth of only 6.25\\xa0cm (2.46\\xa0in) assuming the density of the metal to be 7.8\\xa0tonnes per cubic metre.[66] His aircraft became entangled in an aerial belonging to a wireless station.[43] A bust of Gustave Eiffel by Antoine Bourdelle was unveiled at the base of the north leg on 2 May 1929.[44] In 1930, the tower lost the title of the world\\'s tallest structure when the Chrysler Building in New York City was completed.[45] In 1938, the decorative arcade around the first level was removed.[46]\\nUpon the German occupation of Paris in 1940, the lift cables were cut by the French. The tower was an instant success with the public, and nearly 30,000 visitors made the 1,710-step climb to the top before the lifts entered service on 26 May.[29]\\nTickets cost 2 francs for the first level, 3 for the second, and 5 for the top, with half-price admission on Sundays,[30] and by the end of the exhibition there had been 1,896,987 visitors.[4]\\nAfter dark, the tower was lit by hundreds of gas lamps, and a beacon sent out three beams of red, white and blue light.'}, {'url': 'https://www.skyscrapercenter.com/building/wd/9410', 'content': \"Research\\n24 August 2015\\nCTBUH Research\\nPerhaps no element of a tall building is more closely related to the pure pleasure of standing high in the sky and taking in the...\\n27 January 2012\\nAdrian Smith, Adrian Smith + Gordon Gill Architecture; Paul Beitler, Beitler Real Estate Services LLC\\nIn 1990, only 11 buildings in the world could be counted as a â€œsupertallâ€� (defined as a building over 300 meters tall), and all but...\\n24 August 2015\\nCTBUH Research\\nPerhaps no element of a tall building is more closely related to the pure pleasure of standing high in the sky and taking in the...\\n27 January 2012\\nAdrian Smith, Adrian Smith + Gordon Gill Architecture; Paul Beitler, Beitler Real Estate Services LLC\\nIn 1990, only 11 buildings in the world could be counted as a â€œsupertallâ€� (defined as a building over 300 meters tall), and all but...\\nThere are no results for your search query. Eiffel Tower\\nTour Eiffel\\nTower\\nCompleted\\n1889\\nFrance\\nParis\\nChamp de Mars\\nTelecommunications / Observation\\nAll-Iron\\nEiffel Tower\\n300\\xa0m\\n/ 984\\xa0ft\\n3\\n8\\n2.08\\xa0m/s\\nConstruction Schedule\\nConstruction Start\\nCompleted\\nRetrofit Start\\nRetrofit End\\nRecladding\\nMaterial Supplier refers to organizations which supplied significant systems/materials for a building project (e.g. elevator suppliers, facade suppliers, etc).\\n Ron Klemencic, Magnusson Klemencic Associates; Karl Almstead, Turner Construction Company; Andrew Nicholson, CBRE; Jon Pickard, Pickard Chilton; Ian Smith,...\\nResearch\\n24 August 2015\\nCTBUH Research\\nPerhaps no element of a tall building is more closely related to the pure pleasure of standing high in the sky and taking in the...\\nGlobal News\\n04 October 2022\\n The Paris mayor's office has abandoned plans for new buildings—including a cafe, shops, and baggage drop—around the base of the Eiffel Tower following months of...\\nAbout Eiffel Tower\\nEiffel Tower is composed of over 18,000 pieces of metalwork, predominantly made of wrought iron.\\n The landmark, located in Paris' Seventh Arrondissement, has been...\\n23 May 2019\\nBritish landscape architecture studio Gustafson Porter + Bowman is redesigning the surroundings of the Eiffel Tower in Paris in advance of the Paris 2024 Olympic...\\n04 October 2022\\n\"}, {'url': 'https://nypost.com/2024/02/09/lifestyle/frenchman-richard-plaud-maker-of-tallest-matchstick-eiffel-tower-has-record-refusal-reversed-by-guinness-world-records/', 'content': 'Richard Plaud, who built a model of the Eiffel Tower using 706,900 matchsticks poses next to his structure in Saujon, France, on Jan. 7, 2024. via REUTERS It took Plaud 4,200 hours over eight ...'}, {'url': 'https://www.britannica.com/topic/Eiffel-Tower-Paris-France', 'content': 'Because of their unique shape, which was dictated partly by engineering considerations but also partly by Eiffel’s artistic sense, the piers required elevators to ascend on a curve; the glass-cage machines designed by the Otis Elevator Company of the United States became one of the principal features of the building, helping establish it as one of the world’s premier tourist attractions.\\n Situated on the “Left Bank,” meaning it is to the south of the Seine River, the storied 7th arrondissement neighbourhood in Paris is home to many other famous tourist attractions, such as the Musée d’Orsay and the Rodin Museum.\\n The Eiffel Tower was the tallest structure in the world until the topping off of the Chrysler Building in New York City in 1929. When the French government was organizing the International Exposition of 1889 to celebrate the centenary of the French Revolution, a competition was held for designs for a suitable monument. When the French government was organizing the International Exposition of 1889 to celebrate the centenary of the French Revolution, a competition was held for designs for a suitable monument.'}]\u001B[0m\n",
      "Thought:\u001B[32;1m\u001B[1;3mThe search results did not give the exact height of the Eiffel Tower. Let's try another search to find the height of the Taipei 101 Tower.\n",
      "Action: tavily_search_results_json\n",
      "Action Input: \"height of Taipei 101 Tower\"\u001B[0m\n",
      "Observation: \u001B[36;1m\u001B[1;3m[{'url': 'https://thetowerinfo.com/buildings-list/taipei-101/', 'content': \"Below are 8 key facts about the building: 1. Taipei 101 stands 508 meters (1667 feet) tall, it's the first building on the planet that breaks half kilometer mark, and had been the tallest building in the world since 2004, until in 2009 when Burj Khalifa was built.\"}, {'url': 'https://skyscraper.org/tallest-towers/taipei-101/', 'content': 'Height: 1,671 ft (509 m) Location: Taipei, Taiwan Developer: Taipei Financial Center Corporation Architect: C.Y. Lee & Partners Engineer: Thornton-Tomasetti Engineers, Evergreen Consulting Engineering, Inc. Ground Breaking: January 1998 Topping Out: July 1st, 2003. Spire Completed: October 2003. Open to the public: November 2003 Status: Extant Taipei 101 Taipei 101 officially…'}, {'url': 'https://www.skyscrapercenter.com/building/taipei-101/117', 'content': '508 m / 1,667 ft 3 Occupied: Height is measured from the level of the lowest, significant, open-air, pedestrian entrance to the highest occupied floor within the building. 438 m / 1,437 ft 1 2 3 Floors Above Ground'}, {'url': 'https://www.chinahighlights.com/taiwan/attraction/taipei-101-tower.htm', 'content': 'With a height of 1667 feet or 508 meters, Taipei 101 has the distinction of being the third tallest building in the world, and tallest outside the Middle East. Its spire adds to its height, and the total makes it higher than the Kuala Lumpur Petronas Twin Towers.'}, {'url': 'https://en.wikipedia.org/wiki/Taipei_101', 'content': \"The height of the building was still 449.2 meters at the time. Planning for Taipei 101 began in July 1997 [2] during Chen Shui-bian 's term as Taipei mayor. Talks between merchants and city government officials initially centered on a proposal for a 66-story tower to serve as an anchor for new development in Taipei's 101 business district.\"}]\u001B[0m\n",
      "Thought:\u001B[32;1m\u001B[1;3mThe Taipei 101 Tower is 508 meters tall. Now we can calculate the height difference between the Eiffel Tower and the Taipei 101 Tower.\n",
      "Action: Calculator\n",
      "Action Input: 508 - 300\u001B[0m\n",
      "Observation: \u001B[33;1m\u001B[1;3mAnswer: 208\u001B[0m\n",
      "Thought:\u001B[32;1m\u001B[1;3mI now know the final answer\n",
      "Final Answer: The height of the Taipei 101 Tower is 208 meters taller than the Eiffel Tower.\u001B[0m\n",
      "\n",
      "\u001B[1m> Finished chain.\u001B[0m\n"
     ]
    },
    {
     "data": {
      "text/plain": "'The height of the Taipei 101 Tower is 208 meters taller than the Eiffel Tower.'"
     },
     "execution_count": 15,
     "metadata": {},
     "output_type": "execute_result"
    }
   ],
   "source": [
    "from langchain.callbacks import StdOutCallbackHandler\n",
    "from langchain.agents import load_tools, initialize_agent, AgentType\n",
    "from langchain_openai import ChatOpenAI\n",
    "\n",
    "llm = ChatOpenAI(callbacks=[StdOutCallbackHandler()])\n",
    "\n",
    "tools = load_tools([\"llm-math\"], llm = llm)\n",
    "agent = initialize_agent([search, tools[0]], llm, agent=AgentType.ZERO_SHOT_REACT_DESCRIPTION, verbose=True)\n",
    "agent.run(\"What is the height difference between Eiffel Tower and Taiwan 101 Tower\")"
   ],
   "metadata": {
    "collapsed": false,
    "pycharm": {
     "name": "#%%\n"
    }
   }
  }
 ],
 "metadata": {
  "kernelspec": {
   "display_name": "Python 3",
   "language": "python",
   "name": "python3"
  },
  "language_info": {
   "codemirror_mode": {
    "name": "ipython",
    "version": 2
   },
   "file_extension": ".py",
   "mimetype": "text/x-python",
   "name": "python",
   "nbconvert_exporter": "python",
   "pygments_lexer": "ipython2",
   "version": "2.7.6"
  }
 },
 "nbformat": 4,
 "nbformat_minor": 0
}