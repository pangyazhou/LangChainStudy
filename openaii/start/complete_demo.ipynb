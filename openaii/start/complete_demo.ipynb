{
 "cells": [
  {
   "cell_type": "markdown",
   "source": [
    "# 一个完整的知识库问答示例"
   ],
   "metadata": {
    "collapsed": false,
    "pycharm": {
     "name": "#%% md\n"
    }
   }
  },
  {
   "cell_type": "code",
   "execution_count": 2,
   "outputs": [],
   "source": [
    "PDF_NAME = 'serverless-core.pdf'"
   ],
   "metadata": {
    "collapsed": false,
    "pycharm": {
     "name": "#%%\n"
    }
   }
  },
  {
   "cell_type": "markdown",
   "source": [
    "加载PDF文档"
   ],
   "metadata": {
    "collapsed": false,
    "pycharm": {
     "name": "#%% md\n"
    }
   }
  },
  {
   "cell_type": "code",
   "execution_count": 3,
   "outputs": [
    {
     "name": "stdout",
     "output_type": "stream",
     "text": [
      "There are 113 document(s) in serverless-core.pdf.\n",
      "There are 112 characters in the first page of your document.\n"
     ]
    }
   ],
   "source": [
    "from langchain.document_loaders import PyMuPDFLoader\n",
    "docs = PyMuPDFLoader(PDF_NAME).load()\n",
    "\n",
    "print (f'There are {len(docs)} document(s) in {PDF_NAME}.')\n",
    "print (f'There are {len(docs[0].page_content)} characters in the first page of your document.')"
   ],
   "metadata": {
    "collapsed": false,
    "pycharm": {
     "name": "#%%\n"
    }
   }
  },
  {
   "cell_type": "markdown",
   "source": [
    "拆分文档并存储文本嵌入的向量数据"
   ],
   "metadata": {
    "collapsed": false,
    "pycharm": {
     "name": "#%% md\n"
    }
   }
  },
  {
   "cell_type": "code",
   "execution_count": 5,
   "outputs": [],
   "source": [
    "from langchain_openai import OpenAIEmbeddings\n",
    "from langchain.text_splitter import RecursiveCharacterTextSplitter\n",
    "from langchain.vectorstores import Chroma\n",
    "\n",
    "text_splitter = RecursiveCharacterTextSplitter(chunk_size=1000, chunk_overlap=200)\n",
    "split_docs = text_splitter.split_documents(docs)\n",
    "\n",
    "embeddings = OpenAIEmbeddings()\n",
    "\n",
    "vectorstore = Chroma.from_documents(split_docs, embeddings, collection_name=\"serverless_guide\")"
   ],
   "metadata": {
    "collapsed": false,
    "pycharm": {
     "name": "#%%\n"
    }
   }
  },
  {
   "cell_type": "markdown",
   "source": [
    "基于OpenAI创建QA链"
   ],
   "metadata": {
    "collapsed": false,
    "pycharm": {
     "name": "#%% md\n"
    }
   }
  },
  {
   "cell_type": "code",
   "execution_count": 7,
   "outputs": [],
   "source": [
    "from langchain_openai import OpenAI\n",
    "from langchain.chains.question_answering import load_qa_chain\n",
    "\n",
    "llm = OpenAI(temperature=0)\n",
    "chain = load_qa_chain(llm, chain_type=\"stuff\")"
   ],
   "metadata": {
    "collapsed": false,
    "pycharm": {
     "name": "#%%\n"
    }
   }
  },
  {
   "cell_type": "markdown",
   "source": [
    "提问，进行相似性查询"
   ],
   "metadata": {
    "collapsed": false,
    "pycharm": {
     "name": "#%% md\n"
    }
   }
  },
  {
   "cell_type": "code",
   "execution_count": 9,
   "outputs": [],
   "source": [
    "query = \"What is the use case of AWS Serverless?\"\n",
    "similar_docs = vectorstore.similarity_search(query, 3)"
   ],
   "metadata": {
    "collapsed": false,
    "pycharm": {
     "name": "#%%\n"
    }
   }
  },
  {
   "cell_type": "code",
   "execution_count": 10,
   "outputs": [
    {
     "data": {
      "text/plain": "[Document(page_content='Serverless\\nDeveloper Guide\\n• Mobile applications – Suppose you have a custom mobile application that produces events. \\nYou can create a Lambda function to process events published by your custom application. For \\nexample, you can conﬁgure a Lambda function to process the clicks within your custom mobile \\napplication.\\nServices you’ll likely use:\\n• AWS Lambda for compute processing tasks\\n• Amazon API Gateway for connecting and scaling inbound requests\\n• AWS Step Functions for managing and orchestrating microservice workﬂows\\n• Amazon DynamoDB & S3 for storing and retrieving data and ﬁles\\n• Amazon Cognito for authentication and authorization of users\\nStreaming\\nStreaming data allows you to gather analytical insights and act upon them, but also presents a \\nunique set of design and architectural challenges.\\nLambda and Amazon Kinesis can process real-time streaming data for application activity tracking,', metadata={'author': 'AWS', 'creationDate': 'D:20240219044710Z', 'creator': 'ZonBook XSL Stylesheets with Apache FOP', 'file_path': 'serverless-core.pdf', 'format': 'PDF 1.4', 'keywords': 'Serverless, serverless guide, getting started serverless, event-driven architecture, Lambda, API Gateway, DynamoDB, serverless, developer, guide, learn serverless, serverless, use-case, serverless, prerequisites, serverless, serverless, fundamentals, even-driven, architecture, serverless, fundamentals, serverless, developer_experience, lifecycle, deploy, packaging, serverless, hands-on, tutorial, workshop, next steps, security, serverless, compute, api, gateway, serverless, database, nosql', 'modDate': '', 'page': 11, 'producer': 'Apache FOP Version 2.6', 'source': 'serverless-core.pdf', 'subject': '', 'title': 'Serverless - Developer Guide', 'total_pages': 113, 'trapped': ''}),\n Document(page_content='Serverless\\nDeveloper Guide\\n• Mobile applications – Suppose you have a custom mobile application that produces events. \\nYou can create a Lambda function to process events published by your custom application. For \\nexample, you can conﬁgure a Lambda function to process the clicks within your custom mobile \\napplication.\\nServices you’ll likely use:\\n• AWS Lambda for compute processing tasks\\n• Amazon API Gateway for connecting and scaling inbound requests\\n• AWS Step Functions for managing and orchestrating microservice workﬂows\\n• Amazon DynamoDB & S3 for storing and retrieving data and ﬁles\\n• Amazon Cognito for authentication and authorization of users\\nStreaming\\nStreaming data allows you to gather analytical insights and act upon them, but also presents a \\nunique set of design and architectural challenges.\\nLambda and Amazon Kinesis can process real-time streaming data for application activity tracking,', metadata={'author': 'AWS', 'creationDate': 'D:20240219044710Z', 'creator': 'ZonBook XSL Stylesheets with Apache FOP', 'file_path': 'serverless-core.pdf', 'format': 'PDF 1.4', 'keywords': 'Serverless, serverless guide, getting started serverless, event-driven architecture, Lambda, API Gateway, DynamoDB, serverless, developer, guide, learn serverless, serverless, use-case, serverless, prerequisites, serverless, serverless, fundamentals, even-driven, architecture, serverless, fundamentals, serverless, developer_experience, lifecycle, deploy, packaging, serverless, hands-on, tutorial, workshop, next steps, security, serverless, compute, api, gateway, serverless, database, nosql', 'modDate': '', 'page': 11, 'producer': 'Apache FOP Version 2.6', 'source': 'serverless-core.pdf', 'subject': '', 'title': 'Serverless - Developer Guide', 'total_pages': 113, 'trapped': ''}),\n Document(page_content='Serverless\\nDeveloper Guide\\n• Image identiﬁcation — In the previous photo sharing application concept, imagine you want to \\nprovide automatic categorization of images for your users. Images will be queued for processing \\nby Amazon Rekognition. After analysis, faces are detected and your app can use similarity scores \\nto group photos by family members. Objects, scenes, activities, landmarks, and dominant colors \\nare detected and labels are applied to improve categorization and search.\\nServices you’ll likely use:\\n• AWS Lambda for compute processing tasks\\n• AWS Step Functions for managing and orchestrating microservice workﬂows\\n• Amazon Simple Notiﬁcation Service - for message delivery from publishers to subscribers, \\nplus fan out which is when a message published to a topic is replicated and pushed to multiple \\nendpoints for parallel asynchronous processing\\n• Amazon Simple Queue Service - for creating secure, durable, and available queues for \\nasynchronous processing', metadata={'author': 'AWS', 'creationDate': 'D:20240219044710Z', 'creator': 'ZonBook XSL Stylesheets with Apache FOP', 'file_path': 'serverless-core.pdf', 'format': 'PDF 1.4', 'keywords': 'Serverless, serverless guide, getting started serverless, event-driven architecture, Lambda, API Gateway, DynamoDB, serverless, developer, guide, learn serverless, serverless, use-case, serverless, prerequisites, serverless, serverless, fundamentals, even-driven, architecture, serverless, fundamentals, serverless, developer_experience, lifecycle, deploy, packaging, serverless, hands-on, tutorial, workshop, next steps, security, serverless, compute, api, gateway, serverless, database, nosql', 'modDate': '', 'page': 10, 'producer': 'Apache FOP Version 2.6', 'source': 'serverless-core.pdf', 'subject': '', 'title': 'Serverless - Developer Guide', 'total_pages': 113, 'trapped': ''})]"
     },
     "execution_count": 10,
     "metadata": {},
     "output_type": "execute_result"
    }
   ],
   "source": [
    "similar_docs"
   ],
   "metadata": {
    "collapsed": false,
    "pycharm": {
     "name": "#%%\n"
    }
   }
  },
  {
   "cell_type": "markdown",
   "source": [
    "基于相关文档，利用QA链完成回答"
   ],
   "metadata": {
    "collapsed": false,
    "pycharm": {
     "name": "#%% md\n"
    }
   }
  },
  {
   "cell_type": "code",
   "execution_count": 16,
   "outputs": [
    {
     "data": {
      "text/plain": "{'question': 'What is the use case of AWS Serverless?',\n 'input_documents': [Document(page_content='Serverless\\nDeveloper Guide\\n• Mobile applications – Suppose you have a custom mobile application that produces events. \\nYou can create a Lambda function to process events published by your custom application. For \\nexample, you can conﬁgure a Lambda function to process the clicks within your custom mobile \\napplication.\\nServices you’ll likely use:\\n• AWS Lambda for compute processing tasks\\n• Amazon API Gateway for connecting and scaling inbound requests\\n• AWS Step Functions for managing and orchestrating microservice workﬂows\\n• Amazon DynamoDB & S3 for storing and retrieving data and ﬁles\\n• Amazon Cognito for authentication and authorization of users\\nStreaming\\nStreaming data allows you to gather analytical insights and act upon them, but also presents a \\nunique set of design and architectural challenges.\\nLambda and Amazon Kinesis can process real-time streaming data for application activity tracking,', metadata={'author': 'AWS', 'creationDate': 'D:20240219044710Z', 'creator': 'ZonBook XSL Stylesheets with Apache FOP', 'file_path': 'serverless-core.pdf', 'format': 'PDF 1.4', 'keywords': 'Serverless, serverless guide, getting started serverless, event-driven architecture, Lambda, API Gateway, DynamoDB, serverless, developer, guide, learn serverless, serverless, use-case, serverless, prerequisites, serverless, serverless, fundamentals, even-driven, architecture, serverless, fundamentals, serverless, developer_experience, lifecycle, deploy, packaging, serverless, hands-on, tutorial, workshop, next steps, security, serverless, compute, api, gateway, serverless, database, nosql', 'modDate': '', 'page': 11, 'producer': 'Apache FOP Version 2.6', 'source': 'serverless-core.pdf', 'subject': '', 'title': 'Serverless - Developer Guide', 'total_pages': 113, 'trapped': ''}),\n  Document(page_content='Serverless\\nDeveloper Guide\\n• Mobile applications – Suppose you have a custom mobile application that produces events. \\nYou can create a Lambda function to process events published by your custom application. For \\nexample, you can conﬁgure a Lambda function to process the clicks within your custom mobile \\napplication.\\nServices you’ll likely use:\\n• AWS Lambda for compute processing tasks\\n• Amazon API Gateway for connecting and scaling inbound requests\\n• AWS Step Functions for managing and orchestrating microservice workﬂows\\n• Amazon DynamoDB & S3 for storing and retrieving data and ﬁles\\n• Amazon Cognito for authentication and authorization of users\\nStreaming\\nStreaming data allows you to gather analytical insights and act upon them, but also presents a \\nunique set of design and architectural challenges.\\nLambda and Amazon Kinesis can process real-time streaming data for application activity tracking,', metadata={'author': 'AWS', 'creationDate': 'D:20240219044710Z', 'creator': 'ZonBook XSL Stylesheets with Apache FOP', 'file_path': 'serverless-core.pdf', 'format': 'PDF 1.4', 'keywords': 'Serverless, serverless guide, getting started serverless, event-driven architecture, Lambda, API Gateway, DynamoDB, serverless, developer, guide, learn serverless, serverless, use-case, serverless, prerequisites, serverless, serverless, fundamentals, even-driven, architecture, serverless, fundamentals, serverless, developer_experience, lifecycle, deploy, packaging, serverless, hands-on, tutorial, workshop, next steps, security, serverless, compute, api, gateway, serverless, database, nosql', 'modDate': '', 'page': 11, 'producer': 'Apache FOP Version 2.6', 'source': 'serverless-core.pdf', 'subject': '', 'title': 'Serverless - Developer Guide', 'total_pages': 113, 'trapped': ''}),\n  Document(page_content='Serverless\\nDeveloper Guide\\n• Image identiﬁcation — In the previous photo sharing application concept, imagine you want to \\nprovide automatic categorization of images for your users. Images will be queued for processing \\nby Amazon Rekognition. After analysis, faces are detected and your app can use similarity scores \\nto group photos by family members. Objects, scenes, activities, landmarks, and dominant colors \\nare detected and labels are applied to improve categorization and search.\\nServices you’ll likely use:\\n• AWS Lambda for compute processing tasks\\n• AWS Step Functions for managing and orchestrating microservice workﬂows\\n• Amazon Simple Notiﬁcation Service - for message delivery from publishers to subscribers, \\nplus fan out which is when a message published to a topic is replicated and pushed to multiple \\nendpoints for parallel asynchronous processing\\n• Amazon Simple Queue Service - for creating secure, durable, and available queues for \\nasynchronous processing', metadata={'author': 'AWS', 'creationDate': 'D:20240219044710Z', 'creator': 'ZonBook XSL Stylesheets with Apache FOP', 'file_path': 'serverless-core.pdf', 'format': 'PDF 1.4', 'keywords': 'Serverless, serverless guide, getting started serverless, event-driven architecture, Lambda, API Gateway, DynamoDB, serverless, developer, guide, learn serverless, serverless, use-case, serverless, prerequisites, serverless, serverless, fundamentals, even-driven, architecture, serverless, fundamentals, serverless, developer_experience, lifecycle, deploy, packaging, serverless, hands-on, tutorial, workshop, next steps, security, serverless, compute, api, gateway, serverless, database, nosql', 'modDate': '', 'page': 10, 'producer': 'Apache FOP Version 2.6', 'source': 'serverless-core.pdf', 'subject': '', 'title': 'Serverless - Developer Guide', 'total_pages': 113, 'trapped': ''})],\n 'output_text': ' The use case of AWS Serverless is to process events and data in real-time, as well as manage and orchestrate microservice workflows for applications such as mobile applications and image identification. It also allows for the storage and retrieval of data and files, as well as authentication and authorization of users.'}"
     },
     "execution_count": 16,
     "metadata": {},
     "output_type": "execute_result"
    }
   ],
   "source": [
    "chain.invoke({\"question\": query, \"input_documents\": similar_docs})"
   ],
   "metadata": {
    "collapsed": false,
    "pycharm": {
     "name": "#%%\n"
    }
   }
  }
 ],
 "metadata": {
  "kernelspec": {
   "display_name": "Python 3",
   "language": "python",
   "name": "python3"
  },
  "language_info": {
   "codemirror_mode": {
    "name": "ipython",
    "version": 2
   },
   "file_extension": ".py",
   "mimetype": "text/x-python",
   "name": "python",
   "nbconvert_exporter": "python",
   "pygments_lexer": "ipython2",
   "version": "2.7.6"
  }
 },
 "nbformat": 4,
 "nbformat_minor": 0
}